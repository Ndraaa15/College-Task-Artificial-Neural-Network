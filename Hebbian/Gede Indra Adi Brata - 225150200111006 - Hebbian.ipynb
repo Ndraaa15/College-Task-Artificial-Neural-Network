{
 "cells": [
  {
   "cell_type": "markdown",
   "metadata": {},
   "source": [
    "Gede Indra Adi Brata - 225150200111006"
   ]
  },
  {
   "cell_type": "code",
   "execution_count": 51,
   "metadata": {},
   "outputs": [],
   "source": [
    "import numpy as np"
   ]
  },
  {
   "cell_type": "code",
   "execution_count": 52,
   "metadata": {},
   "outputs": [
    {
     "name": "stdout",
     "output_type": "stream",
     "text": [
      "Nilai bobot setelah pelatihan:\n",
      " [ 0.  0. -2.  0.  0. -2.  0.  0.  0.]\n",
      "Nilai bias setelah pelatihan:\n",
      " 0\n"
     ]
    }
   ],
   "source": [
    "L_input = np.array([\n",
    "    [1, -1, -1],\n",
    "    [1, -1, -1],\n",
    "    [1, 1, 1]\n",
    "])\n",
    "\n",
    "U_input = np.array([\n",
    "    [1, -1, 1],\n",
    "    [1, -1, 1],\n",
    "    [1, 1, 1]\n",
    "])\n",
    "\n",
    "L_input = L_input.flatten()\n",
    "U_input = U_input.flatten()\n",
    "\n",
    "Y_L = 1\n",
    "Y_U = -1\n",
    "\n",
    "weights = np.zeros(9)\n",
    "bias = 0\n",
    "\n",
    "\n",
    "def hebbian_learning(input_pattern, output, weights, bias):\n",
    "    delta_weights = input_pattern * output\n",
    "    weights += delta_weights\n",
    "    \n",
    "\n",
    "    bias += output\n",
    "    \n",
    "    return weights, bias\n",
    "\n",
    "\n",
    "weights, bias = hebbian_learning(L_input, Y_L, weights, bias)\n",
    "weights, bias = hebbian_learning(U_input, Y_U, weights, bias)\n",
    "\n",
    "print(\"Nilai bobot setelah pelatihan:\\n\", weights)\n",
    "print(\"Nilai bias setelah pelatihan:\\n\", bias)\n",
    "\n"
   ]
  },
  {
   "cell_type": "markdown",
   "metadata": {},
   "source": [
    "Berapa nilai dari setiap bobot dan bias pada arsitekur hebb net setelah\n",
    "melalui proses pelatihan menggunakan data tersebut ?"
   ]
  },
  {
   "cell_type": "markdown",
   "metadata": {},
   "source": [
    "Nilai bobot setelah pelatihan:\n",
    " [ 0.  0. -2.  0.  0. -2.  0.  0.  0.]\n",
    "Nilai bias setelah pelatihan:\n",
    " 0"
   ]
  },
  {
   "cell_type": "markdown",
   "metadata": {},
   "source": [
    "Apakah termasuk golongan “L” atau “U” untuk setiap data berikut ketika\n",
    "diinputkan pada arsitektur hebb net ?"
   ]
  },
  {
   "cell_type": "code",
   "execution_count": 53,
   "metadata": {},
   "outputs": [],
   "source": [
    "def activate(input_pattern, weights, bias):\n",
    "    activation = np.dot(input_pattern, weights) + bias\n",
    "    \n",
    "    return np.where(activation >= 0, 1, -1)"
   ]
  },
  {
   "cell_type": "code",
   "execution_count": 54,
   "metadata": {},
   "outputs": [],
   "source": [
    "I_input = np.array([\n",
    "    [1, 1, 1],\n",
    "    [-1, 1, -1],\n",
    "    [1, 1, 1]\n",
    "])\n",
    "\n",
    "O_input = np.array([\n",
    "    [1, 1, 1],\n",
    "    [1, -1, 1],\n",
    "    [1, 1, 1]\n",
    "])\n",
    "\n",
    "I_input = L_input.flatten()\n",
    "O_input = U_input.flatten()"
   ]
  },
  {
   "cell_type": "code",
   "execution_count": 55,
   "metadata": {},
   "outputs": [
    {
     "name": "stdout",
     "output_type": "stream",
     "text": [
      "Output untuk I_input: 1\n",
      "Output untuk O_input: -1\n"
     ]
    }
   ],
   "source": [
    "I_output = activate(I_input, weights, bias)\n",
    "O_output = activate(O_input, weights, bias)\n",
    "\n",
    "print(\"Output untuk I_input:\", I_output)\n",
    "print(\"Output untuk O_input:\", O_output)"
   ]
  },
  {
   "cell_type": "markdown",
   "metadata": {},
   "source": [
    "Sehingga data I termasuk golongan L dan data O termasuk golongan U"
   ]
  },
  {
   "cell_type": "code",
   "execution_count": 56,
   "metadata": {},
   "outputs": [],
   "source": [
    "L_input = np.array([\n",
    "    [1, -1, -1],\n",
    "    [1, -1, -1],\n",
    "    [1, 1, 1]\n",
    "])\n",
    "\n",
    "U_input = np.array([\n",
    "    [1, -1, 1],\n",
    "    [1, -1, 1],\n",
    "    [1, 1, 1]\n",
    "])\n",
    "\n",
    "L_input = L_input.flatten()\n",
    "U_input = U_input.flatten()\n",
    "L_target = 1\n",
    "U_target = -1\n"
   ]
  },
  {
   "cell_type": "code",
   "execution_count": 57,
   "metadata": {},
   "outputs": [],
   "source": [
    "def hebbian_network(inputs, target):\n",
    "  weights = np.zeros(9)\n",
    "  bias = 0\n",
    "  \n",
    "  for i, input in enumerate(inputs):\n",
    "    for j, x in enumerate(input):\n",
    "      weights[j] += x * target[i]\n",
    "    \n",
    "    bias += target[i]\n",
    "    \n",
    "  return weights, bias"
   ]
  },
  {
   "cell_type": "code",
   "execution_count": 58,
   "metadata": {},
   "outputs": [
    {
     "name": "stdout",
     "output_type": "stream",
     "text": [
      "Nilai bobot setelah pelatihan:\n",
      " [ 0.  0. -2.  0.  0. -2.  0.  0.  0.]\n",
      "Nilai bias setelah pelatihan:\n",
      " 0\n"
     ]
    }
   ],
   "source": [
    "weights, bias = hebbian_network([L_input, U_input], [L_target, U_target])\n",
    "print(\"Nilai bobot setelah pelatihan:\\n\", weights)\n",
    "print(\"Nilai bias setelah pelatihan:\\n\", bias)"
   ]
  }
 ],
 "metadata": {
  "kernelspec": {
   "display_name": "Python 3",
   "language": "python",
   "name": "python3"
  },
  "language_info": {
   "codemirror_mode": {
    "name": "ipython",
    "version": 3
   },
   "file_extension": ".py",
   "mimetype": "text/x-python",
   "name": "python",
   "nbconvert_exporter": "python",
   "pygments_lexer": "ipython3",
   "version": "3.12.5"
  }
 },
 "nbformat": 4,
 "nbformat_minor": 2
}
