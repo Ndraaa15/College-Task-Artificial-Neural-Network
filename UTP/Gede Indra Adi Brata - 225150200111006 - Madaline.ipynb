{
 "cells": [
  {
   "cell_type": "markdown",
   "metadata": {
    "id": "-bjtQIOJFQi9"
   },
   "source": [
    "# MultiVariable MADALINE Code"
   ]
  },
  {
   "cell_type": "markdown",
   "metadata": {
    "id": "9KvtIZk8EMQ_"
   },
   "source": [
    "## Load Modules"
   ]
  },
  {
   "cell_type": "code",
   "execution_count": 35,
   "metadata": {
    "id": "159rFKI7EQ6j"
   },
   "outputs": [],
   "source": [
    "import pandas as pd\n",
    "import numpy as np\n",
    "from sklearn.metrics import classification_report"
   ]
  },
  {
   "cell_type": "markdown",
   "metadata": {
    "id": "zyv0lAzHNonP"
   },
   "source": [
    "## MADALINE Code"
   ]
  },
  {
   "cell_type": "code",
   "execution_count": 36,
   "metadata": {
    "id": "oj9-qpcRFUEj"
   },
   "outputs": [],
   "source": [
    "def majority_vote(z):\n",
    "    \"\"\"Compute the majority vote of the hidden layer outputs.\"\"\"\n",
    "    return 1 if np.sum(z) >= 0 else -1\n",
    "\n",
    "def aktivasi(x):\n",
    "    \"\"\"Step function to determine the binary output (-1 or 1).\"\"\"\n",
    "    return 1 if x >= 0 else -1\n",
    "\n",
    "def train_madaline(train_data, train_target, input_neuron: int, hidden_neuron: int, alpha: float, max_epoch: int, verbose: bool=False):\n",
    "    train_data = np.array(train_data)\n",
    "    train_target = np.array(train_target)\n",
    "    w = np.random.random((input_neuron, hidden_neuron))  # Initialize weights for ADALINE units\n",
    "    b = np.random.random(hidden_neuron)       # Bias for hidden layer ADALINE units\n",
    "    b = np.append(b, 0.5)                     # Bias for the output unit\n",
    "    v = np.array([1] * hidden_neuron)         # Initialize output layer weights (all 1 for Madaline)\n",
    "    epoch = 0\n",
    "    weight_updated = True\n",
    "\n",
    "    v_aktivasi = np.vectorize(aktivasi)\n",
    "\n",
    "    while weight_updated and epoch < max_epoch:\n",
    "        weight_updated = False\n",
    "        for data, target in zip(train_data, train_target):\n",
    "            # Calculate hidden layer outputs (z_in and z)\n",
    "            z_in = np.dot(data, w) + b[:-1]\n",
    "            z = v_aktivasi(z_in)  # Activation function on hidden layer outputs\n",
    "\n",
    "            # Majority vote for output layer\n",
    "            y = majority_vote(z)\n",
    "\n",
    "            # If the majority vote output doesn't match the target, apply MR1\n",
    "            if y != target:\n",
    "                weight_updated = True\n",
    "                # We need to flip some of the ADALINE units to correct the error\n",
    "                if target == 1:\n",
    "                    # Flip the minimum number of units from -1 to 1 (i.e., from negative to positive)\n",
    "                    flip_candidates = np.where(z == -1)[0]\n",
    "                else:\n",
    "                    # Flip the minimum number of units from +1 to -1 (i.e., from positive to negative)\n",
    "                    flip_candidates = np.where(z == 1)[0]\n",
    "\n",
    "                # Select the units closest to flipping (minimal disturbance principle)\n",
    "                min_indices = np.argsort(np.abs(z_in[flip_candidates]))  # Sort by how close to flipping\n",
    "                num_to_flip = int(np.ceil(len(flip_candidates) / 2))  # Determine how many to flip (minimal number to flip majority)\n",
    "\n",
    "                for i in range(num_to_flip):\n",
    "                    selected_unit = flip_candidates[min_indices[i]]\n",
    "\n",
    "                    if target == 1:\n",
    "                        # Make the selected unit flip from -1 to 1\n",
    "                        b[selected_unit] = b[selected_unit] + alpha * (1 - z_in[selected_unit])\n",
    "                        w[:, selected_unit] = w[:, selected_unit] + alpha * (1 - z_in[selected_unit]) * data\n",
    "                    elif target == -1:\n",
    "                        # Make the selected unit flip from 1 to -1\n",
    "                        b[selected_unit] = b[selected_unit] + alpha * (-1 - z_in[selected_unit])\n",
    "                        w[:, selected_unit] = w[:, selected_unit] + alpha * (-1 - z_in[selected_unit]) * data\n",
    "\n",
    "        if verbose:\n",
    "          print(\"Weights after epoch\", epoch + 1, \":\", w)\n",
    "          print(\"Biases after epoch\", epoch + 1, \":\", b)\n",
    "\n",
    "        epoch += 1\n",
    "\n",
    "    return w, v, b\n"
   ]
  },
  {
   "cell_type": "code",
   "execution_count": 37,
   "metadata": {
    "id": "Hy7CE3-NGG1Z"
   },
   "outputs": [],
   "source": [
    "def test(w,v,b,test_data):\n",
    "  v_aktivasi = np.vectorize(aktivasi)\n",
    "  z_in = np.dot(test_data, w)\n",
    "  z_in = z_in + b[:-1]\n",
    "  z = v_aktivasi(z_in)\n",
    "  y_in = np.dot(z, v) + b[-1]\n",
    "  y = v_aktivasi(y_in)\n",
    "  return y"
   ]
  },
  {
   "cell_type": "code",
   "execution_count": 38,
   "metadata": {
    "id": "T5dvF_Lw_sL6"
   },
   "outputs": [
    {
     "name": "stdout",
     "output_type": "stream",
     "text": [
      "Weights after epoch 1 : [[0.78311343 0.02556099]\n",
      " [0.86933179 0.31503566]]\n",
      "Biases after epoch 1 : [ 0.93124343 -0.33010988  0.5       ]\n",
      "Weights after epoch 2 : [[ 0.78311343 -0.2270607 ]\n",
      " [ 0.86933179  0.06241397]]\n",
      "Biases after epoch 2 : [ 0.93124343 -0.58273157  0.5       ]\n",
      "Weights after epoch 3 : [[ 0.29530458 -0.2270607 ]\n",
      " [ 0.42666672  0.06241397]]\n",
      "Biases after epoch 3 : [ 0.1526565  -0.58273157  0.5       ]\n",
      "Weights after epoch 4 : [[ 0.50378398 -0.55037493]\n",
      " [-0.08853518  0.38572819]]\n",
      "Biases after epoch 4 : [-0.2694555  -0.25941735  0.5       ]\n",
      "Weights after epoch 5 : [[ 0.21733565 -0.55037493]\n",
      " [-0.3749835   0.38572819]]\n",
      "Biases after epoch 5 : [-0.55590383 -0.25941735  0.5       ]\n",
      "Weights after epoch 6 : [[ 0.21733565 -0.55037493]\n",
      " [-0.3749835   0.38572819]]\n",
      "Biases after epoch 6 : [-0.55590383 -0.25941735  0.5       ]\n",
      "Output: [-1  1  1 -1]\n",
      "Target: [-1  1  1 -1]\n",
      "Accuracy: 1.0\n"
     ]
    }
   ],
   "source": [
    "from sklearn.metrics import accuracy_score\n",
    "data = np.array([[1,1],[1,-1],[-1,1],[-1,-1]])\n",
    "target = np.array([-1, 1, 1,-1])\n",
    "(w,v,b) = train_madaline(data,target,input_neuron=2, hidden_neuron=2, alpha=0.25, max_epoch=10, verbose=True)\n",
    "output = test(w,v,b,data)\n",
    "accuracy = accuracy_score(output, target)\n",
    "\n",
    "print('Output:', output)\n",
    "print('Target:', target)\n",
    "print('Accuracy:', accuracy)"
   ]
  },
  {
   "cell_type": "markdown",
   "metadata": {
    "id": "6vB9yEP1Dgjg"
   },
   "source": [
    "# MADALINE Multi Variable (Breast Cancer Dataset)"
   ]
  },
  {
   "cell_type": "markdown",
   "metadata": {
    "id": "ktuBZUaHD48o"
   },
   "source": [
    "## Load dataset Breast Cancer"
   ]
  },
  {
   "cell_type": "code",
   "execution_count": 39,
   "metadata": {
    "id": "MTZqov3RDBpB"
   },
   "outputs": [],
   "source": [
    "from sklearn.datasets import load_breast_cancer\n",
    "X_cancer, y_cancer = load_breast_cancer(return_X_y=True)\n",
    "\n",
    "# Mengubah label 0 menjadi -1\n",
    "y_cancer = np.where(y_cancer == 0, -1, 1)"
   ]
  },
  {
   "cell_type": "code",
   "execution_count": 40,
   "metadata": {
    "id": "Z2wQsXihE8R_"
   },
   "outputs": [],
   "source": [
    "from sklearn.model_selection import train_test_split\n",
    "X_train_cancer, X_test_cancer, y_train_cancer, y_test_cancer = train_test_split(X_cancer, y_cancer, test_size=0.2, random_state=42, stratify=y_cancer)"
   ]
  },
  {
   "cell_type": "markdown",
   "metadata": {
    "id": "lcnIHYjDKO2E"
   },
   "source": [
    "## Preprocessing"
   ]
  },
  {
   "cell_type": "markdown",
   "metadata": {
    "id": "pFaSdHgTZYiv"
   },
   "source": [
    "Standarisasi data menggunakan StandardScaler"
   ]
  },
  {
   "cell_type": "code",
   "execution_count": 41,
   "metadata": {
    "id": "slrZqyxIKQzn"
   },
   "outputs": [
    {
     "data": {
      "text/plain": [
       "array([[-1.07200079, -0.6584246 , -1.0880801 , ..., -1.35052668,\n",
       "        -0.35265805, -0.54138003],\n",
       "       [ 1.74874285,  0.06650173,  1.75115682, ...,  1.54991557,\n",
       "         0.19107787, -0.1737386 ],\n",
       "       [-0.97473376, -0.93112416, -0.99770871, ..., -1.70744192,\n",
       "        -0.307734  , -1.21303263],\n",
       "       ...,\n",
       "       [ 0.39844772,  1.06867262,  0.50751384, ...,  1.53492543,\n",
       "         0.16164487,  1.23754763],\n",
       "       [ 0.85331409, -0.0380331 ,  0.9054796 , ...,  2.10455077,\n",
       "         0.31035897,  0.36249578],\n",
       "       [-0.91179628, -0.82431683, -0.87666079, ..., -0.51332734,\n",
       "        -0.50756857,  1.30824791]])"
      ]
     },
     "execution_count": 41,
     "metadata": {},
     "output_type": "execute_result"
    }
   ],
   "source": [
    "from sklearn.preprocessing import StandardScaler\n",
    "std_cancer = StandardScaler()\n",
    "X_train_cancer = std_cancer.fit_transform(X_train_cancer)\n",
    "X_test_cancer = std_cancer.transform(X_test_cancer)\n",
    "\n",
    "X_train_cancer"
   ]
  },
  {
   "cell_type": "markdown",
   "metadata": {
    "id": "yA5AFdUDNAf-"
   },
   "source": [
    "## Pemodelan Data"
   ]
  },
  {
   "cell_type": "code",
   "execution_count": 42,
   "metadata": {
    "id": "can6TIpKGVO4"
   },
   "outputs": [
    {
     "name": "stderr",
     "output_type": "stream",
     "text": [
      "C:\\Users\\indra\\AppData\\Local\\Temp\\ipykernel_17656\\1736094767.py:25: RuntimeWarning: overflow encountered in add\n",
      "  z_in = np.dot(data, w) + b[:-1]\n",
      "C:\\Users\\indra\\AppData\\Local\\Temp\\ipykernel_17656\\1736094767.py:52: RuntimeWarning: overflow encountered in multiply\n",
      "  w[:, selected_unit] = w[:, selected_unit] + alpha * (1 - z_in[selected_unit]) * data\n",
      "c:\\Users\\indra\\miniconda3\\Lib\\site-packages\\numpy\\lib\\function_base.py:2455: RuntimeWarning: invalid value encountered in aktivasi (vectorized)\n",
      "  outputs = ufunc(*inputs)\n",
      "C:\\Users\\indra\\AppData\\Local\\Temp\\ipykernel_17656\\1736094767.py:52: RuntimeWarning: invalid value encountered in add\n",
      "  w[:, selected_unit] = w[:, selected_unit] + alpha * (1 - z_in[selected_unit]) * data\n",
      "C:\\Users\\indra\\AppData\\Local\\Temp\\ipykernel_17656\\1736094767.py:25: RuntimeWarning: invalid value encountered in add\n",
      "  z_in = np.dot(data, w) + b[:-1]\n",
      "C:\\Users\\indra\\AppData\\Local\\Temp\\ipykernel_17656\\1736094767.py:56: RuntimeWarning: overflow encountered in multiply\n",
      "  w[:, selected_unit] = w[:, selected_unit] + alpha * (-1 - z_in[selected_unit]) * data\n",
      "c:\\Users\\indra\\miniconda3\\Lib\\site-packages\\numpy\\lib\\function_base.py:2455: RuntimeWarning: invalid value encountered in aktivasi (vectorized)\n",
      "  outputs = ufunc(*inputs)\n",
      "C:\\Users\\indra\\AppData\\Local\\Temp\\ipykernel_17656\\1736094767.py:56: RuntimeWarning: invalid value encountered in add\n",
      "  w[:, selected_unit] = w[:, selected_unit] + alpha * (-1 - z_in[selected_unit]) * data\n",
      "C:\\Users\\indra\\AppData\\Local\\Temp\\ipykernel_17656\\1736094767.py:25: RuntimeWarning: overflow encountered in add\n",
      "  z_in = np.dot(data, w) + b[:-1]\n",
      "C:\\Users\\indra\\AppData\\Local\\Temp\\ipykernel_17656\\1736094767.py:52: RuntimeWarning: overflow encountered in multiply\n",
      "  w[:, selected_unit] = w[:, selected_unit] + alpha * (1 - z_in[selected_unit]) * data\n",
      "C:\\Users\\indra\\AppData\\Local\\Temp\\ipykernel_17656\\1736094767.py:52: RuntimeWarning: invalid value encountered in add\n",
      "  w[:, selected_unit] = w[:, selected_unit] + alpha * (1 - z_in[selected_unit]) * data\n",
      "C:\\Users\\indra\\AppData\\Local\\Temp\\ipykernel_17656\\1736094767.py:25: RuntimeWarning: overflow encountered in add\n",
      "  z_in = np.dot(data, w) + b[:-1]\n",
      "c:\\Users\\indra\\miniconda3\\Lib\\site-packages\\numpy\\lib\\function_base.py:2455: RuntimeWarning: invalid value encountered in aktivasi (vectorized)\n",
      "  outputs = ufunc(*inputs)\n",
      "C:\\Users\\indra\\AppData\\Local\\Temp\\ipykernel_17656\\1736094767.py:56: RuntimeWarning: overflow encountered in multiply\n",
      "  w[:, selected_unit] = w[:, selected_unit] + alpha * (-1 - z_in[selected_unit]) * data\n",
      "C:\\Users\\indra\\AppData\\Local\\Temp\\ipykernel_17656\\1736094767.py:52: RuntimeWarning: invalid value encountered in add\n",
      "  w[:, selected_unit] = w[:, selected_unit] + alpha * (1 - z_in[selected_unit]) * data\n",
      "C:\\Users\\indra\\AppData\\Local\\Temp\\ipykernel_17656\\1736094767.py:25: RuntimeWarning: overflow encountered in add\n",
      "  z_in = np.dot(data, w) + b[:-1]\n",
      "c:\\Users\\indra\\miniconda3\\Lib\\site-packages\\numpy\\lib\\function_base.py:2455: RuntimeWarning: invalid value encountered in aktivasi (vectorized)\n",
      "  outputs = ufunc(*inputs)\n",
      "C:\\Users\\indra\\AppData\\Local\\Temp\\ipykernel_17656\\1736094767.py:56: RuntimeWarning: overflow encountered in multiply\n",
      "  w[:, selected_unit] = w[:, selected_unit] + alpha * (-1 - z_in[selected_unit]) * data\n",
      "c:\\Users\\indra\\miniconda3\\Lib\\site-packages\\numpy\\lib\\function_base.py:2455: RuntimeWarning: invalid value encountered in aktivasi (vectorized)\n",
      "  outputs = ufunc(*inputs)\n",
      "C:\\Users\\indra\\AppData\\Local\\Temp\\ipykernel_17656\\1736094767.py:25: RuntimeWarning: overflow encountered in add\n",
      "  z_in = np.dot(data, w) + b[:-1]\n",
      "C:\\Users\\indra\\AppData\\Local\\Temp\\ipykernel_17656\\1736094767.py:52: RuntimeWarning: invalid value encountered in add\n",
      "  w[:, selected_unit] = w[:, selected_unit] + alpha * (1 - z_in[selected_unit]) * data\n",
      "C:\\Users\\indra\\AppData\\Local\\Temp\\ipykernel_17656\\1736094767.py:25: RuntimeWarning: invalid value encountered in add\n",
      "  z_in = np.dot(data, w) + b[:-1]\n",
      "C:\\Users\\indra\\AppData\\Local\\Temp\\ipykernel_17656\\1736094767.py:25: RuntimeWarning: overflow encountered in add\n",
      "  z_in = np.dot(data, w) + b[:-1]\n",
      "c:\\Users\\indra\\miniconda3\\Lib\\site-packages\\numpy\\lib\\function_base.py:2455: RuntimeWarning: invalid value encountered in aktivasi (vectorized)\n",
      "  outputs = ufunc(*inputs)\n",
      "C:\\Users\\indra\\AppData\\Local\\Temp\\ipykernel_17656\\1736094767.py:25: RuntimeWarning: overflow encountered in add\n",
      "  z_in = np.dot(data, w) + b[:-1]\n",
      "C:\\Users\\indra\\AppData\\Local\\Temp\\ipykernel_17656\\1736094767.py:52: RuntimeWarning: overflow encountered in multiply\n",
      "  w[:, selected_unit] = w[:, selected_unit] + alpha * (1 - z_in[selected_unit]) * data\n",
      "c:\\Users\\indra\\miniconda3\\Lib\\site-packages\\numpy\\lib\\function_base.py:2455: RuntimeWarning: invalid value encountered in aktivasi (vectorized)\n",
      "  outputs = ufunc(*inputs)\n",
      "C:\\Users\\indra\\AppData\\Local\\Temp\\ipykernel_17656\\1736094767.py:52: RuntimeWarning: invalid value encountered in add\n",
      "  w[:, selected_unit] = w[:, selected_unit] + alpha * (1 - z_in[selected_unit]) * data\n",
      "C:\\Users\\indra\\AppData\\Local\\Temp\\ipykernel_17656\\1736094767.py:56: RuntimeWarning: overflow encountered in multiply\n",
      "  w[:, selected_unit] = w[:, selected_unit] + alpha * (-1 - z_in[selected_unit]) * data\n",
      "c:\\Users\\indra\\miniconda3\\Lib\\site-packages\\numpy\\lib\\function_base.py:2455: RuntimeWarning: invalid value encountered in aktivasi (vectorized)\n",
      "  outputs = ufunc(*inputs)\n",
      "C:\\Users\\indra\\AppData\\Local\\Temp\\ipykernel_17656\\1736094767.py:25: RuntimeWarning: overflow encountered in add\n",
      "  z_in = np.dot(data, w) + b[:-1]\n",
      "C:\\Users\\indra\\AppData\\Local\\Temp\\ipykernel_17656\\1736094767.py:52: RuntimeWarning: invalid value encountered in add\n",
      "  w[:, selected_unit] = w[:, selected_unit] + alpha * (1 - z_in[selected_unit]) * data\n",
      "C:\\Users\\indra\\AppData\\Local\\Temp\\ipykernel_17656\\1736094767.py:25: RuntimeWarning: invalid value encountered in add\n",
      "  z_in = np.dot(data, w) + b[:-1]\n",
      "C:\\Users\\indra\\AppData\\Local\\Temp\\ipykernel_17656\\1736094767.py:25: RuntimeWarning: overflow encountered in add\n",
      "  z_in = np.dot(data, w) + b[:-1]\n",
      "c:\\Users\\indra\\miniconda3\\Lib\\site-packages\\numpy\\lib\\function_base.py:2455: RuntimeWarning: invalid value encountered in aktivasi (vectorized)\n",
      "  outputs = ufunc(*inputs)\n"
     ]
    },
    {
     "name": "stdout",
     "output_type": "stream",
     "text": [
      "{'hidden_neuron': 5, 'alpha': 0.05, 'max_epoch': 100, 'accuracy': 0.9824561403508771}\n"
     ]
    }
   ],
   "source": [
    "hidden_neuron =  [5, 10, 15]\n",
    "alpha = [0.05, 0.1, 0.5]\n",
    "max_epoch = [100, 500, 1000]\n",
    "\n",
    "acc = 0\n",
    "best_params = {}\n",
    "\n",
    "for h in hidden_neuron:\n",
    "    for a in alpha:\n",
    "        for e in max_epoch:\n",
    "            w, v, b = train_madaline(X_train_cancer, y_train_cancer, input_neuron=len(X_train_cancer[0]), hidden_neuron=h, alpha=a, max_epoch=e)\n",
    "            y_pred = test(w, v, b, X_test_cancer)\n",
    "            current_acc = accuracy_score(y_test_cancer, y_pred)\n",
    "            \n",
    "            if acc < current_acc:\n",
    "                acc = current_acc\n",
    "                best_params['hidden_neuron'] = h\n",
    "                best_params['alpha'] = a\n",
    "                best_params['max_epoch'] = e\n",
    "                best_params['accuracy'] = acc\n",
    "                \n",
    "                \n",
    "            \n",
    "print(best_params)\n",
    "\n",
    "(w, v, b) = train_madaline(X_train_cancer, y_test_cancer,input_neuron=len(X_train_cancer[0]), hidden_neuron=best_params['hidden_neuron'], alpha=best_params['alpha'], max_epoch=best_params['max_epoch'])"
   ]
  },
  {
   "cell_type": "markdown",
   "metadata": {},
   "source": [
    "#### best params\n",
    "\n",
    "{'hidden_neuron': 5, 'alpha': 0.05, 'max_epoch': 100, 'accuracy': 0.9824561403508771}"
   ]
  },
  {
   "cell_type": "markdown",
   "metadata": {
    "id": "Q_A7bj378_K1"
   },
   "source": [
    "## Pengujian"
   ]
  },
  {
   "cell_type": "code",
   "execution_count": 61,
   "metadata": {
    "id": "ATITpyIYHXxM"
   },
   "outputs": [
    {
     "name": "stdout",
     "output_type": "stream",
     "text": [
      "              precision    recall  f1-score   support\n",
      "\n",
      "          -1       0.62      0.63      0.63        41\n",
      "           1       0.79      0.78      0.79        73\n",
      "\n",
      "    accuracy                           0.73       114\n",
      "   macro avg       0.71      0.71      0.71       114\n",
      "weighted avg       0.73      0.73      0.73       114\n",
      "\n"
     ]
    }
   ],
   "source": [
    "output_cancer = test(w,v,b, X_test_cancer)\n",
    "print(classification_report(output_cancer, y_test_cancer, zero_division=0))"
   ]
  },
  {
   "cell_type": "code",
   "execution_count": 62,
   "metadata": {
    "id": "x7BW-hojIM0V"
   },
   "outputs": [
    {
     "data": {
      "text/plain": [
       "<sklearn.metrics._plot.confusion_matrix.ConfusionMatrixDisplay at 0x25cf6fc3b00>"
      ]
     },
     "execution_count": 62,
     "metadata": {},
     "output_type": "execute_result"
    },
    {
     "data": {
      "image/png": "[encoded data removed]",
      "text/plain": [
       "<Figure size 640x480 with 2 Axes>"
      ]
     },
     "metadata": {},
     "output_type": "display_data"
    }
   ],
   "source": [
    "from sklearn.metrics import confusion_matrix\n",
    "from sklearn.metrics import ConfusionMatrixDisplay\n",
    "cm = confusion_matrix(output_cancer, y_test_cancer)\n",
    "display = ConfusionMatrixDisplay(confusion_matrix=cm, display_labels=[0,1])\n",
    "display.plot()"
   ]
  },
  {
   "cell_type": "markdown",
   "metadata": {
    "id": "_P29q5u6MGNi"
   },
   "source": [
    "# MADALINE Multi Variable & Multi Kelas (Wine Dataset)"
   ]
  },
  {
   "cell_type": "markdown",
   "metadata": {
    "id": "ZjMTg7mYNxmJ"
   },
   "source": [
    "## Load Dataset Wine"
   ]
  },
  {
   "cell_type": "code",
   "execution_count": 45,
   "metadata": {
    "id": "PNetNc7BNwsz"
   },
   "outputs": [],
   "source": [
    "from sklearn.datasets import load_wine\n",
    "from sklearn.model_selection import train_test_split\n",
    "X_wine, y_wine = load_wine(return_X_y=True)\n",
    "\n",
    "X_train_wine, X_test_wine, y_train_wine, y_test_wine = train_test_split(X_wine, y_wine, test_size=0.2, random_state=42, stratify=y_wine)\n"
   ]
  },
  {
   "cell_type": "markdown",
   "metadata": {
    "id": "et7D1DxBP4aM"
   },
   "source": [
    "## Preprocessing"
   ]
  },
  {
   "cell_type": "code",
   "execution_count": 46,
   "metadata": {
    "id": "g92IRSXFP4aN"
   },
   "outputs": [],
   "source": [
    "from sklearn.preprocessing import StandardScaler\n",
    "std_wine = StandardScaler()\n",
    "X_train_wine = std_wine.fit_transform(X_train_wine)\n",
    "X_test_wine = std_wine.transform(X_test_wine)"
   ]
  },
  {
   "cell_type": "code",
   "execution_count": 47,
   "metadata": {
    "id": "mFsi5YhkTbA1"
   },
   "outputs": [],
   "source": [
    "data_latih = pd.DataFrame(X_train_wine)\n",
    "data_latih['target'] = y_train_wine"
   ]
  },
  {
   "cell_type": "markdown",
   "metadata": {
    "id": "iX78SUecQJRy"
   },
   "source": [
    "## Membuat One-vs-Rest Code"
   ]
  },
  {
   "cell_type": "markdown",
   "metadata": {
    "id": "m1jjqJJLaEtD"
   },
   "source": [
    "Metode one-vs-rest memerlukan tiga jenis data latih yang diperlukan untuk melatih\n",
    "tiga MADALINE yang berbeda pada dataset Wine. Fungsi buat_trainingset digunakan untuk\n",
    "membentuk tiga dataset tersebut."
   ]
  },
  {
   "cell_type": "code",
   "execution_count": 48,
   "metadata": {
    "id": "H-eQGBuhQkcY"
   },
   "outputs": [],
   "source": [
    "def membuat_trainingset(dataset):\n",
    "  trainingset = {}\n",
    "  kolom_kelas = dataset.columns[-1]\n",
    "  list_kelas = dataset[kolom_kelas].unique()\n",
    "  for kelas in list_kelas:\n",
    "    data_temp = dataset.copy(deep=True)\n",
    "    data_temp[kolom_kelas] = data_temp[kolom_kelas].map({kelas:1})\n",
    "    data_temp[kolom_kelas] = data_temp[kolom_kelas].fillna(-1)\n",
    "    trainingset[kelas]=data_temp\n",
    "  return trainingset\n"
   ]
  },
  {
   "cell_type": "code",
   "execution_count": 49,
   "metadata": {
    "id": "ytpWVei2TxoU"
   },
   "outputs": [],
   "source": [
    "trainingset = membuat_trainingset(data_latih)"
   ]
  },
  {
   "cell_type": "code",
   "execution_count": 50,
   "metadata": {
    "id": "5yF6j1QybA_R"
   },
   "outputs": [
    {
     "data": {
      "text/plain": [
       "dict_keys([0, 2, 1])"
      ]
     },
     "execution_count": 50,
     "metadata": {},
     "output_type": "execute_result"
    }
   ],
   "source": [
    "trainingset.keys()"
   ]
  },
  {
   "cell_type": "code",
   "execution_count": 51,
   "metadata": {
    "id": "K8Imt7OTaoLe"
   },
   "outputs": [
    {
     "data": {
      "text/html": [
       "<div>\n",
       "<style scoped>\n",
       "    .dataframe tbody tr th:only-of-type {\n",
       "        vertical-align: middle;\n",
       "    }\n",
       "\n",
       "    .dataframe tbody tr th {\n",
       "        vertical-align: top;\n",
       "    }\n",
       "\n",
       "    .dataframe thead th {\n",
       "        text-align: right;\n",
       "    }\n",
       "</style>\n",
       "<table border=\"1\" class=\"dataframe\">\n",
       "  <thead>\n",
       "    <tr style=\"text-align: right;\">\n",
       "      <th></th>\n",
       "      <th>0</th>\n",
       "      <th>1</th>\n",
       "      <th>2</th>\n",
       "      <th>3</th>\n",
       "      <th>4</th>\n",
       "      <th>5</th>\n",
       "      <th>6</th>\n",
       "      <th>7</th>\n",
       "      <th>8</th>\n",
       "      <th>9</th>\n",
       "      <th>10</th>\n",
       "      <th>11</th>\n",
       "      <th>12</th>\n",
       "      <th>target</th>\n",
       "    </tr>\n",
       "  </thead>\n",
       "  <tbody>\n",
       "    <tr>\n",
       "      <th>0</th>\n",
       "      <td>0.385801</td>\n",
       "      <td>-0.637871</td>\n",
       "      <td>1.776668</td>\n",
       "      <td>-1.224532</td>\n",
       "      <td>0.696430</td>\n",
       "      <td>0.526865</td>\n",
       "      <td>0.732292</td>\n",
       "      <td>-0.169549</td>\n",
       "      <td>-0.415783</td>\n",
       "      <td>-0.167467</td>\n",
       "      <td>0.624378</td>\n",
       "      <td>0.252908</td>\n",
       "      <td>0.467725</td>\n",
       "      <td>1.0</td>\n",
       "    </tr>\n",
       "    <tr>\n",
       "      <th>1</th>\n",
       "      <td>0.948519</td>\n",
       "      <td>-0.765445</td>\n",
       "      <td>1.253174</td>\n",
       "      <td>0.853284</td>\n",
       "      <td>0.091785</td>\n",
       "      <td>1.172795</td>\n",
       "      <td>1.333181</td>\n",
       "      <td>-0.590457</td>\n",
       "      <td>1.349742</td>\n",
       "      <td>0.305303</td>\n",
       "      <td>1.067155</td>\n",
       "      <td>0.151048</td>\n",
       "      <td>1.815768</td>\n",
       "      <td>1.0</td>\n",
       "    </tr>\n",
       "    <tr>\n",
       "      <th>2</th>\n",
       "      <td>0.523354</td>\n",
       "      <td>-0.519409</td>\n",
       "      <td>0.954034</td>\n",
       "      <td>-1.046433</td>\n",
       "      <td>-0.445678</td>\n",
       "      <td>0.930572</td>\n",
       "      <td>1.006382</td>\n",
       "      <td>-0.169549</td>\n",
       "      <td>-0.260002</td>\n",
       "      <td>-0.081509</td>\n",
       "      <td>-0.128343</td>\n",
       "      <td>0.893172</td>\n",
       "      <td>1.516203</td>\n",
       "      <td>1.0</td>\n",
       "    </tr>\n",
       "    <tr>\n",
       "      <th>3</th>\n",
       "      <td>0.973529</td>\n",
       "      <td>-0.555859</td>\n",
       "      <td>0.168793</td>\n",
       "      <td>-1.076116</td>\n",
       "      <td>-0.714409</td>\n",
       "      <td>0.526865</td>\n",
       "      <td>0.816627</td>\n",
       "      <td>-0.590457</td>\n",
       "      <td>0.363125</td>\n",
       "      <td>0.262324</td>\n",
       "      <td>0.890044</td>\n",
       "      <td>0.427526</td>\n",
       "      <td>1.932265</td>\n",
       "      <td>1.0</td>\n",
       "    </tr>\n",
       "    <tr>\n",
       "      <th>4</th>\n",
       "      <td>0.435820</td>\n",
       "      <td>0.820120</td>\n",
       "      <td>0.056615</td>\n",
       "      <td>0.556453</td>\n",
       "      <td>-0.512860</td>\n",
       "      <td>-0.555068</td>\n",
       "      <td>-1.291756</td>\n",
       "      <td>0.756449</td>\n",
       "      <td>-0.606183</td>\n",
       "      <td>1.474335</td>\n",
       "      <td>-1.766619</td>\n",
       "      <td>-1.435059</td>\n",
       "      <td>-0.297831</td>\n",
       "      <td>-1.0</td>\n",
       "    </tr>\n",
       "    <tr>\n",
       "      <th>...</th>\n",
       "      <td>...</td>\n",
       "      <td>...</td>\n",
       "      <td>...</td>\n",
       "      <td>...</td>\n",
       "      <td>...</td>\n",
       "      <td>...</td>\n",
       "      <td>...</td>\n",
       "      <td>...</td>\n",
       "      <td>...</td>\n",
       "      <td>...</td>\n",
       "      <td>...</td>\n",
       "      <td>...</td>\n",
       "      <td>...</td>\n",
       "      <td>...</td>\n",
       "    </tr>\n",
       "    <tr>\n",
       "      <th>137</th>\n",
       "      <td>0.685917</td>\n",
       "      <td>0.756333</td>\n",
       "      <td>1.327959</td>\n",
       "      <td>1.150115</td>\n",
       "      <td>-0.176946</td>\n",
       "      <td>-1.168702</td>\n",
       "      <td>-1.544762</td>\n",
       "      <td>1.177357</td>\n",
       "      <td>-1.817818</td>\n",
       "      <td>-0.274915</td>\n",
       "      <td>-0.261176</td>\n",
       "      <td>-0.794796</td>\n",
       "      <td>-0.730536</td>\n",
       "      <td>-1.0</td>\n",
       "    </tr>\n",
       "    <tr>\n",
       "      <th>138</th>\n",
       "      <td>-1.652489</td>\n",
       "      <td>-0.610534</td>\n",
       "      <td>0.954034</td>\n",
       "      <td>1.892192</td>\n",
       "      <td>-0.781592</td>\n",
       "      <td>-0.571216</td>\n",
       "      <td>-0.395693</td>\n",
       "      <td>0.335541</td>\n",
       "      <td>-0.450402</td>\n",
       "      <td>-1.027050</td>\n",
       "      <td>1.819877</td>\n",
       "      <td>0.878620</td>\n",
       "      <td>-0.590739</td>\n",
       "      <td>-1.0</td>\n",
       "    </tr>\n",
       "    <tr>\n",
       "      <th>139</th>\n",
       "      <td>0.673412</td>\n",
       "      <td>-0.492072</td>\n",
       "      <td>1.066212</td>\n",
       "      <td>-0.185624</td>\n",
       "      <td>0.696430</td>\n",
       "      <td>0.123159</td>\n",
       "      <td>0.574163</td>\n",
       "      <td>-0.590457</td>\n",
       "      <td>-0.104220</td>\n",
       "      <td>-0.339384</td>\n",
       "      <td>0.668656</td>\n",
       "      <td>0.383871</td>\n",
       "      <td>1.183353</td>\n",
       "      <td>1.0</td>\n",
       "    </tr>\n",
       "    <tr>\n",
       "      <th>140</th>\n",
       "      <td>-0.014354</td>\n",
       "      <td>1.011481</td>\n",
       "      <td>-0.055562</td>\n",
       "      <td>-0.334039</td>\n",
       "      <td>0.427699</td>\n",
       "      <td>-1.427074</td>\n",
       "      <td>-1.355008</td>\n",
       "      <td>0.335541</td>\n",
       "      <td>-1.142765</td>\n",
       "      <td>0.124791</td>\n",
       "      <td>-1.191008</td>\n",
       "      <td>-1.245891</td>\n",
       "      <td>-0.214618</td>\n",
       "      <td>-1.0</td>\n",
       "    </tr>\n",
       "    <tr>\n",
       "      <th>141</th>\n",
       "      <td>-0.114393</td>\n",
       "      <td>0.592309</td>\n",
       "      <td>0.131400</td>\n",
       "      <td>0.111207</td>\n",
       "      <td>0.293333</td>\n",
       "      <td>-1.572408</td>\n",
       "      <td>-0.806828</td>\n",
       "      <td>-1.011365</td>\n",
       "      <td>-1.333164</td>\n",
       "      <td>0.176366</td>\n",
       "      <td>-0.925342</td>\n",
       "      <td>-1.726088</td>\n",
       "      <td>-0.697251</td>\n",
       "      <td>-1.0</td>\n",
       "    </tr>\n",
       "  </tbody>\n",
       "</table>\n",
       "<p>142 rows × 14 columns</p>\n",
       "</div>"
      ],
      "text/plain": [
       "            0         1         2         3         4         5         6  \\\n",
       "0    0.385801 -0.637871  1.776668 -1.224532  0.696430  0.526865  0.732292   \n",
       "1    0.948519 -0.765445  1.253174  0.853284  0.091785  1.172795  1.333181   \n",
       "2    0.523354 -0.519409  0.954034 -1.046433 -0.445678  0.930572  1.006382   \n",
       "3    0.973529 -0.555859  0.168793 -1.076116 -0.714409  0.526865  0.816627   \n",
       "4    0.435820  0.820120  0.056615  0.556453 -0.512860 -0.555068 -1.291756   \n",
       "..        ...       ...       ...       ...       ...       ...       ...   \n",
       "137  0.685917  0.756333  1.327959  1.150115 -0.176946 -1.168702 -1.544762   \n",
       "138 -1.652489 -0.610534  0.954034  1.892192 -0.781592 -0.571216 -0.395693   \n",
       "139  0.673412 -0.492072  1.066212 -0.185624  0.696430  0.123159  0.574163   \n",
       "140 -0.014354  1.011481 -0.055562 -0.334039  0.427699 -1.427074 -1.355008   \n",
       "141 -0.114393  0.592309  0.131400  0.111207  0.293333 -1.572408 -0.806828   \n",
       "\n",
       "            7         8         9        10        11        12  target  \n",
       "0   -0.169549 -0.415783 -0.167467  0.624378  0.252908  0.467725     1.0  \n",
       "1   -0.590457  1.349742  0.305303  1.067155  0.151048  1.815768     1.0  \n",
       "2   -0.169549 -0.260002 -0.081509 -0.128343  0.893172  1.516203     1.0  \n",
       "3   -0.590457  0.363125  0.262324  0.890044  0.427526  1.932265     1.0  \n",
       "4    0.756449 -0.606183  1.474335 -1.766619 -1.435059 -0.297831    -1.0  \n",
       "..        ...       ...       ...       ...       ...       ...     ...  \n",
       "137  1.177357 -1.817818 -0.274915 -0.261176 -0.794796 -0.730536    -1.0  \n",
       "138  0.335541 -0.450402 -1.027050  1.819877  0.878620 -0.590739    -1.0  \n",
       "139 -0.590457 -0.104220 -0.339384  0.668656  0.383871  1.183353     1.0  \n",
       "140  0.335541 -1.142765  0.124791 -1.191008 -1.245891 -0.214618    -1.0  \n",
       "141 -1.011365 -1.333164  0.176366 -0.925342 -1.726088 -0.697251    -1.0  \n",
       "\n",
       "[142 rows x 14 columns]"
      ]
     },
     "execution_count": 51,
     "metadata": {},
     "output_type": "execute_result"
    }
   ],
   "source": [
    "# Training set kelas 0\n",
    "trainingset[0]"
   ]
  },
  {
   "cell_type": "code",
   "execution_count": 52,
   "metadata": {
    "id": "NRcQZsNra6p4"
   },
   "outputs": [
    {
     "data": {
      "text/html": [
       "<div>\n",
       "<style scoped>\n",
       "    .dataframe tbody tr th:only-of-type {\n",
       "        vertical-align: middle;\n",
       "    }\n",
       "\n",
       "    .dataframe tbody tr th {\n",
       "        vertical-align: top;\n",
       "    }\n",
       "\n",
       "    .dataframe thead th {\n",
       "        text-align: right;\n",
       "    }\n",
       "</style>\n",
       "<table border=\"1\" class=\"dataframe\">\n",
       "  <thead>\n",
       "    <tr style=\"text-align: right;\">\n",
       "      <th></th>\n",
       "      <th>0</th>\n",
       "      <th>1</th>\n",
       "      <th>2</th>\n",
       "      <th>3</th>\n",
       "      <th>4</th>\n",
       "      <th>5</th>\n",
       "      <th>6</th>\n",
       "      <th>7</th>\n",
       "      <th>8</th>\n",
       "      <th>9</th>\n",
       "      <th>10</th>\n",
       "      <th>11</th>\n",
       "      <th>12</th>\n",
       "      <th>target</th>\n",
       "    </tr>\n",
       "  </thead>\n",
       "  <tbody>\n",
       "    <tr>\n",
       "      <th>0</th>\n",
       "      <td>0.385801</td>\n",
       "      <td>-0.637871</td>\n",
       "      <td>1.776668</td>\n",
       "      <td>-1.224532</td>\n",
       "      <td>0.696430</td>\n",
       "      <td>0.526865</td>\n",
       "      <td>0.732292</td>\n",
       "      <td>-0.169549</td>\n",
       "      <td>-0.415783</td>\n",
       "      <td>-0.167467</td>\n",
       "      <td>0.624378</td>\n",
       "      <td>0.252908</td>\n",
       "      <td>0.467725</td>\n",
       "      <td>-1.0</td>\n",
       "    </tr>\n",
       "    <tr>\n",
       "      <th>1</th>\n",
       "      <td>0.948519</td>\n",
       "      <td>-0.765445</td>\n",
       "      <td>1.253174</td>\n",
       "      <td>0.853284</td>\n",
       "      <td>0.091785</td>\n",
       "      <td>1.172795</td>\n",
       "      <td>1.333181</td>\n",
       "      <td>-0.590457</td>\n",
       "      <td>1.349742</td>\n",
       "      <td>0.305303</td>\n",
       "      <td>1.067155</td>\n",
       "      <td>0.151048</td>\n",
       "      <td>1.815768</td>\n",
       "      <td>-1.0</td>\n",
       "    </tr>\n",
       "    <tr>\n",
       "      <th>2</th>\n",
       "      <td>0.523354</td>\n",
       "      <td>-0.519409</td>\n",
       "      <td>0.954034</td>\n",
       "      <td>-1.046433</td>\n",
       "      <td>-0.445678</td>\n",
       "      <td>0.930572</td>\n",
       "      <td>1.006382</td>\n",
       "      <td>-0.169549</td>\n",
       "      <td>-0.260002</td>\n",
       "      <td>-0.081509</td>\n",
       "      <td>-0.128343</td>\n",
       "      <td>0.893172</td>\n",
       "      <td>1.516203</td>\n",
       "      <td>-1.0</td>\n",
       "    </tr>\n",
       "    <tr>\n",
       "      <th>3</th>\n",
       "      <td>0.973529</td>\n",
       "      <td>-0.555859</td>\n",
       "      <td>0.168793</td>\n",
       "      <td>-1.076116</td>\n",
       "      <td>-0.714409</td>\n",
       "      <td>0.526865</td>\n",
       "      <td>0.816627</td>\n",
       "      <td>-0.590457</td>\n",
       "      <td>0.363125</td>\n",
       "      <td>0.262324</td>\n",
       "      <td>0.890044</td>\n",
       "      <td>0.427526</td>\n",
       "      <td>1.932265</td>\n",
       "      <td>-1.0</td>\n",
       "    </tr>\n",
       "    <tr>\n",
       "      <th>4</th>\n",
       "      <td>0.435820</td>\n",
       "      <td>0.820120</td>\n",
       "      <td>0.056615</td>\n",
       "      <td>0.556453</td>\n",
       "      <td>-0.512860</td>\n",
       "      <td>-0.555068</td>\n",
       "      <td>-1.291756</td>\n",
       "      <td>0.756449</td>\n",
       "      <td>-0.606183</td>\n",
       "      <td>1.474335</td>\n",
       "      <td>-1.766619</td>\n",
       "      <td>-1.435059</td>\n",
       "      <td>-0.297831</td>\n",
       "      <td>-1.0</td>\n",
       "    </tr>\n",
       "    <tr>\n",
       "      <th>...</th>\n",
       "      <td>...</td>\n",
       "      <td>...</td>\n",
       "      <td>...</td>\n",
       "      <td>...</td>\n",
       "      <td>...</td>\n",
       "      <td>...</td>\n",
       "      <td>...</td>\n",
       "      <td>...</td>\n",
       "      <td>...</td>\n",
       "      <td>...</td>\n",
       "      <td>...</td>\n",
       "      <td>...</td>\n",
       "      <td>...</td>\n",
       "      <td>...</td>\n",
       "    </tr>\n",
       "    <tr>\n",
       "      <th>137</th>\n",
       "      <td>0.685917</td>\n",
       "      <td>0.756333</td>\n",
       "      <td>1.327959</td>\n",
       "      <td>1.150115</td>\n",
       "      <td>-0.176946</td>\n",
       "      <td>-1.168702</td>\n",
       "      <td>-1.544762</td>\n",
       "      <td>1.177357</td>\n",
       "      <td>-1.817818</td>\n",
       "      <td>-0.274915</td>\n",
       "      <td>-0.261176</td>\n",
       "      <td>-0.794796</td>\n",
       "      <td>-0.730536</td>\n",
       "      <td>-1.0</td>\n",
       "    </tr>\n",
       "    <tr>\n",
       "      <th>138</th>\n",
       "      <td>-1.652489</td>\n",
       "      <td>-0.610534</td>\n",
       "      <td>0.954034</td>\n",
       "      <td>1.892192</td>\n",
       "      <td>-0.781592</td>\n",
       "      <td>-0.571216</td>\n",
       "      <td>-0.395693</td>\n",
       "      <td>0.335541</td>\n",
       "      <td>-0.450402</td>\n",
       "      <td>-1.027050</td>\n",
       "      <td>1.819877</td>\n",
       "      <td>0.878620</td>\n",
       "      <td>-0.590739</td>\n",
       "      <td>1.0</td>\n",
       "    </tr>\n",
       "    <tr>\n",
       "      <th>139</th>\n",
       "      <td>0.673412</td>\n",
       "      <td>-0.492072</td>\n",
       "      <td>1.066212</td>\n",
       "      <td>-0.185624</td>\n",
       "      <td>0.696430</td>\n",
       "      <td>0.123159</td>\n",
       "      <td>0.574163</td>\n",
       "      <td>-0.590457</td>\n",
       "      <td>-0.104220</td>\n",
       "      <td>-0.339384</td>\n",
       "      <td>0.668656</td>\n",
       "      <td>0.383871</td>\n",
       "      <td>1.183353</td>\n",
       "      <td>-1.0</td>\n",
       "    </tr>\n",
       "    <tr>\n",
       "      <th>140</th>\n",
       "      <td>-0.014354</td>\n",
       "      <td>1.011481</td>\n",
       "      <td>-0.055562</td>\n",
       "      <td>-0.334039</td>\n",
       "      <td>0.427699</td>\n",
       "      <td>-1.427074</td>\n",
       "      <td>-1.355008</td>\n",
       "      <td>0.335541</td>\n",
       "      <td>-1.142765</td>\n",
       "      <td>0.124791</td>\n",
       "      <td>-1.191008</td>\n",
       "      <td>-1.245891</td>\n",
       "      <td>-0.214618</td>\n",
       "      <td>-1.0</td>\n",
       "    </tr>\n",
       "    <tr>\n",
       "      <th>141</th>\n",
       "      <td>-0.114393</td>\n",
       "      <td>0.592309</td>\n",
       "      <td>0.131400</td>\n",
       "      <td>0.111207</td>\n",
       "      <td>0.293333</td>\n",
       "      <td>-1.572408</td>\n",
       "      <td>-0.806828</td>\n",
       "      <td>-1.011365</td>\n",
       "      <td>-1.333164</td>\n",
       "      <td>0.176366</td>\n",
       "      <td>-0.925342</td>\n",
       "      <td>-1.726088</td>\n",
       "      <td>-0.697251</td>\n",
       "      <td>-1.0</td>\n",
       "    </tr>\n",
       "  </tbody>\n",
       "</table>\n",
       "<p>142 rows × 14 columns</p>\n",
       "</div>"
      ],
      "text/plain": [
       "            0         1         2         3         4         5         6  \\\n",
       "0    0.385801 -0.637871  1.776668 -1.224532  0.696430  0.526865  0.732292   \n",
       "1    0.948519 -0.765445  1.253174  0.853284  0.091785  1.172795  1.333181   \n",
       "2    0.523354 -0.519409  0.954034 -1.046433 -0.445678  0.930572  1.006382   \n",
       "3    0.973529 -0.555859  0.168793 -1.076116 -0.714409  0.526865  0.816627   \n",
       "4    0.435820  0.820120  0.056615  0.556453 -0.512860 -0.555068 -1.291756   \n",
       "..        ...       ...       ...       ...       ...       ...       ...   \n",
       "137  0.685917  0.756333  1.327959  1.150115 -0.176946 -1.168702 -1.544762   \n",
       "138 -1.652489 -0.610534  0.954034  1.892192 -0.781592 -0.571216 -0.395693   \n",
       "139  0.673412 -0.492072  1.066212 -0.185624  0.696430  0.123159  0.574163   \n",
       "140 -0.014354  1.011481 -0.055562 -0.334039  0.427699 -1.427074 -1.355008   \n",
       "141 -0.114393  0.592309  0.131400  0.111207  0.293333 -1.572408 -0.806828   \n",
       "\n",
       "            7         8         9        10        11        12  target  \n",
       "0   -0.169549 -0.415783 -0.167467  0.624378  0.252908  0.467725    -1.0  \n",
       "1   -0.590457  1.349742  0.305303  1.067155  0.151048  1.815768    -1.0  \n",
       "2   -0.169549 -0.260002 -0.081509 -0.128343  0.893172  1.516203    -1.0  \n",
       "3   -0.590457  0.363125  0.262324  0.890044  0.427526  1.932265    -1.0  \n",
       "4    0.756449 -0.606183  1.474335 -1.766619 -1.435059 -0.297831    -1.0  \n",
       "..        ...       ...       ...       ...       ...       ...     ...  \n",
       "137  1.177357 -1.817818 -0.274915 -0.261176 -0.794796 -0.730536    -1.0  \n",
       "138  0.335541 -0.450402 -1.027050  1.819877  0.878620 -0.590739     1.0  \n",
       "139 -0.590457 -0.104220 -0.339384  0.668656  0.383871  1.183353    -1.0  \n",
       "140  0.335541 -1.142765  0.124791 -1.191008 -1.245891 -0.214618    -1.0  \n",
       "141 -1.011365 -1.333164  0.176366 -0.925342 -1.726088 -0.697251    -1.0  \n",
       "\n",
       "[142 rows x 14 columns]"
      ]
     },
     "execution_count": 52,
     "metadata": {},
     "output_type": "execute_result"
    }
   ],
   "source": [
    "# Training set kelas 1\n",
    "trainingset[1]"
   ]
  },
  {
   "cell_type": "code",
   "execution_count": 53,
   "metadata": {
    "id": "f0R3TdO4a9g2"
   },
   "outputs": [
    {
     "data": {
      "text/html": [
       "<div>\n",
       "<style scoped>\n",
       "    .dataframe tbody tr th:only-of-type {\n",
       "        vertical-align: middle;\n",
       "    }\n",
       "\n",
       "    .dataframe tbody tr th {\n",
       "        vertical-align: top;\n",
       "    }\n",
       "\n",
       "    .dataframe thead th {\n",
       "        text-align: right;\n",
       "    }\n",
       "</style>\n",
       "<table border=\"1\" class=\"dataframe\">\n",
       "  <thead>\n",
       "    <tr style=\"text-align: right;\">\n",
       "      <th></th>\n",
       "      <th>0</th>\n",
       "      <th>1</th>\n",
       "      <th>2</th>\n",
       "      <th>3</th>\n",
       "      <th>4</th>\n",
       "      <th>5</th>\n",
       "      <th>6</th>\n",
       "      <th>7</th>\n",
       "      <th>8</th>\n",
       "      <th>9</th>\n",
       "      <th>10</th>\n",
       "      <th>11</th>\n",
       "      <th>12</th>\n",
       "      <th>target</th>\n",
       "    </tr>\n",
       "  </thead>\n",
       "  <tbody>\n",
       "    <tr>\n",
       "      <th>0</th>\n",
       "      <td>0.385801</td>\n",
       "      <td>-0.637871</td>\n",
       "      <td>1.776668</td>\n",
       "      <td>-1.224532</td>\n",
       "      <td>0.696430</td>\n",
       "      <td>0.526865</td>\n",
       "      <td>0.732292</td>\n",
       "      <td>-0.169549</td>\n",
       "      <td>-0.415783</td>\n",
       "      <td>-0.167467</td>\n",
       "      <td>0.624378</td>\n",
       "      <td>0.252908</td>\n",
       "      <td>0.467725</td>\n",
       "      <td>-1.0</td>\n",
       "    </tr>\n",
       "    <tr>\n",
       "      <th>1</th>\n",
       "      <td>0.948519</td>\n",
       "      <td>-0.765445</td>\n",
       "      <td>1.253174</td>\n",
       "      <td>0.853284</td>\n",
       "      <td>0.091785</td>\n",
       "      <td>1.172795</td>\n",
       "      <td>1.333181</td>\n",
       "      <td>-0.590457</td>\n",
       "      <td>1.349742</td>\n",
       "      <td>0.305303</td>\n",
       "      <td>1.067155</td>\n",
       "      <td>0.151048</td>\n",
       "      <td>1.815768</td>\n",
       "      <td>-1.0</td>\n",
       "    </tr>\n",
       "    <tr>\n",
       "      <th>2</th>\n",
       "      <td>0.523354</td>\n",
       "      <td>-0.519409</td>\n",
       "      <td>0.954034</td>\n",
       "      <td>-1.046433</td>\n",
       "      <td>-0.445678</td>\n",
       "      <td>0.930572</td>\n",
       "      <td>1.006382</td>\n",
       "      <td>-0.169549</td>\n",
       "      <td>-0.260002</td>\n",
       "      <td>-0.081509</td>\n",
       "      <td>-0.128343</td>\n",
       "      <td>0.893172</td>\n",
       "      <td>1.516203</td>\n",
       "      <td>-1.0</td>\n",
       "    </tr>\n",
       "    <tr>\n",
       "      <th>3</th>\n",
       "      <td>0.973529</td>\n",
       "      <td>-0.555859</td>\n",
       "      <td>0.168793</td>\n",
       "      <td>-1.076116</td>\n",
       "      <td>-0.714409</td>\n",
       "      <td>0.526865</td>\n",
       "      <td>0.816627</td>\n",
       "      <td>-0.590457</td>\n",
       "      <td>0.363125</td>\n",
       "      <td>0.262324</td>\n",
       "      <td>0.890044</td>\n",
       "      <td>0.427526</td>\n",
       "      <td>1.932265</td>\n",
       "      <td>-1.0</td>\n",
       "    </tr>\n",
       "    <tr>\n",
       "      <th>4</th>\n",
       "      <td>0.435820</td>\n",
       "      <td>0.820120</td>\n",
       "      <td>0.056615</td>\n",
       "      <td>0.556453</td>\n",
       "      <td>-0.512860</td>\n",
       "      <td>-0.555068</td>\n",
       "      <td>-1.291756</td>\n",
       "      <td>0.756449</td>\n",
       "      <td>-0.606183</td>\n",
       "      <td>1.474335</td>\n",
       "      <td>-1.766619</td>\n",
       "      <td>-1.435059</td>\n",
       "      <td>-0.297831</td>\n",
       "      <td>1.0</td>\n",
       "    </tr>\n",
       "    <tr>\n",
       "      <th>...</th>\n",
       "      <td>...</td>\n",
       "      <td>...</td>\n",
       "      <td>...</td>\n",
       "      <td>...</td>\n",
       "      <td>...</td>\n",
       "      <td>...</td>\n",
       "      <td>...</td>\n",
       "      <td>...</td>\n",
       "      <td>...</td>\n",
       "      <td>...</td>\n",
       "      <td>...</td>\n",
       "      <td>...</td>\n",
       "      <td>...</td>\n",
       "      <td>...</td>\n",
       "    </tr>\n",
       "    <tr>\n",
       "      <th>137</th>\n",
       "      <td>0.685917</td>\n",
       "      <td>0.756333</td>\n",
       "      <td>1.327959</td>\n",
       "      <td>1.150115</td>\n",
       "      <td>-0.176946</td>\n",
       "      <td>-1.168702</td>\n",
       "      <td>-1.544762</td>\n",
       "      <td>1.177357</td>\n",
       "      <td>-1.817818</td>\n",
       "      <td>-0.274915</td>\n",
       "      <td>-0.261176</td>\n",
       "      <td>-0.794796</td>\n",
       "      <td>-0.730536</td>\n",
       "      <td>1.0</td>\n",
       "    </tr>\n",
       "    <tr>\n",
       "      <th>138</th>\n",
       "      <td>-1.652489</td>\n",
       "      <td>-0.610534</td>\n",
       "      <td>0.954034</td>\n",
       "      <td>1.892192</td>\n",
       "      <td>-0.781592</td>\n",
       "      <td>-0.571216</td>\n",
       "      <td>-0.395693</td>\n",
       "      <td>0.335541</td>\n",
       "      <td>-0.450402</td>\n",
       "      <td>-1.027050</td>\n",
       "      <td>1.819877</td>\n",
       "      <td>0.878620</td>\n",
       "      <td>-0.590739</td>\n",
       "      <td>-1.0</td>\n",
       "    </tr>\n",
       "    <tr>\n",
       "      <th>139</th>\n",
       "      <td>0.673412</td>\n",
       "      <td>-0.492072</td>\n",
       "      <td>1.066212</td>\n",
       "      <td>-0.185624</td>\n",
       "      <td>0.696430</td>\n",
       "      <td>0.123159</td>\n",
       "      <td>0.574163</td>\n",
       "      <td>-0.590457</td>\n",
       "      <td>-0.104220</td>\n",
       "      <td>-0.339384</td>\n",
       "      <td>0.668656</td>\n",
       "      <td>0.383871</td>\n",
       "      <td>1.183353</td>\n",
       "      <td>-1.0</td>\n",
       "    </tr>\n",
       "    <tr>\n",
       "      <th>140</th>\n",
       "      <td>-0.014354</td>\n",
       "      <td>1.011481</td>\n",
       "      <td>-0.055562</td>\n",
       "      <td>-0.334039</td>\n",
       "      <td>0.427699</td>\n",
       "      <td>-1.427074</td>\n",
       "      <td>-1.355008</td>\n",
       "      <td>0.335541</td>\n",
       "      <td>-1.142765</td>\n",
       "      <td>0.124791</td>\n",
       "      <td>-1.191008</td>\n",
       "      <td>-1.245891</td>\n",
       "      <td>-0.214618</td>\n",
       "      <td>1.0</td>\n",
       "    </tr>\n",
       "    <tr>\n",
       "      <th>141</th>\n",
       "      <td>-0.114393</td>\n",
       "      <td>0.592309</td>\n",
       "      <td>0.131400</td>\n",
       "      <td>0.111207</td>\n",
       "      <td>0.293333</td>\n",
       "      <td>-1.572408</td>\n",
       "      <td>-0.806828</td>\n",
       "      <td>-1.011365</td>\n",
       "      <td>-1.333164</td>\n",
       "      <td>0.176366</td>\n",
       "      <td>-0.925342</td>\n",
       "      <td>-1.726088</td>\n",
       "      <td>-0.697251</td>\n",
       "      <td>1.0</td>\n",
       "    </tr>\n",
       "  </tbody>\n",
       "</table>\n",
       "<p>142 rows × 14 columns</p>\n",
       "</div>"
      ],
      "text/plain": [
       "            0         1         2         3         4         5         6  \\\n",
       "0    0.385801 -0.637871  1.776668 -1.224532  0.696430  0.526865  0.732292   \n",
       "1    0.948519 -0.765445  1.253174  0.853284  0.091785  1.172795  1.333181   \n",
       "2    0.523354 -0.519409  0.954034 -1.046433 -0.445678  0.930572  1.006382   \n",
       "3    0.973529 -0.555859  0.168793 -1.076116 -0.714409  0.526865  0.816627   \n",
       "4    0.435820  0.820120  0.056615  0.556453 -0.512860 -0.555068 -1.291756   \n",
       "..        ...       ...       ...       ...       ...       ...       ...   \n",
       "137  0.685917  0.756333  1.327959  1.150115 -0.176946 -1.168702 -1.544762   \n",
       "138 -1.652489 -0.610534  0.954034  1.892192 -0.781592 -0.571216 -0.395693   \n",
       "139  0.673412 -0.492072  1.066212 -0.185624  0.696430  0.123159  0.574163   \n",
       "140 -0.014354  1.011481 -0.055562 -0.334039  0.427699 -1.427074 -1.355008   \n",
       "141 -0.114393  0.592309  0.131400  0.111207  0.293333 -1.572408 -0.806828   \n",
       "\n",
       "            7         8         9        10        11        12  target  \n",
       "0   -0.169549 -0.415783 -0.167467  0.624378  0.252908  0.467725    -1.0  \n",
       "1   -0.590457  1.349742  0.305303  1.067155  0.151048  1.815768    -1.0  \n",
       "2   -0.169549 -0.260002 -0.081509 -0.128343  0.893172  1.516203    -1.0  \n",
       "3   -0.590457  0.363125  0.262324  0.890044  0.427526  1.932265    -1.0  \n",
       "4    0.756449 -0.606183  1.474335 -1.766619 -1.435059 -0.297831     1.0  \n",
       "..        ...       ...       ...       ...       ...       ...     ...  \n",
       "137  1.177357 -1.817818 -0.274915 -0.261176 -0.794796 -0.730536     1.0  \n",
       "138  0.335541 -0.450402 -1.027050  1.819877  0.878620 -0.590739    -1.0  \n",
       "139 -0.590457 -0.104220 -0.339384  0.668656  0.383871  1.183353    -1.0  \n",
       "140  0.335541 -1.142765  0.124791 -1.191008 -1.245891 -0.214618     1.0  \n",
       "141 -1.011365 -1.333164  0.176366 -0.925342 -1.726088 -0.697251     1.0  \n",
       "\n",
       "[142 rows x 14 columns]"
      ]
     },
     "execution_count": 53,
     "metadata": {},
     "output_type": "execute_result"
    }
   ],
   "source": [
    "# Training set kelas 2\n",
    "trainingset[2]"
   ]
  },
  {
   "cell_type": "markdown",
   "metadata": {
    "id": "BstlZOwoUN9v"
   },
   "source": [
    "## Pemodelan Data"
   ]
  },
  {
   "cell_type": "code",
   "execution_count": 63,
   "metadata": {
    "id": "-G-U0kK8T8zK"
   },
   "outputs": [],
   "source": [
    "def training(trainingset, input_neuron=13, hidden_neuron=6, alpha=0.5, max_epoch=1000, verbose=False):\n",
    "    list_kelas = trainingset.keys()\n",
    "    weights = {}\n",
    "\n",
    "    for kelas in list_kelas:\n",
    "        trainset = trainingset[kelas].iloc[:, :-1].values\n",
    "        trainlabel = trainingset[kelas].iloc[:, -1].values\n",
    "        # Train each class using MADALINE\n",
    "        weights[kelas] = train_madaline(\n",
    "            trainset, trainlabel, input_neuron, hidden_neuron, alpha, max_epoch, verbose)\n",
    "    return weights\n",
    "\n",
    "weights = training(trainingset)"
   ]
  },
  {
   "cell_type": "code",
   "execution_count": 64,
   "metadata": {
    "id": "z537Gq49Uq6g"
   },
   "outputs": [],
   "source": [
    "weights = training(trainingset)"
   ]
  },
  {
   "cell_type": "code",
   "execution_count": 65,
   "metadata": {
    "id": "O4uo083TX55h"
   },
   "outputs": [
    {
     "data": {
      "text/plain": [
       "(array([[ 5.99003823e+02,  1.65424930e+03,  1.94272631e+03,\n",
       "          1.05075140e+02, -2.96138470e+03,  3.38541502e+01],\n",
       "        [-5.31382972e+03, -2.44186955e+02,  5.55795280e+02,\n",
       "          2.18216743e+02,  9.68783815e+01,  1.50979828e+00],\n",
       "        [ 2.65263599e+03,  4.22015957e+03,  2.42449653e+03,\n",
       "          5.05436465e+02, -1.28019971e+03,  7.41435583e+01],\n",
       "        [-3.12471898e+03, -2.00948960e+03,  1.07070022e+03,\n",
       "         -6.81249129e+02, -5.71930376e+03, -1.00815555e+02],\n",
       "        [ 1.23695514e+03, -1.66257741e+04, -2.69550492e+03,\n",
       "          2.85785302e+02,  4.53707248e+03, -3.34509794e+01],\n",
       "        [ 2.89250001e+02, -4.06107940e+03,  2.10293812e+03,\n",
       "          9.79246549e+01, -1.62702248e+03,  4.01850746e+01],\n",
       "        [ 6.62998805e+02, -2.74022237e+03,  3.15279722e+03,\n",
       "          2.44390208e+02, -1.12191211e+03,  5.62577853e+01],\n",
       "        [-2.58582608e+03,  4.20497454e+03, -4.53253830e+03,\n",
       "         -1.82043918e+02,  1.94211100e+03, -3.94183465e-01],\n",
       "        [ 8.18309700e+01, -1.51493006e+04, -2.95687316e+01,\n",
       "         -2.56870137e+02,  6.33892535e+02, -3.41565604e+00],\n",
       "        [ 9.68086738e+02,  7.80062162e+03, -6.22273874e+02,\n",
       "         -1.64638973e+02,  3.64395139e+03,  3.37066607e+01],\n",
       "        [ 1.86469281e+03, -4.28826960e+03,  1.48773955e+03,\n",
       "         -7.01951340e+01, -3.90053542e+03, -2.77414857e+01],\n",
       "        [ 7.86520340e+02, -1.56981640e+03,  3.53899631e+03,\n",
       "          2.83007479e+02, -8.67095832e+02,  3.96735679e+01],\n",
       "        [ 2.52261093e+03,  1.75003491e+03,  1.82498394e+02,\n",
       "          6.59299181e+02,  6.05957172e+03,  4.54436473e+01]]),\n",
       " array([1, 1, 1, 1, 1, 1]),\n",
       " array([-4.64547110e+03, -9.99362524e+03, -3.18255572e+03, -9.37646655e+02,\n",
       "        -6.74740343e+03, -1.09757342e+02,  5.00000000e-01]))"
      ]
     },
     "execution_count": 65,
     "metadata": {},
     "output_type": "execute_result"
    }
   ],
   "source": [
    "weights[0]"
   ]
  },
  {
   "cell_type": "markdown",
   "metadata": {
    "id": "Pm6ORYPJW9L4"
   },
   "source": [
    "## Pengujian"
   ]
  },
  {
   "cell_type": "markdown",
   "metadata": {
    "id": "cZMEfx_scB-k"
   },
   "source": [
    "Proses testing pada metode one-vs-rest dilakukan dengan memanggil proses testing biner untuk setiap **value** pada dictionary **W**. Kelas pada sebuah data latih adalah **key** pada dictionary **W** yang memiliki nilai prediksi **1**. Lengkapi fungsi **testing_onevsrest** di bawah ini. Output dari fungsi tersebut adalah list nama kelas hasil prediksi"
   ]
  },
  {
   "cell_type": "code",
   "execution_count": 66,
   "metadata": {
    "id": "kJ7jlTTVV_HS"
   },
   "outputs": [],
   "source": [
    "def testing_onevsrest(W, data_uji):\n",
    "    kelas = list(W.keys())\n",
    "    kelas_prediksi = list()\n",
    "\n",
    "    for i in range(data_uji.shape[0]):\n",
    "        # Mencari kelas dengan nilai prediksi tertinggi\n",
    "        y_prediksi = np.argmax([test(*W[k], data_uji[i]) for k in kelas])\n",
    "\n",
    "        # Menambahkan kelas dengan nilai prediksi tertinggi ke hasil\n",
    "        kelas_prediksi.append(kelas[y_prediksi])\n",
    "\n",
    "    return kelas_prediksi\n"
   ]
  },
  {
   "cell_type": "code",
   "execution_count": 67,
   "metadata": {
    "id": "0Oq4Yi9OW_mP"
   },
   "outputs": [],
   "source": [
    "prediksi_wine = testing_onevsrest(weights, X_test_wine)"
   ]
  },
  {
   "cell_type": "code",
   "execution_count": 68,
   "metadata": {
    "id": "c94QEubq9Cmw"
   },
   "outputs": [
    {
     "name": "stdout",
     "output_type": "stream",
     "text": [
      "              precision    recall  f1-score   support\n",
      "\n",
      "           0       1.00      0.92      0.96        13\n",
      "           1       0.93      0.93      0.93        14\n",
      "           2       0.90      1.00      0.95         9\n",
      "\n",
      "    accuracy                           0.94        36\n",
      "   macro avg       0.94      0.95      0.95        36\n",
      "weighted avg       0.95      0.94      0.94        36\n",
      "\n"
     ]
    }
   ],
   "source": [
    "print(classification_report(prediksi_wine, y_test_wine, zero_division=0))"
   ]
  },
  {
   "cell_type": "code",
   "execution_count": 69,
   "metadata": {
    "id": "swT6Y1X-9Cmx"
   },
   "outputs": [
    {
     "data": {
      "text/plain": [
       "<sklearn.metrics._plot.confusion_matrix.ConfusionMatrixDisplay at 0x25cf30a10a0>"
      ]
     },
     "execution_count": 69,
     "metadata": {},
     "output_type": "execute_result"
    },
    {
     "data": {
      "image/png": "[encoded data removed]",
      "text/plain": [
       "<Figure size 640x480 with 2 Axes>"
      ]
     },
     "metadata": {},
     "output_type": "display_data"
    }
   ],
   "source": [
    "from sklearn.metrics import confusion_matrix\n",
    "from sklearn.metrics import ConfusionMatrixDisplay\n",
    "cm = confusion_matrix(prediksi_wine, y_test_wine)\n",
    "display = ConfusionMatrixDisplay(confusion_matrix=cm, display_labels=[0,1,2])\n",
    "display.plot()"
   ]
  },
  {
   "cell_type": "markdown",
   "metadata": {
    "id": "Ruc6SEmqMRKw"
   },
   "source": [
    "# Pertanyaan!"
   ]
  },
  {
   "cell_type": "markdown",
   "metadata": {
    "id": "IF5WK0xZMUKu"
   },
   "source": [
    "## MADALINE Breast Cancer"
   ]
  },
  {
   "cell_type": "markdown",
   "metadata": {},
   "source": [
    "1. Jelaskan bagaimana caranya untuk mengimplementasikan MADALINE yang dapat menerima data multivariable?"
   ]
  },
  {
   "cell_type": "markdown",
   "metadata": {},
   "source": [
    "Untuk mengimplementasikan MADALINE (Multiple Adaptive Linear Neuron), yang dapat menerima data multivariable, langkah pertama adalah menyiapkan dataset dengan input multivariable yang dinormalisasi. Struktur jaringan terdiri dari lapisan input, lapisan adaptif (ADALINE), dan lapisan output. Setiap neuron di lapisan ADALINE dihitung menggunakan fungsi aktivasi linier. Pelatihan dilakukan dengan algoritma MADALINE Rule II (MR-II), yang memodifikasi bobot secara iteratif untuk meminimalkan kesalahan pada lapisan output. Bobot diperbarui hanya jika perubahan tersebut menurunkan nilai error total. Data multivariable diakomodasi dengan menetapkan jumlah neuron di lapisan input sesuai jumlah fitur, dan hubungan antara lapisan input ke lapisan ADALINE dijembatani melalui bobot yang diinisialisasi secara acak. Validasi dilakukan dengan data terpisah untuk memastikan generalisasi model."
   ]
  },
  {
   "cell_type": "markdown",
   "metadata": {
    "id": "Cv7UTN7m-nSM"
   },
   "source": [
    "2. Bagaimana caranya untuk mengatur hyperparameternya untuk mencapai akurasi diatas 75%? Jabarkan nilai parameter yang digunakan dan perannya!"
   ]
  },
  {
   "cell_type": "markdown",
   "metadata": {},
   "source": [
    "Untuk mencapai akurasi di atas 75% dalam pelatihan model Madaline, dapat mengatur hyperparameter dengan memilih nilai optimal berdasarkan eksperimen atau grid search seperti yang dilakukan dalam kode di atas. Berikut adalah penjelasan nilai parameter yang digunakan dan perannya:\n",
    "\n",
    "- Hidden Neurons: Jumlah neuron tersembunyi (hidden_neuron) memengaruhi kapasitas model untuk menangkap pola dari data. Nilai yang dipilih seperti 5, 10, dan 15 menentukan kompleksitas jaringan. Terlalu sedikit neuron dapat menyebabkan underfitting, sedangkan terlalu banyak dapat menyebabkan overfitting.\n",
    "\n",
    "- Learning Rate (Alpha): Nilai alpha seperti 0.05, 0.1, dan 0.5 menentukan seberapa besar perubahan bobot dalam setiap iterasi. Nilai yang terlalu besar dapat membuat pelatihan tidak stabil, sedangkan nilai yang terlalu kecil dapat memperlambat konvergensi.\n",
    "\n",
    "- Maximum Epochs: max_epoch seperti 100, 500, dan 1000 mengontrol jumlah iterasi maksimum untuk pelatihan. Semakin besar nilai epoch, semakin banyak peluang model untuk belajar pola dari data, tetapi risiko overfitting juga meningkat jika pelatihan terlalu lama.\n",
    "\n",
    "pada acurasi masih terlihat 73% namun pada grid test menunjukkan 97%"
   ]
  },
  {
   "cell_type": "markdown",
   "metadata": {
    "id": "dyLRrfczMXXi"
   },
   "source": [
    "## MADALINE Wine"
   ]
  },
  {
   "cell_type": "markdown",
   "metadata": {
    "id": "tfeZaJtFAiNz"
   },
   "source": [
    "1. Jelaskan mengapa kita menggunakan metode One-vs-Rest untuk klasifikasi multi-kelas?\n"
   ]
  },
  {
   "cell_type": "markdown",
   "metadata": {},
   "source": [
    "Metode One-vs-Rest (OvR) digunakan dalam klasifikasi multi-kelas untuk menyederhanakan masalah menjadi serangkaian klasifikasi biner. Setiap kelas diperlakukan secara independen dengan membandingkan satu kelas tertentu (positif) dengan semua kelas lainnya (negatif). Pendekatan ini memungkinkan penggunaan algoritma klasifikasi biner yang sederhana dan efektif, seperti SVM atau Logistic Regression, pada masalah multi-kelas yang kompleks. Selain itu, OvR fleksibel terhadap dataset dengan distribusi yang tidak seimbang dan sering lebih efisien secara komputasi dibanding pendekatan lain seperti One-vs-One. Namun, prediksi akhir ditentukan berdasarkan skor atau probabilitas tertinggi dari setiap model biner."
   ]
  },
  {
   "cell_type": "markdown",
   "metadata": {},
   "source": [
    "2. Bagaimana caranya untuk mengatur hyperparameternya untuk mencapai akurasi diatas 90%? Jabarkan nilai hyperparameter yang digunakan dan perannya!"
   ]
  },
  {
   "cell_type": "markdown",
   "metadata": {},
   "source": [
    "Pada proses di atas telah dilakukan proses tuning secara manual dimana saya memasukkan nilai hyperparameter yang berbeda-beda untuk mendapatkan akurasi yang lebih tinggi. Berikut adalah penjelasan nilai hyperparameter yang digunakan dan perannya:\n",
    "\n",
    "- Hidden Neurons: Jumlah neuron tersembunyi (hidden_neuron) memengaruhi kapasitas model untuk menangkap pola dari data. Nilai yang dipilih seperti 5, 10, dan 15 menentukan kompleksitas jaringan. Terlalu sedikit neuron dapat menyebabkan underfitting, sedangkan terlalu banyak dapat menyebabkan overfitting.\n",
    "\n",
    "- Learning Rate (Alpha): Nilai alpha seperti 0.05, 0.1, dan 0.5 menentukan seberapa besar perubahan bobot dalam setiap iterasi. Nilai yang terlalu besar dapat membuat pelatihan tidak stabil, sedangkan nilai yang terlalu kecil dapat memperlambat konvergensi.\n",
    "\n",
    "- Maximum Epochs: max_epoch seperti 100, 500, dan 1000 mengontrol jumlah iterasi maksimum untuk pelatihan. Semakin besar nilai epoch, semakin banyak peluang model untuk belajar pola dari data, tetapi risiko overfitting juga meningkat jika pelatihan terlalu lama.\n",
    "\n",
    "- Input Neurons : Jumlah neuron input (input_neuron) menentukan dimensi data masukan. Nilai yang dipilih harus sesuai dengan jumlah fitur pada dataset. Jumlah neuron input yang salah dapat menyebabkan kesalahan dalam representasi data.\n",
    "\n",
    "Pada data di atas didapatkan akuasi 93%"
   ]
  }
 ],
 "metadata": {
  "colab": {
   "provenance": []
  },
  "kernelspec": {
   "display_name": "base",
   "language": "python",
   "name": "python3"
  },
  "language_info": {
   "codemirror_mode": {
    "name": "ipython",
    "version": 3
   },
   "file_extension": ".py",
   "mimetype": "text/x-python",
   "name": "python",
   "nbconvert_exporter": "python",
   "pygments_lexer": "ipython3",
   "version": "3.12.7"
  }
 },
 "nbformat": 4,
 "nbformat_minor": 0
}
