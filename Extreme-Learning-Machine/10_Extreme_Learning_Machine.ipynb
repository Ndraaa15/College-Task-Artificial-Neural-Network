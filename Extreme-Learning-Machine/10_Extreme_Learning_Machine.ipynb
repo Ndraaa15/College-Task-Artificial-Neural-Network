{
 "cells": [
  {
   "cell_type": "markdown",
   "metadata": {
    "id": "cBbC4vlK7Hyb"
   },
   "source": [
    "# Bab 9 Extreme Learning Machine"
   ]
  },
  {
   "cell_type": "markdown",
   "metadata": {
    "id": "_WjSkbk57Hlf"
   },
   "source": [
    "## Praktikum"
   ]
  },
  {
   "cell_type": "markdown",
   "metadata": {
    "id": "RduxLPzY7HaP"
   },
   "source": [
    "### a) Fungsi *Training* ELM\n",
    "\n",
    "Tulis kode ke dalam *cell* di bawah ini:"
   ]
  },
  {
   "cell_type": "code",
   "execution_count": 1,
   "metadata": {
    "id": "g6M5D3hy6_YT"
   },
   "outputs": [],
   "source": [
    "import time\n",
    "import numpy as np\n",
    "def elm_fit(X, target, h, W=None):\n",
    "  start_time = time.time()\n",
    "  if W is None:\n",
    "    W = np.random.uniform(-.1, .1, (h, len(X[0])))\n",
    "  \n",
    "  Hinit = X @ W.T\n",
    "\n",
    "\n",
    "  H = 1 / (1 + np.exp(-Hinit))\n",
    "  Ht = H.T\n",
    "  Hp = np.linalg.inv(Ht @ H) @ Ht\n",
    "  beta = Hp @ target\n",
    "  y = H @ beta\n",
    "  mape = sum(abs(y - target) / target) * 100 / len(target)\n",
    "  execution = time.time() - start_time\n",
    "  print(\"Waktu eksekusi: %s detik\" % execution)\n",
    "  return W, beta, mape"
   ]
  },
  {
   "cell_type": "markdown",
   "metadata": {
    "id": "RPmJcJpY7XpN"
   },
   "source": [
    "### b) Fungsi *Testing* ELM\n",
    "\n",
    "Tulis kode ke dalam *cell* di bawah ini:"
   ]
  },
  {
   "cell_type": "code",
   "execution_count": 2,
   "metadata": {
    "id": "38sj5oIK7YAj"
   },
   "outputs": [],
   "source": [
    "def elm_predict(X, W, b, round_output=False):\n",
    "  Hinit = X @ W.T\n",
    "  H = 1 / (1 + np.exp(-Hinit))\n",
    "  y = H @ b\n",
    "  if round_output:\n",
    "    y = [int(round(x)) for x in y]\n",
    "    return y"
   ]
  },
  {
   "cell_type": "markdown",
   "metadata": {
    "id": "INz910K1VLRD"
   },
   "source": [
    "### c) Klasifikasi *Dataset* Iris\n",
    "\n",
    "![Iris Dataset](https://www.spataru.at/images/blog/iris-dataset-svm/iris_types.jpg)\n",
    "\n",
    "Tulis kode ke dalam *cell* di bawah ini:"
   ]
  },
  {
   "cell_type": "code",
   "execution_count": 3,
   "metadata": {
    "id": "SilFnskvVLlr"
   },
   "outputs": [
    {
     "name": "stdout",
     "output_type": "stream",
     "text": [
      "Waktu eksekusi: 0.0060002803802490234 detik\n",
      "MAPE: 8.647224178966352\n",
      "Output: [3, 3, 2, 1, 1, 2, 2, 1, 1, 1, 2, 2, 2, 1, 2, 1, 2, 2, 2, 2, 3, 1, 1, 3, 3, 3, 1, 3, 2, 2, 1, 3, 1, 3, 3, 2, 1, 3, 2, 1, 3, 3, 2, 2, 3]\n",
      "True : [3 3 2 1 1 2 2 1 1 1 2 2 2 1 2 1 2 2 2 2 3 1 1 3 3 3 1 3 2 2 1 3 1 3 3 2 1\n",
      " 3 2 1 3 3 2 2 2]\n",
      "Accuracy: 0.9777777777777777\n"
     ]
    }
   ],
   "source": [
    "from sklearn import datasets\n",
    "from sklearn.model_selection import train_test_split\n",
    "from sklearn.preprocessing import minmax_scale\n",
    "from sklearn.metrics import accuracy_score\n",
    "\n",
    "iris = datasets.load_iris()\n",
    "X = minmax_scale(iris.data)\n",
    "Y = iris.target\n",
    "Y += 1\n",
    "X_train, X_test, y_train, y_test = train_test_split(X, Y,\n",
    "test_size=.3)\n",
    "W, b, mape = elm_fit(X_train, y_train, 3)\n",
    "print('MAPE:', mape)\n",
    "output = elm_predict(X_test, W, b, round_output=True)\n",
    "accuracy = accuracy_score(output, y_test)\n",
    "\n",
    "\n",
    "\n",
    "print('Output:', output)\n",
    "print('True :', y_test)\n",
    "print('Accuracy:', accuracy)"
   ]
  }
 ],
 "metadata": {
  "colab": {
   "provenance": [],
   "toc_visible": true
  },
  "kernelspec": {
   "display_name": "base",
   "language": "python",
   "name": "python3"
  },
  "language_info": {
   "codemirror_mode": {
    "name": "ipython",
    "version": 3
   },
   "file_extension": ".py",
   "mimetype": "text/x-python",
   "name": "python",
   "nbconvert_exporter": "python",
   "pygments_lexer": "ipython3",
   "version": "3.12.7"
  }
 },
 "nbformat": 4,
 "nbformat_minor": 0
}
