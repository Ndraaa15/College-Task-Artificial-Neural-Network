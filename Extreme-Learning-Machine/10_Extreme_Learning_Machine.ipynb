{
 "cells": [
  {
   "cell_type": "markdown",
   "metadata": {
    "id": "cBbC4vlK7Hyb"
   },
   "source": [
    "# Bab 9 Extreme Learning Machine"
   ]
  },
  {
   "cell_type": "markdown",
   "metadata": {
    "id": "_WjSkbk57Hlf"
   },
   "source": [
    "## Praktikum"
   ]
  },
  {
   "cell_type": "markdown",
   "metadata": {
    "id": "RduxLPzY7HaP"
   },
   "source": [
    "### a) Fungsi *Training* ELM\n",
    "\n",
    "Tulis kode ke dalam *cell* di bawah ini:"
   ]
  },
  {
   "cell_type": "code",
   "execution_count": 330,
   "metadata": {
    "id": "g6M5D3hy6_YT"
   },
   "outputs": [],
   "source": [
    "import time\n",
    "import numpy as np\n",
    "\n",
    "def elm_fit(X, target, h, W=None):\n",
    "  start_time = time.time()\n",
    "  if W is None:\n",
    "    W = np.random.uniform(-.1, .1, (h, len(X[0])))\n",
    "  \n",
    "  Hinit = X @ W.T\n",
    "\n",
    "\n",
    "  H = 1 / (1 + np.exp(-Hinit))\n",
    "  Ht = H.T\n",
    "  Hp = np.linalg.inv(Ht @ H) @ Ht\n",
    "  beta = Hp @ target\n",
    "  y = H @ beta\n",
    "  mape = sum(abs(y - target) / target) * 100 / len(target)\n",
    "  execution = time.time() - start_time\n",
    "  print(\"Waktu eksekusi: %s detik\" % execution)\n",
    "  return W, beta, mape"
   ]
  },
  {
   "cell_type": "markdown",
   "metadata": {
    "id": "RPmJcJpY7XpN"
   },
   "source": [
    "### b) Fungsi *Testing* ELM\n",
    "\n",
    "Tulis kode ke dalam *cell* di bawah ini:"
   ]
  },
  {
   "cell_type": "code",
   "execution_count": 331,
   "metadata": {
    "id": "38sj5oIK7YAj"
   },
   "outputs": [],
   "source": [
    "def elm_predict(X, W, b, round_output=False):\n",
    "  Hinit = X @ W.T\n",
    "  H = 1 / (1 + np.exp(-Hinit))\n",
    "  y = H @ b\n",
    "  if round_output:\n",
    "    y = [int(round(x)) for x in y]\n",
    "    return y"
   ]
  },
  {
   "cell_type": "markdown",
   "metadata": {
    "id": "INz910K1VLRD"
   },
   "source": [
    "### c) Klasifikasi *Dataset* Iris\n",
    "\n",
    "![Iris Dataset](https://www.spataru.at/images/blog/iris-dataset-svm/iris_types.jpg)\n",
    "\n",
    "Tulis kode ke dalam *cell* di bawah ini:"
   ]
  },
  {
   "cell_type": "code",
   "execution_count": 332,
   "metadata": {
    "id": "SilFnskvVLlr"
   },
   "outputs": [
    {
     "name": "stdout",
     "output_type": "stream",
     "text": [
      "Waktu eksekusi: 0.0 detik\n",
      "MAPE: 11.430586870703605\n",
      "Output: [2, 2, 3, 2, 1, 2, 1, 2, 3, 3, 1, 3, 3, 1, 2, 1, 2, 1, 1, 1, 2, 3, 3, 2, 1, 2, 2, 2, 1, 2, 2, 1, 1, 2, 1, 1, 3, 2, 3, 2, 3, 3, 2, 2, 2]\n",
      "True : [2 2 3 3 1 2 1 2 3 3 1 3 3 1 2 1 2 1 1 1 2 3 3 2 1 2 2 2 1 2 3 1 1 2 1 1 3\n",
      " 3 3 2 3 3 2 2 2]\n",
      "Accuracy: 0.9333333333333333\n"
     ]
    }
   ],
   "source": [
    "from sklearn import datasets\n",
    "from sklearn.model_selection import train_test_split\n",
    "from sklearn.preprocessing import minmax_scale\n",
    "from sklearn.metrics import accuracy_score\n",
    "\n",
    "iris = datasets.load_iris()\n",
    "X = minmax_scale(iris.data)\n",
    "Y = iris.target\n",
    "Y += 1\n",
    "X_train, X_test, y_train, y_test = train_test_split(X, Y,test_size=.3)\n",
    "W, b, mape = elm_fit(X_train, y_train, 3)\n",
    "print('MAPE:', mape)\n",
    "output = elm_predict(X_test, W, b, round_output=True)\n",
    "accuracy = accuracy_score(output, y_test)\n",
    "\n",
    "\n",
    "\n",
    "print('Output:', output)\n",
    "print('True :', y_test)\n",
    "print('Accuracy:', accuracy)"
   ]
  },
  {
   "cell_type": "code",
   "execution_count": 333,
   "metadata": {},
   "outputs": [
    {
     "name": "stdout",
     "output_type": "stream",
     "text": [
      "\n",
      "Jumlah hidden neuron: 3\n",
      "Waktu eksekusi: 0.000583648681640625 detik\n",
      "MAPE: 10.5633\n",
      "Akurasi: 1.0000\n",
      "\n",
      "Jumlah hidden neuron: 5\n",
      "Waktu eksekusi: 0.0005609989166259766 detik\n",
      "MAPE: 8.6093\n",
      "Akurasi: 1.0000\n",
      "\n",
      "Jumlah hidden neuron: 7\n",
      "Waktu eksekusi: 0.0005595684051513672 detik\n",
      "MAPE: 8.5408\n",
      "Akurasi: 1.0000\n",
      "\n",
      "Jumlah hidden neuron: 10\n",
      "Waktu eksekusi: 0.0 detik\n",
      "MAPE: 7.6579\n",
      "Akurasi: 0.9778\n",
      "\n",
      "Jumlah hidden neuron: 30\n",
      "Waktu eksekusi: 0.00099945068359375 detik\n",
      "MAPE: 21.6558\n",
      "Akurasi: 0.7333\n",
      "\n",
      "Perbandingan hasil:\n",
      "Hidden Neurons | MAPE       | Akurasi\n",
      "3               10.5633    1.0000\n",
      "5               8.6093     1.0000\n",
      "7               8.5408     1.0000\n",
      "10              7.6579     0.9778\n",
      "30              21.6558    0.7333\n"
     ]
    }
   ],
   "source": [
    "# Load dataset Iris\n",
    "iris = datasets.load_iris()\n",
    "X = minmax_scale(iris.data)\n",
    "Y = iris.target\n",
    "Y += 1  # Penyesuaian label agar tidak ada nilai nol\n",
    "\n",
    "# Split data menjadi 70% latih dan 30% uji\n",
    "X_train, X_test, y_train, y_test = train_test_split(X, Y, test_size=0.3, random_state=42)\n",
    "\n",
    "# Uji dengan jumlah hidden neuron yang berbeda\n",
    "hidden_neurons = [3, 5, 7, 10, 30]\n",
    "results = []\n",
    "\n",
    "for h in hidden_neurons:\n",
    "    print(f\"\\nJumlah hidden neuron: {h}\")\n",
    "    W, b, mape = elm_fit(X_train, y_train, h)\n",
    "    output = elm_predict(X_test, W, b, round_output=True)\n",
    "    accuracy = accuracy_score(output, y_test)\n",
    "    print(f\"MAPE: {mape:.4f}\")\n",
    "    print(f\"Akurasi: {accuracy:.4f}\")\n",
    "    results.append((h, mape, accuracy))\n",
    "\n",
    "# Tampilkan hasil perbandingan\n",
    "print(\"\\nPerbandingan hasil:\")\n",
    "print(\"Hidden Neurons | MAPE       | Akurasi\")\n",
    "for h, mape, accuracy in results:\n",
    "    print(f\"{h:<15} {mape:<10.4f} {accuracy:.4f}\")"
   ]
  },
  {
   "cell_type": "code",
   "execution_count": 334,
   "metadata": {},
   "outputs": [
    {
     "name": "stdout",
     "output_type": "stream",
     "text": [
      "Waktu eksekusi: 0.0006062984466552734 detik\n",
      "MAPE: 10.54243547539564\n",
      "Output: [3, 3, 3, 2, 3, 3, 1, 1, 2, 2, 1, 3, 1, 2, 1, 2, 3, 2, 2, 1, 1, 1, 3, 3, 1, 3, 2, 3, 1, 3, 2, 3, 2, 2, 1, 3, 3, 2, 2, 2, 1, 3, 2, 1, 3]\n",
      "True : [3 3 3 2 3 3 1 1 2 2 1 3 1 2 1 2 2 2 2 1 1 1 3 3 1 3 2 3 1 3 2 3 2 2 1 3 3\n",
      " 2 2 2 1 3 2 1 3]\n",
      "Accuracy: 0.9777777777777777\n"
     ]
    }
   ],
   "source": [
    "iris = datasets.load_iris()\n",
    "X = minmax_scale(iris.data)\n",
    "Y = iris.target\n",
    "Y += 1\n",
    "X_train, X_test, y_train, y_test = train_test_split(X, Y,test_size=.3)\n",
    "W, b, mape = elm_fit(X_train, y_train, 3)\n",
    "print('MAPE:', mape)\n",
    "output = elm_predict(X_test, W, b, round_output=True)\n",
    "accuracy = accuracy_score(output, y_test)\n",
    "\n",
    "\n",
    "\n",
    "print('Output:', output)\n",
    "print('True :', y_test)\n",
    "print('Accuracy:', accuracy)"
   ]
  },
  {
   "cell_type": "markdown",
   "metadata": {},
   "source": [
    "### BACKPROPAGATION"
   ]
  },
  {
   "cell_type": "code",
   "execution_count": 335,
   "metadata": {},
   "outputs": [],
   "source": [
    "import numpy as np\n",
    "\n",
    "def sig(x):\n",
    "    return 1 / (1 + np.exp(-x))\n",
    "\n",
    "def sigd(x):\n",
    "    s = sig(x)\n",
    "    return s * (1 - s)\n",
    "\n",
    "def bp_fit(X, target, layer_conf, max_epoch, max_error=.1, learn_rate=.1, print_per_epoch=100):\n",
    "    start_time = time.time()\n",
    "    np.random.seed(1)\n",
    "    nin = [np.empty(i) for i in layer_conf]\n",
    "\n",
    "    n = [np.empty(j + 1) if i < len(layer_conf) - 1 else np.empty(j) for i, j in enumerate(layer_conf)]\n",
    "    w = [np.random.rand(layer_conf[i] + 1, layer_conf[i + 1]) for i in range(len(layer_conf) - 1)]\n",
    "    dw = [np.empty((layer_conf[i] + 1, layer_conf[i + 1])) for i in range(len(layer_conf) - 1)]\n",
    "    d = [np.empty(s) for s in layer_conf[1:]]\n",
    "    din = [np.empty(s) for s in layer_conf[1:-1]]\n",
    "    epoch = 0\n",
    "    mse = 1\n",
    "\n",
    "    for i in range(0, len(n) - 1):\n",
    "        n[i][-1] = 1\n",
    "        \n",
    "    while (max_epoch == -1 or epoch < max_epoch) and mse > max_error:\n",
    "        epoch += 1\n",
    "        mse = 0\n",
    "        for r in range(len(X)):\n",
    "            n[0][:-1] = X[r]\n",
    "            for L in range(1, len(layer_conf)):\n",
    "                nin[L] = np.dot(n[L - 1], w[L - 1])\n",
    "                n[L][:len(nin[L])] = sig(nin[L])\n",
    "            e = target[r] - n[-1]\n",
    "            mse += sum(e ** 2)\n",
    "            d[-1] = e * sigd(nin[-1])\n",
    "            dw[-1] = learn_rate * d[-1] * n[-2].reshape((-1, 1))\n",
    "\n",
    "            for L in range(len(layer_conf) - 1, 1, -1):\n",
    "                din[L - 2] = np.dot(d[L - 1], np.transpose(w[L - 1][:-1]))\n",
    "                d[L - 2] = din[L - 2] * np.array(sigd(nin[L - 1]))\n",
    "\n",
    "                dw[L - 2] = (learn_rate * d[L - 2]) * n[L - 2].reshape((-1, 1))\n",
    "\n",
    "            for i in range(len(w)):\n",
    "                w[i] += dw[i]\n",
    "        mse /= len(X)\n",
    "        if print_per_epoch > -1 and epoch % print_per_epoch == 0:\n",
    "            print(f'Epoch {epoch}, MSE: {mse}')\n",
    "    \n",
    "    execution_time = time.time() - start_time\n",
    "    print(\"Waktu eksekusi: %s detik\" % execution_time)\n",
    "    return w, epoch, mse\n",
    "\n",
    "def onehot_enc(lbl, min_val=0):\n",
    "    mi = min(lbl)\n",
    "    enc = np.full((len(lbl), max(lbl) - mi + 1), min_val, np.int8)\n",
    "    for i, x in enumerate(lbl):\n",
    "        enc[i, x - mi] = 1\n",
    "    return enc\n",
    "\n",
    "def onehot_dec(enc, mi=0):\n",
    "    return [np.argmax(e) + mi for e in enc]"
   ]
  },
  {
   "cell_type": "code",
   "execution_count": 336,
   "metadata": {},
   "outputs": [],
   "source": [
    "def bp_predict(X, w):\n",
    "    n = [np.empty(len(i)) for i in w]\n",
    "    nin = [np.empty(len(i[0])) for i in w]\n",
    "    predict = []\n",
    "    n.append(np.empty(len(w[-1][0])))\n",
    "\n",
    "    for x in X:\n",
    "        n[0][:-1] = x  \n",
    "        for L in range(len(w)):\n",
    "            nin[L] = np.dot(n[L], w[L])\n",
    "            n[L + 1][:len(nin[L])] = sig(nin[L]) \n",
    "\n",
    "        predict.append(n[-1].copy())  \n",
    "\n",
    "    return predict\n"
   ]
  },
  {
   "cell_type": "code",
   "execution_count": 337,
   "metadata": {},
   "outputs": [
    {
     "name": "stdout",
     "output_type": "stream",
     "text": [
      "Waktu eksekusi: 0.19225072860717773 detik\n",
      "Epochs: 24, MSE: 0.49066777094513453\n",
      "Output: [0, 0, 2, 2, 0, 2, 0, 2, 0, 2, 0, 2, 0, 0, 0, 2, 0, 2, 2, 2, 0, 2, 2, 2, 0, 2, 2, 2, 2, 2, 2, 2, 2, 2, 0, 2, 2, 2, 2, 2, 2, 2, 0, 2, 2]\n",
      "True : [0, 0, 2, 1, 0, 1, 0, 1, 0, 2, 0, 2, 0, 0, 0, 2, 0, 2, 2, 2, 0, 1, 1, 1, 0, 1, 1, 2, 2, 2, 1, 1, 1, 1, 0, 1, 1, 2, 2, 2, 1, 2, 0, 2, 1]\n",
      "Accuracy: 0.6444444444444445\n"
     ]
    }
   ],
   "source": [
    "from sklearn import datasets\n",
    "from sklearn.model_selection import train_test_split\n",
    "from sklearn.preprocessing import minmax_scale\n",
    "from sklearn.metrics import accuracy_score\n",
    "\n",
    "\n",
    "# Menggunakan dataset Iris\n",
    "iris = datasets.load_iris()\n",
    "X = minmax_scale(iris.data)\n",
    "Y = onehot_enc(iris.target)\n",
    "\n",
    "# Membagi dataset menjadi data latih dan data uji dengan rasio 70:30\n",
    "X_train, X_test, y_train, y_test = train_test_split(X, Y, test_size=0.3)\n",
    "\n",
    "# Mengatur parameter yang diminta\n",
    "layer_conf = (4, 3, 3)  # 4 input neurons, 2 hidden neurons, 3 output neurons\n",
    "max_epoch = 100\n",
    "learn_rate = 0.1\n",
    "max_error = 0.5\n",
    "\n",
    "# Melatih model dengan parameter yang telah ditentukan\n",
    "w, ep, mse = bp_fit(X_train, y_train, layer_conf=layer_conf, learn_rate=learn_rate, max_epoch=max_epoch, max_error=max_error, print_per_epoch=25)\n",
    "\n",
    "# Menampilkan hasil pelatihan\n",
    "print(f'Epochs: {ep}, MSE: {mse}')\n",
    "\n",
    "# Melakukan prediksi pada data uji\n",
    "predict = bp_predict(X_test, w)\n",
    "predict = onehot_dec(predict)\n",
    "y_test = onehot_dec(y_test)\n",
    "\n",
    "# Menghitung akurasi\n",
    "accuracy = accuracy_score(predict, y_test)\n",
    "print('Output:', predict)\n",
    "print('True :', y_test)\n",
    "print('Accuracy:', accuracy)"
   ]
  }
 ],
 "metadata": {
  "colab": {
   "provenance": [],
   "toc_visible": true
  },
  "kernelspec": {
   "display_name": "base",
   "language": "python",
   "name": "python3"
  },
  "language_info": {
   "codemirror_mode": {
    "name": "ipython",
    "version": 3
   },
   "file_extension": ".py",
   "mimetype": "text/x-python",
   "name": "python",
   "nbconvert_exporter": "python",
   "pygments_lexer": "ipython3",
   "version": "3.12.7"
  }
 },
 "nbformat": 4,
 "nbformat_minor": 0
}
