{
 "cells": [
  {
   "cell_type": "code",
   "execution_count": 45,
   "metadata": {},
   "outputs": [],
   "source": [
    "import numpy as np\n",
    "import math"
   ]
  },
  {
   "cell_type": "code",
   "execution_count": 46,
   "metadata": {},
   "outputs": [],
   "source": [
    "def mcculloch_pitts(inputs, weights):\n",
    "  weighted_sum = np.dot(inputs, weights)\n",
    "  return weighted_sum  \n"
   ]
  },
  {
   "cell_type": "code",
   "execution_count": 47,
   "metadata": {},
   "outputs": [],
   "source": [
    "def function_activation(y_in, threshold):\n",
    "  if y_in >= threshold:\n",
    "    return 1\n",
    "  else:\n",
    "    return 0"
   ]
  },
  {
   "cell_type": "code",
   "execution_count": 48,
   "metadata": {},
   "outputs": [
    {
     "name": "stdout",
     "output_type": "stream",
     "text": [
      "Nilai x1 :  999\n",
      "Nilai x2 :  1000\n",
      "Nilai w1 :  999000\n",
      "Nilai w2 :  1999\n",
      "Threshold:  1811894329.4059997\n",
      "Y_in     :  1000000000\n",
      "Output   :  0\n",
      "Neuron Mati\n"
     ]
    }
   ],
   "source": [
    "x1 = 1\n",
    "x2 = 2\n",
    "w1 = 3\n",
    "w2 = 2\n",
    "iteration = 500\n",
    "\n",
    "for i in range (1, iteration):\n",
    "  x1 = x1 + 2\n",
    "  x2 = x2 + 2\n",
    "  if i % 2 == 0:\n",
    "    w1 = x1 + x2\n",
    "    w2 = x1 * x2\n",
    "  else:\n",
    "    w1 = x1 * x2\n",
    "    w2 = x1 + x2\n",
    "\n",
    "\n",
    "threshold = (x1*w2) + (x2*w1) * (1 + math.sin(x1 + x2))\n",
    "print(\"Nilai x1 : \", x1)\n",
    "print(\"Nilai x2 : \", x2)\n",
    "print(\"Nilai w1 : \", w1)\n",
    "print(\"Nilai w2 : \", w2)\n",
    "print(\"Threshold: \", threshold)\n",
    "y_in = mcculloch_pitts([x1, x2], [w1, w2])\n",
    "print(\"Y_in     : \", y_in)\n",
    "output = function_activation(y_in, threshold)\n",
    "print(\"Output   : \", output)\n",
    "\n",
    "if output == 1:\n",
    "  print(\"Neuron Menyala\")\n",
    "else:\n",
    "  print(\"Neuron Mati\")"
   ]
  },
  {
   "cell_type": "markdown",
   "metadata": {},
   "source": [
    "## Kesimpulan\n",
    "\n",
    "Berdasarkan output di atas maka dapat disimpulkan bahwa pada data ke 500 neuron akan mati atau dengan kata lain tidak menyala."
   ]
  }
 ],
 "metadata": {
  "kernelspec": {
   "display_name": "Python 3",
   "language": "python",
   "name": "python3"
  },
  "language_info": {
   "codemirror_mode": {
    "name": "ipython",
    "version": 3
   },
   "file_extension": ".py",
   "mimetype": "text/x-python",
   "name": "python",
   "nbconvert_exporter": "python",
   "pygments_lexer": "ipython3",
   "version": "3.12.5"
  }
 },
 "nbformat": 4,
 "nbformat_minor": 2
}
