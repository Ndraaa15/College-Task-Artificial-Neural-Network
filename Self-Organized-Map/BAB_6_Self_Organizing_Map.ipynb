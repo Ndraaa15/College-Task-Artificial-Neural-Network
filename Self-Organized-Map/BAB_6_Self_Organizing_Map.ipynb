{
 "cells": [
  {
   "cell_type": "markdown",
   "metadata": {
    "id": "8sBj-jBGbLEn"
   },
   "source": [
    "# Self-Organizing Maps"
   ]
  },
  {
   "cell_type": "markdown",
   "metadata": {
    "id": "pnT6xw0qbT0C"
   },
   "source": [
    "## Praktikum"
   ]
  },
  {
   "cell_type": "markdown",
   "metadata": {
    "id": "tC5FDai2begm"
   },
   "source": [
    "### a) Fungsi *self-organizing maps*\n",
    "Tulis kode ke dalam *cell* di bawah ini:"
   ]
  },
  {
   "cell_type": "code",
   "execution_count": 3,
   "metadata": {
    "id": "s8U5y5ESbzN8"
   },
   "outputs": [],
   "source": [
    "import numpy as np\n",
    "\n",
    "def som(X, lrate, b, max_epoch, n_cluster) :\n",
    "  centroids = np.random.uniform(size=(n_cluster, len(X[0])))\n",
    "  epoch = 0\n",
    "  labels = []\n",
    "\n",
    "  while epoch < max_epoch :\n",
    "    for x in X :\n",
    "      d = [sum((w-x) ** 2) for w in centroids]\n",
    "      min = np.argmin(d)\n",
    "      centroids[min] += lrate * (x - centroids[min])\n",
    "\n",
    "    lrate *= b\n",
    "    epoch += 1\n",
    "\n",
    "  for x in X :\n",
    "    d = [sum((w-x) ** 2) for w in centroids]\n",
    "    min = np.argmin(d)\n",
    "\n",
    "    labels.append(min)\n",
    "\n",
    "  return centroids, labels\n",
    "\n",
    "def draw(X, target, centroids) :\n",
    "  colors = 'rgbcmyk'\n",
    "\n",
    "  for x, label in zip(X, target) :\n",
    "    plt.plot(x[0], x[1], colors[label] + '.')\n",
    "    plt.plot(centroids[:, 0], centroids[:, 1], 'kx')"
   ]
  },
  {
   "cell_type": "markdown",
   "metadata": {
    "id": "xDauUXg8bz-Q"
   },
   "source": [
    "### b) Klasterisasi\n",
    "Tulis kode ke dalam *cell* di bawah ini:"
   ]
  },
  {
   "cell_type": "code",
   "execution_count": 4,
   "metadata": {
    "colab": {
     "base_uri": "https://localhost:8080/",
     "height": 447
    },
    "id": "6khcAIFGb8Jr",
    "outputId": "a93aa288-fd5e-40ba-a763-de3316c62594"
   },
   "outputs": [
    {
     "name": "stdout",
     "output_type": "stream",
     "text": [
      "Silhouette score: 0.29613180669265315\n"
     ]
    },
    {
     "data": {
      "image/png": "[encoded data removed]",
      "text/plain": [
       "<Figure size 640x480 with 1 Axes>"
      ]
     },
     "metadata": {},
     "output_type": "display_data"
    }
   ],
   "source": [
    "from sklearn.datasets import make_blobs\n",
    "from sklearn.metrics import silhouette_score\n",
    "import matplotlib.pyplot as plt\n",
    "\n",
    "X, target = make_blobs(n_samples=30, n_features=2, centers=3, random_state=3)\n",
    "centroids, labels = som(X, lrate=0.05, b=.5, max_epoch=3, n_cluster=3)\n",
    "silhouette = silhouette_score(X, labels)\n",
    "\n",
    "print('Silhouette score:', silhouette)\n",
    "draw(X, target, centroids)"
   ]
  },
  {
   "cell_type": "markdown",
   "metadata": {
    "id": "B8iVksbWV83s"
   },
   "source": [
    "Analisis\n",
    "\n",
    "Ubah parameter pada kode b menjadi rate = 0,05 dan epoch maksimum = 3 lalu jalankan program. Amati gambar hasil klasterisasi dan nilai silhouette yang didapatkan"
   ]
  }
 ],
 "metadata": {
  "colab": {
   "provenance": []
  },
  "kernelspec": {
   "display_name": "Python 3",
   "name": "python3"
  },
  "language_info": {
   "codemirror_mode": {
    "name": "ipython",
    "version": 3
   },
   "file_extension": ".py",
   "mimetype": "text/x-python",
   "name": "python",
   "nbconvert_exporter": "python",
   "pygments_lexer": "ipython3",
   "version": "3.12.5"
  }
 },
 "nbformat": 4,
 "nbformat_minor": 0
}
