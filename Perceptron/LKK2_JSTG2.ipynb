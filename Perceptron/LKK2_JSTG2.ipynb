{
 "cells": [
  {
   "cell_type": "code",
   "execution_count": 59,
   "metadata": {},
   "outputs": [],
   "source": [
    "import numpy as np\n",
    "import matplotlib.pyplot as plt\n",
    "\n",
    "def binary_step(x, threshold=0):\n",
    "    return 1 if x >= threshold else 0\n",
    "\n",
    "def bipolar_step(x, threshold=0):\n",
    "    return 1 if x >= threshold else -1\n",
    "\n",
    "def h_step(x, threshold=0):\n",
    "    if x > threshold:\n",
    "        return 1\n",
    "    elif x < -threshold:\n",
    "        return -1\n",
    "    else:\n",
    "        return 0\n",
    "\n",
    "class Perceptron:\n",
    "    def __init__(self, input_size, learning_rate=0.1, epochs=100, activation_function=binary_step, bias=0):\n",
    "        self.input_size = input_size\n",
    "        self.learning_rate = learning_rate\n",
    "        self.epochs = epochs\n",
    "        self.activation_function = activation_function\n",
    "        self.weights = np.zeros(input_size)\n",
    "        self.bias = bias\n",
    "        self.errors = []  # To store error for analysis\n",
    "    \n",
    "    def predict(self, X):\n",
    "        weighted_sum = np.dot(X, self.weights) + self.bias\n",
    "        return self.activation_function(weighted_sum, 0.2)\n",
    "    \n",
    "    def train(self, X_train, y_train):\n",
    "        for epoch in range(self.epochs):\n",
    "            total_error = 0\n",
    "            for i in range(len(X_train)):\n",
    "                X = X_train[i]\n",
    "                y = y_train[i]\n",
    "                prediction = self.predict(X)\n",
    "                error = y - prediction\n",
    "                total_error += abs(error)\n",
    "                \n",
    "                # Update weights\n",
    "                self.weights = [\n",
    "                    self.weights[j] + self.learning_rate * error * X[j] \n",
    "                    for j in range(len(X))\n",
    "                ]\n",
    "                # Update bias\n",
    "                self.bias += self.learning_rate * error\n",
    "            \n",
    "            self.errors.append(total_error)\n",
    "            print(f'Epoch {epoch+1}/{self.epochs}, Total Error: {total_error}, Weights: {self.weights}, Bias: {self.bias}')\n",
    "            if total_error == 0:  # Stop early if error is 0\n",
    "                break\n",
    "    \n",
    "    def evaluate(self, X_test, y_test):\n",
    "        predictions = [self.predict(x) for x in X_test]\n",
    "        accuracy = np.mean([pred == actual for pred, actual in zip(predictions, y_test)])\n",
    "        print(\"\\nDetail Predictions:\")\n",
    "        for i, (pred, actual) in enumerate(zip(predictions, y_test)):\n",
    "            print(f\"Input {i+1}: Prediction = {pred}, Actual = {actual}\")\n",
    "        return accuracy, predictions\n",
    "    \n",
    "    def plot_errors(self):\n",
    "        plt.figure(figsize=(10, 6))\n",
    "        plt.plot(range(1, len(self.errors) + 1), self.errors, marker='o', label='Total Error')\n",
    "        plt.title('Training Error Over Epochs')\n",
    "        plt.xlabel('Epochs')\n",
    "        plt.ylabel('Total Error')\n",
    "        plt.grid()\n",
    "        plt.legend()\n",
    "        plt.show()"
   ]
  },
  {
   "cell_type": "code",
   "execution_count": 60,
   "metadata": {},
   "outputs": [],
   "source": [
    "def calculate_metrics(y_true, y_pred):\n",
    "    tp = sum(1 for yt, yp in zip(y_true, y_pred) if yt == yp == 1)\n",
    "    tn = sum(1 for yt, yp in zip(y_true, y_pred) if yt == yp == 0)\n",
    "    fp = sum(1 for yt, yp in zip(y_true, y_pred) if yt == 0 and yp == 1)\n",
    "    fn = sum(1 for yt, yp in zip(y_true, y_pred) if yt == 1 and yp == 0)\n",
    "\n",
    "    precision = tp / (tp + fp) if (tp + fp) > 0 else 0\n",
    "    recall = tp / (tp + fn) if (tp + fn) > 0 else 0\n",
    "    f1_score = 2 * (precision * recall) / (precision + recall) if (precision + recall) > 0 else 0\n",
    "\n",
    "    print(\"\\nEvaluation Metrics:\")\n",
    "    print(f\"Precision: {precision:.2f}\")\n",
    "    print(f\"Recall: {recall:.2f}\")\n",
    "    print(f\"F1-Score: {f1_score:.2f}\")"
   ]
  },
  {
   "cell_type": "markdown",
   "metadata": {},
   "source": [
    "## AND Logic"
   ]
  },
  {
   "cell_type": "markdown",
   "metadata": {},
   "source": [
    "### Biner Biner"
   ]
  },
  {
   "cell_type": "code",
   "execution_count": 61,
   "metadata": {},
   "outputs": [
    {
     "name": "stdout",
     "output_type": "stream",
     "text": [
      "Epoch 1/100, Total Error: 1, Weights: [1.0, 1.0], Bias: 1\n",
      "Epoch 2/100, Total Error: 3, Weights: [2.0, 1.0], Bias: 0\n",
      "Epoch 3/100, Total Error: 3, Weights: [2.0, 1.0], Bias: -1\n",
      "Epoch 4/100, Total Error: 2, Weights: [2.0, 2.0], Bias: -1\n",
      "Epoch 5/100, Total Error: 1, Weights: [2.0, 1.0], Bias: -2\n",
      "Epoch 6/100, Total Error: 0, Weights: [2.0, 1.0], Bias: -2\n",
      "\n",
      "Detail Predictions:\n",
      "Input 1: Prediction = 0, Actual = 0\n",
      "Input 2: Prediction = 0, Actual = 0\n",
      "Input 3: Prediction = 0, Actual = 0\n",
      "Input 4: Prediction = 1, Actual = 1\n",
      "akurasi logika 'dan' dari input biner dan output biner adalah: (1.0, [0, 0, 0, 1])\n"
     ]
    }
   ],
   "source": [
    "X = np.array([[0, 0], [0, 1], [1, 0], [1, 1]])\n",
    "y = np.array([0, 0, 0, 1])\n",
    "\n",
    "perceptron = Perceptron(input_size=2, learning_rate=1, epochs=100, activation_function=binary_step)\n",
    "perceptron.train(X, y)\n",
    "accuracy = perceptron.evaluate(X, y)\n",
    "print(f\"akurasi logika 'dan' dari input biner dan output biner adalah: {accuracy}\")"
   ]
  },
  {
   "cell_type": "markdown",
   "metadata": {},
   "source": [
    "### Biner Bipolar"
   ]
  },
  {
   "cell_type": "code",
   "execution_count": 62,
   "metadata": {},
   "outputs": [
    {
     "name": "stdout",
     "output_type": "stream",
     "text": [
      "Epoch 1/100, Total Error: 2, Weights: [2.0, 2.0], Bias: 2\n",
      "Epoch 2/100, Total Error: 6, Weights: [4.0, 2.0], Bias: 0\n",
      "Epoch 3/100, Total Error: 6, Weights: [4.0, 2.0], Bias: -2\n",
      "Epoch 4/100, Total Error: 4, Weights: [4.0, 4.0], Bias: -2\n",
      "Epoch 5/100, Total Error: 2, Weights: [4.0, 2.0], Bias: -4\n",
      "Epoch 6/100, Total Error: 0, Weights: [4.0, 2.0], Bias: -4\n",
      "\n",
      "Detail Predictions:\n",
      "Input 1: Prediction = -1, Actual = -1\n",
      "Input 2: Prediction = -1, Actual = -1\n",
      "Input 3: Prediction = -1, Actual = -1\n",
      "Input 4: Prediction = 1, Actual = 1\n",
      "akurasi logika 'dan' dari input biner dan output bipolar adalah: (1.0, [-1, -1, -1, 1])\n"
     ]
    }
   ],
   "source": [
    "X = np.array([[0, 0], [0, 1], [1, 0], [1, 1]])\n",
    "y = np.array([-1, -1, -1, 1])\n",
    "\n",
    "perceptron = Perceptron(input_size=2, learning_rate=1, epochs=100, activation_function=bipolar_step)\n",
    "perceptron.train(X, y)\n",
    "accuracy = perceptron.evaluate(X, y)\n",
    "print(f\"akurasi logika 'dan' dari input biner dan output bipolar adalah: {accuracy}\")"
   ]
  },
  {
   "cell_type": "markdown",
   "metadata": {},
   "source": [
    "### Bipolar Bipolar"
   ]
  },
  {
   "cell_type": "code",
   "execution_count": 63,
   "metadata": {},
   "outputs": [
    {
     "name": "stdout",
     "output_type": "stream",
     "text": [
      "Epoch 1/100, Total Error: 2, Weights: [2.0, 2.0], Bias: 2\n",
      "Epoch 2/100, Total Error: 4, Weights: [2.0, 2.0], Bias: -2\n",
      "Epoch 3/100, Total Error: 0, Weights: [2.0, 2.0], Bias: -2\n",
      "\n",
      "Detail Predictions:\n",
      "Input 1: Prediction = -1, Actual = -1\n",
      "Input 2: Prediction = -1, Actual = -1\n",
      "Input 3: Prediction = -1, Actual = -1\n",
      "Input 4: Prediction = 1, Actual = 1\n",
      "akurasi logika 'dan' dari input bipolar dan output bipolar adalah: (1.0, [-1, -1, -1, 1])\n"
     ]
    }
   ],
   "source": [
    "X = np.array([[-1, -1], [-1, 1], [1, -1], [1, 1]])\n",
    "y = np.array([-1, -1, -1, 1])\n",
    "\n",
    "perceptron = Perceptron(input_size=2, learning_rate=1, epochs=100, activation_function=bipolar_step)\n",
    "perceptron.train(X, y)\n",
    "accuracy = perceptron.evaluate(X, y)\n",
    "print(f\"akurasi logika 'dan' dari input bipolar dan output bipolar adalah: {accuracy}\")"
   ]
  },
  {
   "cell_type": "markdown",
   "metadata": {},
   "source": [
    "## OR Logic"
   ]
  },
  {
   "cell_type": "markdown",
   "metadata": {},
   "source": [
    "### Biner Biner"
   ]
  },
  {
   "cell_type": "code",
   "execution_count": 64,
   "metadata": {},
   "outputs": [
    {
     "name": "stdout",
     "output_type": "stream",
     "text": [
      "Epoch 1/100, Total Error: 1, Weights: [0.0, 1.0], Bias: 1\n",
      "Epoch 2/100, Total Error: 2, Weights: [1.0, 1.0], Bias: 1\n",
      "Epoch 3/100, Total Error: 1, Weights: [1.0, 1.0], Bias: 0\n",
      "Epoch 4/100, Total Error: 0, Weights: [1.0, 1.0], Bias: 0\n",
      "\n",
      "Detail Predictions:\n",
      "Input 1: Prediction = 0, Actual = 0\n",
      "Input 2: Prediction = 1, Actual = 1\n",
      "Input 3: Prediction = 1, Actual = 1\n",
      "Input 4: Prediction = 1, Actual = 1\n",
      "akurasi logika 'atau' dari input biner dan output biner adalah: (1.0, [0, 1, 1, 1])\n"
     ]
    }
   ],
   "source": [
    "X = np.array([[0, 0], [0, 1], [1, 0], [1, 1]])\n",
    "y = np.array([0, 1, 1, 1])\n",
    "\n",
    "perceptron = Perceptron(input_size=2, learning_rate=1, epochs=100, activation_function=binary_step)\n",
    "perceptron.train(X, y)\n",
    "accuracy = perceptron.evaluate(X, y)\n",
    "print(f\"akurasi logika 'atau' dari input biner dan output biner adalah: {accuracy}\")"
   ]
  },
  {
   "cell_type": "markdown",
   "metadata": {},
   "source": [
    "### Biner Bipolar"
   ]
  },
  {
   "cell_type": "code",
   "execution_count": 65,
   "metadata": {},
   "outputs": [
    {
     "name": "stdout",
     "output_type": "stream",
     "text": [
      "Epoch 1/100, Total Error: 2, Weights: [0.0, 2.0], Bias: 2\n",
      "Epoch 2/100, Total Error: 4, Weights: [2.0, 2.0], Bias: 2\n",
      "Epoch 3/100, Total Error: 2, Weights: [2.0, 2.0], Bias: 0\n",
      "Epoch 4/100, Total Error: 0, Weights: [2.0, 2.0], Bias: 0\n",
      "\n",
      "Detail Predictions:\n",
      "Input 1: Prediction = -1, Actual = -1\n",
      "Input 2: Prediction = 1, Actual = 1\n",
      "Input 3: Prediction = 1, Actual = 1\n",
      "Input 4: Prediction = 1, Actual = 1\n",
      "akurasi logika 'atau' dari input biner dan output bipolar adalah: (1.0, [-1, 1, 1, 1])\n"
     ]
    }
   ],
   "source": [
    "X = np.array([[0, 0], [0, 1], [1, 0], [1, 1]])\n",
    "y = np.array([-1, 1, 1, 1])\n",
    "\n",
    "perceptron = Perceptron(input_size=2, learning_rate=1, epochs=100, activation_function=bipolar_step)\n",
    "perceptron.train(X, y)\n",
    "accuracy = perceptron.evaluate(X, y)\n",
    "print(f\"akurasi logika 'atau' dari input biner dan output bipolar adalah: {accuracy}\")"
   ]
  },
  {
   "cell_type": "markdown",
   "metadata": {},
   "source": [
    "### Bipolar Bipolar"
   ]
  },
  {
   "cell_type": "code",
   "execution_count": 66,
   "metadata": {},
   "outputs": [
    {
     "name": "stdout",
     "output_type": "stream",
     "text": [
      "Epoch 1/100, Total Error: 4, Weights: [0.0, 0.0], Bias: 4\n",
      "Epoch 2/100, Total Error: 2, Weights: [2.0, 2.0], Bias: 2\n",
      "Epoch 3/100, Total Error: 0, Weights: [2.0, 2.0], Bias: 2\n",
      "\n",
      "Detail Predictions:\n",
      "Input 1: Prediction = -1, Actual = -1\n",
      "Input 2: Prediction = 1, Actual = 1\n",
      "Input 3: Prediction = 1, Actual = 1\n",
      "Input 4: Prediction = 1, Actual = 1\n",
      "akurasi logika 'atau' dari input bipolar dan output bipolar adalah: (1.0, [-1, 1, 1, 1])\n"
     ]
    }
   ],
   "source": [
    "X = np.array([[-1, -1], [-1, 1], [1, -1], [1, 1]])\n",
    "y = np.array([-1, 1, 1, 1])\n",
    "\n",
    "perceptron = Perceptron(input_size=2, learning_rate=1, epochs=100, activation_function=bipolar_step)\n",
    "perceptron.train(X, y)\n",
    "accuracy = perceptron.evaluate(X, y)\n",
    "print(f\"akurasi logika 'atau' dari input bipolar dan output bipolar adalah: {accuracy}\")"
   ]
  },
  {
   "cell_type": "markdown",
   "metadata": {},
   "source": [
    "## AND NOT"
   ]
  },
  {
   "cell_type": "markdown",
   "metadata": {},
   "source": [
    "### Biner Biner"
   ]
  },
  {
   "cell_type": "code",
   "execution_count": 67,
   "metadata": {},
   "outputs": [
    {
     "name": "stdout",
     "output_type": "stream",
     "text": [
      "Epoch 1/100, Total Error: 2, Weights: [0.0, -1.0], Bias: 0\n",
      "Epoch 2/100, Total Error: 2, Weights: [0.0, -2.0], Bias: 0\n",
      "Epoch 3/100, Total Error: 1, Weights: [1.0, -2.0], Bias: 1\n",
      "Epoch 4/100, Total Error: 1, Weights: [1.0, -2.0], Bias: 0\n",
      "Epoch 5/100, Total Error: 0, Weights: [1.0, -2.0], Bias: 0\n",
      "\n",
      "Detail Predictions:\n",
      "Input 1: Prediction = 0, Actual = 0\n",
      "Input 2: Prediction = 0, Actual = 0\n",
      "Input 3: Prediction = 1, Actual = 1\n",
      "Input 4: Prediction = 0, Actual = 0\n",
      "akurasi logika 'and not' dari input biner dan output biner adalah: (1.0, [0, 0, 1, 0])\n"
     ]
    }
   ],
   "source": [
    "X = np.array([[0, 0], [0, 1], [1, 0], [1, 1]])\n",
    "y = np.array([0, 0, 1, 0])\n",
    "\n",
    "perceptron = Perceptron(input_size=2, learning_rate=1, epochs=100, activation_function=binary_step)\n",
    "perceptron.train(X, y)\n",
    "accuracy = perceptron.evaluate(X, y)\n",
    "print(f\"akurasi logika 'and not' dari input biner dan output biner adalah: {accuracy}\")"
   ]
  },
  {
   "cell_type": "markdown",
   "metadata": {},
   "source": [
    "### Biner Bipolar"
   ]
  },
  {
   "cell_type": "code",
   "execution_count": 68,
   "metadata": {},
   "outputs": [
    {
     "name": "stdout",
     "output_type": "stream",
     "text": [
      "Epoch 1/100, Total Error: 4, Weights: [0.0, -2.0], Bias: 0\n",
      "Epoch 2/100, Total Error: 4, Weights: [0.0, -4.0], Bias: 0\n",
      "Epoch 3/100, Total Error: 2, Weights: [2.0, -4.0], Bias: 2\n",
      "Epoch 4/100, Total Error: 2, Weights: [2.0, -4.0], Bias: 0\n",
      "Epoch 5/100, Total Error: 0, Weights: [2.0, -4.0], Bias: 0\n",
      "\n",
      "Detail Predictions:\n",
      "Input 1: Prediction = -1, Actual = -1\n",
      "Input 2: Prediction = -1, Actual = -1\n",
      "Input 3: Prediction = 1, Actual = 1\n",
      "Input 4: Prediction = -1, Actual = -1\n",
      "akurasi logika 'and not' dari input biner dan output bipolar adalah: (1.0, [-1, -1, 1, -1])\n"
     ]
    }
   ],
   "source": [
    "X = np.array([[0, 0], [0, 1], [1, 0], [1, 1]])\n",
    "y = np.array([-1, -1, 1, -1])\n",
    "\n",
    "perceptron = Perceptron(input_size=2, learning_rate=1, epochs=100, activation_function=bipolar_step)\n",
    "perceptron.train(X, y)\n",
    "accuracy = perceptron.evaluate(X, y)\n",
    "print(f\"akurasi logika 'and not' dari input biner dan output bipolar adalah: {accuracy}\")"
   ]
  },
  {
   "cell_type": "markdown",
   "metadata": {},
   "source": [
    "### Bipolar Bipolar"
   ]
  },
  {
   "cell_type": "code",
   "execution_count": 69,
   "metadata": {},
   "outputs": [
    {
     "name": "stdout",
     "output_type": "stream",
     "text": [
      "Epoch 1/100, Total Error: 4, Weights: [0.0, -4.0], Bias: 0\n",
      "Epoch 2/100, Total Error: 2, Weights: [2.0, -2.0], Bias: -2\n",
      "Epoch 3/100, Total Error: 0, Weights: [2.0, -2.0], Bias: -2\n",
      "\n",
      "Detail Predictions:\n",
      "Input 1: Prediction = -1, Actual = -1\n",
      "Input 2: Prediction = -1, Actual = -1\n",
      "Input 3: Prediction = 1, Actual = 1\n",
      "Input 4: Prediction = -1, Actual = -1\n",
      "akurasi logika 'and not' dari input bipolar dan output bipolar adalah: (1.0, [-1, -1, 1, -1])\n"
     ]
    }
   ],
   "source": [
    "X = np.array([[-1, -1], [-1, 1], [1, -1], [1, 1]])\n",
    "y = np.array([-1, -1, 1, -1])\n",
    "\n",
    "perceptron = Perceptron(input_size=2, learning_rate=1, epochs=100, activation_function=bipolar_step)\n",
    "perceptron.train(X, y)\n",
    "accuracy = perceptron.evaluate(X, y)\n",
    "print(f\"akurasi logika 'and not' dari input bipolar dan output bipolar adalah: {accuracy}\")"
   ]
  },
  {
   "cell_type": "markdown",
   "metadata": {},
   "source": [
    "## XOR Logic"
   ]
  },
  {
   "cell_type": "markdown",
   "metadata": {},
   "source": [
    "### Biner Biner"
   ]
  },
  {
   "cell_type": "code",
   "execution_count": 70,
   "metadata": {},
   "outputs": [
    {
     "name": "stdout",
     "output_type": "stream",
     "text": [
      "Epoch 1/100, Total Error: 2, Weights: [-1.0, 0.0], Bias: 0\n",
      "Epoch 2/100, Total Error: 3, Weights: [-1.0, 0.0], Bias: 1\n",
      "Epoch 3/100, Total Error: 4, Weights: [-1.0, 0.0], Bias: 1\n",
      "Epoch 4/100, Total Error: 4, Weights: [-1.0, 0.0], Bias: 1\n",
      "Epoch 5/100, Total Error: 4, Weights: [-1.0, 0.0], Bias: 1\n",
      "Epoch 6/100, Total Error: 4, Weights: [-1.0, 0.0], Bias: 1\n",
      "Epoch 7/100, Total Error: 4, Weights: [-1.0, 0.0], Bias: 1\n",
      "Epoch 8/100, Total Error: 4, Weights: [-1.0, 0.0], Bias: 1\n",
      "Epoch 9/100, Total Error: 4, Weights: [-1.0, 0.0], Bias: 1\n",
      "Epoch 10/100, Total Error: 4, Weights: [-1.0, 0.0], Bias: 1\n",
      "Epoch 11/100, Total Error: 4, Weights: [-1.0, 0.0], Bias: 1\n",
      "Epoch 12/100, Total Error: 4, Weights: [-1.0, 0.0], Bias: 1\n",
      "Epoch 13/100, Total Error: 4, Weights: [-1.0, 0.0], Bias: 1\n",
      "Epoch 14/100, Total Error: 4, Weights: [-1.0, 0.0], Bias: 1\n",
      "Epoch 15/100, Total Error: 4, Weights: [-1.0, 0.0], Bias: 1\n",
      "Epoch 16/100, Total Error: 4, Weights: [-1.0, 0.0], Bias: 1\n",
      "Epoch 17/100, Total Error: 4, Weights: [-1.0, 0.0], Bias: 1\n",
      "Epoch 18/100, Total Error: 4, Weights: [-1.0, 0.0], Bias: 1\n",
      "Epoch 19/100, Total Error: 4, Weights: [-1.0, 0.0], Bias: 1\n",
      "Epoch 20/100, Total Error: 4, Weights: [-1.0, 0.0], Bias: 1\n",
      "Epoch 21/100, Total Error: 4, Weights: [-1.0, 0.0], Bias: 1\n",
      "Epoch 22/100, Total Error: 4, Weights: [-1.0, 0.0], Bias: 1\n",
      "Epoch 23/100, Total Error: 4, Weights: [-1.0, 0.0], Bias: 1\n",
      "Epoch 24/100, Total Error: 4, Weights: [-1.0, 0.0], Bias: 1\n",
      "Epoch 25/100, Total Error: 4, Weights: [-1.0, 0.0], Bias: 1\n",
      "Epoch 26/100, Total Error: 4, Weights: [-1.0, 0.0], Bias: 1\n",
      "Epoch 27/100, Total Error: 4, Weights: [-1.0, 0.0], Bias: 1\n",
      "Epoch 28/100, Total Error: 4, Weights: [-1.0, 0.0], Bias: 1\n",
      "Epoch 29/100, Total Error: 4, Weights: [-1.0, 0.0], Bias: 1\n",
      "Epoch 30/100, Total Error: 4, Weights: [-1.0, 0.0], Bias: 1\n",
      "Epoch 31/100, Total Error: 4, Weights: [-1.0, 0.0], Bias: 1\n",
      "Epoch 32/100, Total Error: 4, Weights: [-1.0, 0.0], Bias: 1\n",
      "Epoch 33/100, Total Error: 4, Weights: [-1.0, 0.0], Bias: 1\n",
      "Epoch 34/100, Total Error: 4, Weights: [-1.0, 0.0], Bias: 1\n",
      "Epoch 35/100, Total Error: 4, Weights: [-1.0, 0.0], Bias: 1\n",
      "Epoch 36/100, Total Error: 4, Weights: [-1.0, 0.0], Bias: 1\n",
      "Epoch 37/100, Total Error: 4, Weights: [-1.0, 0.0], Bias: 1\n",
      "Epoch 38/100, Total Error: 4, Weights: [-1.0, 0.0], Bias: 1\n",
      "Epoch 39/100, Total Error: 4, Weights: [-1.0, 0.0], Bias: 1\n",
      "Epoch 40/100, Total Error: 4, Weights: [-1.0, 0.0], Bias: 1\n",
      "Epoch 41/100, Total Error: 4, Weights: [-1.0, 0.0], Bias: 1\n",
      "Epoch 42/100, Total Error: 4, Weights: [-1.0, 0.0], Bias: 1\n",
      "Epoch 43/100, Total Error: 4, Weights: [-1.0, 0.0], Bias: 1\n",
      "Epoch 44/100, Total Error: 4, Weights: [-1.0, 0.0], Bias: 1\n",
      "Epoch 45/100, Total Error: 4, Weights: [-1.0, 0.0], Bias: 1\n",
      "Epoch 46/100, Total Error: 4, Weights: [-1.0, 0.0], Bias: 1\n",
      "Epoch 47/100, Total Error: 4, Weights: [-1.0, 0.0], Bias: 1\n",
      "Epoch 48/100, Total Error: 4, Weights: [-1.0, 0.0], Bias: 1\n",
      "Epoch 49/100, Total Error: 4, Weights: [-1.0, 0.0], Bias: 1\n",
      "Epoch 50/100, Total Error: 4, Weights: [-1.0, 0.0], Bias: 1\n",
      "Epoch 51/100, Total Error: 4, Weights: [-1.0, 0.0], Bias: 1\n",
      "Epoch 52/100, Total Error: 4, Weights: [-1.0, 0.0], Bias: 1\n",
      "Epoch 53/100, Total Error: 4, Weights: [-1.0, 0.0], Bias: 1\n",
      "Epoch 54/100, Total Error: 4, Weights: [-1.0, 0.0], Bias: 1\n",
      "Epoch 55/100, Total Error: 4, Weights: [-1.0, 0.0], Bias: 1\n",
      "Epoch 56/100, Total Error: 4, Weights: [-1.0, 0.0], Bias: 1\n",
      "Epoch 57/100, Total Error: 4, Weights: [-1.0, 0.0], Bias: 1\n",
      "Epoch 58/100, Total Error: 4, Weights: [-1.0, 0.0], Bias: 1\n",
      "Epoch 59/100, Total Error: 4, Weights: [-1.0, 0.0], Bias: 1\n",
      "Epoch 60/100, Total Error: 4, Weights: [-1.0, 0.0], Bias: 1\n",
      "Epoch 61/100, Total Error: 4, Weights: [-1.0, 0.0], Bias: 1\n",
      "Epoch 62/100, Total Error: 4, Weights: [-1.0, 0.0], Bias: 1\n",
      "Epoch 63/100, Total Error: 4, Weights: [-1.0, 0.0], Bias: 1\n",
      "Epoch 64/100, Total Error: 4, Weights: [-1.0, 0.0], Bias: 1\n",
      "Epoch 65/100, Total Error: 4, Weights: [-1.0, 0.0], Bias: 1\n",
      "Epoch 66/100, Total Error: 4, Weights: [-1.0, 0.0], Bias: 1\n",
      "Epoch 67/100, Total Error: 4, Weights: [-1.0, 0.0], Bias: 1\n",
      "Epoch 68/100, Total Error: 4, Weights: [-1.0, 0.0], Bias: 1\n",
      "Epoch 69/100, Total Error: 4, Weights: [-1.0, 0.0], Bias: 1\n",
      "Epoch 70/100, Total Error: 4, Weights: [-1.0, 0.0], Bias: 1\n",
      "Epoch 71/100, Total Error: 4, Weights: [-1.0, 0.0], Bias: 1\n",
      "Epoch 72/100, Total Error: 4, Weights: [-1.0, 0.0], Bias: 1\n",
      "Epoch 73/100, Total Error: 4, Weights: [-1.0, 0.0], Bias: 1\n",
      "Epoch 74/100, Total Error: 4, Weights: [-1.0, 0.0], Bias: 1\n",
      "Epoch 75/100, Total Error: 4, Weights: [-1.0, 0.0], Bias: 1\n",
      "Epoch 76/100, Total Error: 4, Weights: [-1.0, 0.0], Bias: 1\n",
      "Epoch 77/100, Total Error: 4, Weights: [-1.0, 0.0], Bias: 1\n",
      "Epoch 78/100, Total Error: 4, Weights: [-1.0, 0.0], Bias: 1\n",
      "Epoch 79/100, Total Error: 4, Weights: [-1.0, 0.0], Bias: 1\n",
      "Epoch 80/100, Total Error: 4, Weights: [-1.0, 0.0], Bias: 1\n",
      "Epoch 81/100, Total Error: 4, Weights: [-1.0, 0.0], Bias: 1\n",
      "Epoch 82/100, Total Error: 4, Weights: [-1.0, 0.0], Bias: 1\n",
      "Epoch 83/100, Total Error: 4, Weights: [-1.0, 0.0], Bias: 1\n",
      "Epoch 84/100, Total Error: 4, Weights: [-1.0, 0.0], Bias: 1\n",
      "Epoch 85/100, Total Error: 4, Weights: [-1.0, 0.0], Bias: 1\n",
      "Epoch 86/100, Total Error: 4, Weights: [-1.0, 0.0], Bias: 1\n",
      "Epoch 87/100, Total Error: 4, Weights: [-1.0, 0.0], Bias: 1\n",
      "Epoch 88/100, Total Error: 4, Weights: [-1.0, 0.0], Bias: 1\n",
      "Epoch 89/100, Total Error: 4, Weights: [-1.0, 0.0], Bias: 1\n",
      "Epoch 90/100, Total Error: 4, Weights: [-1.0, 0.0], Bias: 1\n",
      "Epoch 91/100, Total Error: 4, Weights: [-1.0, 0.0], Bias: 1\n",
      "Epoch 92/100, Total Error: 4, Weights: [-1.0, 0.0], Bias: 1\n",
      "Epoch 93/100, Total Error: 4, Weights: [-1.0, 0.0], Bias: 1\n",
      "Epoch 94/100, Total Error: 4, Weights: [-1.0, 0.0], Bias: 1\n",
      "Epoch 95/100, Total Error: 4, Weights: [-1.0, 0.0], Bias: 1\n",
      "Epoch 96/100, Total Error: 4, Weights: [-1.0, 0.0], Bias: 1\n",
      "Epoch 97/100, Total Error: 4, Weights: [-1.0, 0.0], Bias: 1\n",
      "Epoch 98/100, Total Error: 4, Weights: [-1.0, 0.0], Bias: 1\n",
      "Epoch 99/100, Total Error: 4, Weights: [-1.0, 0.0], Bias: 1\n",
      "Epoch 100/100, Total Error: 4, Weights: [-1.0, 0.0], Bias: 1\n",
      "\n",
      "Detail Predictions:\n",
      "Input 1: Prediction = 1, Actual = 0\n",
      "Input 2: Prediction = 1, Actual = 1\n",
      "Input 3: Prediction = 0, Actual = 1\n",
      "Input 4: Prediction = 0, Actual = 0\n",
      "akurasi logika 'xor' dari input biner dan output biner adalah: (0.5, [1, 1, 0, 0])\n"
     ]
    }
   ],
   "source": [
    "X = np.array([[0, 0], [0, 1], [1, 0], [1, 1]])\n",
    "y = np.array([0, 1, 1, 0])\n",
    "\n",
    "perceptron = Perceptron(input_size=2, learning_rate=1, epochs=100, activation_function=binary_step)\n",
    "perceptron.train(X, y)\n",
    "accuracy = perceptron.evaluate(X, y)\n",
    "print(f\"akurasi logika 'xor' dari input biner dan output biner adalah: {accuracy}\")"
   ]
  },
  {
   "cell_type": "markdown",
   "metadata": {},
   "source": [
    "### Biner Bipolar"
   ]
  },
  {
   "cell_type": "code",
   "execution_count": 71,
   "metadata": {},
   "outputs": [
    {
     "name": "stdout",
     "output_type": "stream",
     "text": [
      "Epoch 1/100, Total Error: 4, Weights: [-2.0, 0.0], Bias: 0\n",
      "Epoch 2/100, Total Error: 6, Weights: [-2.0, 0.0], Bias: 2\n",
      "Epoch 3/100, Total Error: 8, Weights: [-2.0, 0.0], Bias: 2\n",
      "Epoch 4/100, Total Error: 8, Weights: [-2.0, 0.0], Bias: 2\n",
      "Epoch 5/100, Total Error: 8, Weights: [-2.0, 0.0], Bias: 2\n",
      "Epoch 6/100, Total Error: 8, Weights: [-2.0, 0.0], Bias: 2\n",
      "Epoch 7/100, Total Error: 8, Weights: [-2.0, 0.0], Bias: 2\n",
      "Epoch 8/100, Total Error: 8, Weights: [-2.0, 0.0], Bias: 2\n",
      "Epoch 9/100, Total Error: 8, Weights: [-2.0, 0.0], Bias: 2\n",
      "Epoch 10/100, Total Error: 8, Weights: [-2.0, 0.0], Bias: 2\n",
      "Epoch 11/100, Total Error: 8, Weights: [-2.0, 0.0], Bias: 2\n",
      "Epoch 12/100, Total Error: 8, Weights: [-2.0, 0.0], Bias: 2\n",
      "Epoch 13/100, Total Error: 8, Weights: [-2.0, 0.0], Bias: 2\n",
      "Epoch 14/100, Total Error: 8, Weights: [-2.0, 0.0], Bias: 2\n",
      "Epoch 15/100, Total Error: 8, Weights: [-2.0, 0.0], Bias: 2\n",
      "Epoch 16/100, Total Error: 8, Weights: [-2.0, 0.0], Bias: 2\n",
      "Epoch 17/100, Total Error: 8, Weights: [-2.0, 0.0], Bias: 2\n",
      "Epoch 18/100, Total Error: 8, Weights: [-2.0, 0.0], Bias: 2\n",
      "Epoch 19/100, Total Error: 8, Weights: [-2.0, 0.0], Bias: 2\n",
      "Epoch 20/100, Total Error: 8, Weights: [-2.0, 0.0], Bias: 2\n",
      "Epoch 21/100, Total Error: 8, Weights: [-2.0, 0.0], Bias: 2\n",
      "Epoch 22/100, Total Error: 8, Weights: [-2.0, 0.0], Bias: 2\n",
      "Epoch 23/100, Total Error: 8, Weights: [-2.0, 0.0], Bias: 2\n",
      "Epoch 24/100, Total Error: 8, Weights: [-2.0, 0.0], Bias: 2\n",
      "Epoch 25/100, Total Error: 8, Weights: [-2.0, 0.0], Bias: 2\n",
      "Epoch 26/100, Total Error: 8, Weights: [-2.0, 0.0], Bias: 2\n",
      "Epoch 27/100, Total Error: 8, Weights: [-2.0, 0.0], Bias: 2\n",
      "Epoch 28/100, Total Error: 8, Weights: [-2.0, 0.0], Bias: 2\n",
      "Epoch 29/100, Total Error: 8, Weights: [-2.0, 0.0], Bias: 2\n",
      "Epoch 30/100, Total Error: 8, Weights: [-2.0, 0.0], Bias: 2\n",
      "Epoch 31/100, Total Error: 8, Weights: [-2.0, 0.0], Bias: 2\n",
      "Epoch 32/100, Total Error: 8, Weights: [-2.0, 0.0], Bias: 2\n",
      "Epoch 33/100, Total Error: 8, Weights: [-2.0, 0.0], Bias: 2\n",
      "Epoch 34/100, Total Error: 8, Weights: [-2.0, 0.0], Bias: 2\n",
      "Epoch 35/100, Total Error: 8, Weights: [-2.0, 0.0], Bias: 2\n",
      "Epoch 36/100, Total Error: 8, Weights: [-2.0, 0.0], Bias: 2\n",
      "Epoch 37/100, Total Error: 8, Weights: [-2.0, 0.0], Bias: 2\n",
      "Epoch 38/100, Total Error: 8, Weights: [-2.0, 0.0], Bias: 2\n",
      "Epoch 39/100, Total Error: 8, Weights: [-2.0, 0.0], Bias: 2\n",
      "Epoch 40/100, Total Error: 8, Weights: [-2.0, 0.0], Bias: 2\n",
      "Epoch 41/100, Total Error: 8, Weights: [-2.0, 0.0], Bias: 2\n",
      "Epoch 42/100, Total Error: 8, Weights: [-2.0, 0.0], Bias: 2\n",
      "Epoch 43/100, Total Error: 8, Weights: [-2.0, 0.0], Bias: 2\n",
      "Epoch 44/100, Total Error: 8, Weights: [-2.0, 0.0], Bias: 2\n",
      "Epoch 45/100, Total Error: 8, Weights: [-2.0, 0.0], Bias: 2\n",
      "Epoch 46/100, Total Error: 8, Weights: [-2.0, 0.0], Bias: 2\n",
      "Epoch 47/100, Total Error: 8, Weights: [-2.0, 0.0], Bias: 2\n",
      "Epoch 48/100, Total Error: 8, Weights: [-2.0, 0.0], Bias: 2\n",
      "Epoch 49/100, Total Error: 8, Weights: [-2.0, 0.0], Bias: 2\n",
      "Epoch 50/100, Total Error: 8, Weights: [-2.0, 0.0], Bias: 2\n",
      "Epoch 51/100, Total Error: 8, Weights: [-2.0, 0.0], Bias: 2\n",
      "Epoch 52/100, Total Error: 8, Weights: [-2.0, 0.0], Bias: 2\n",
      "Epoch 53/100, Total Error: 8, Weights: [-2.0, 0.0], Bias: 2\n",
      "Epoch 54/100, Total Error: 8, Weights: [-2.0, 0.0], Bias: 2\n",
      "Epoch 55/100, Total Error: 8, Weights: [-2.0, 0.0], Bias: 2\n",
      "Epoch 56/100, Total Error: 8, Weights: [-2.0, 0.0], Bias: 2\n",
      "Epoch 57/100, Total Error: 8, Weights: [-2.0, 0.0], Bias: 2\n",
      "Epoch 58/100, Total Error: 8, Weights: [-2.0, 0.0], Bias: 2\n",
      "Epoch 59/100, Total Error: 8, Weights: [-2.0, 0.0], Bias: 2\n",
      "Epoch 60/100, Total Error: 8, Weights: [-2.0, 0.0], Bias: 2\n",
      "Epoch 61/100, Total Error: 8, Weights: [-2.0, 0.0], Bias: 2\n",
      "Epoch 62/100, Total Error: 8, Weights: [-2.0, 0.0], Bias: 2\n",
      "Epoch 63/100, Total Error: 8, Weights: [-2.0, 0.0], Bias: 2\n",
      "Epoch 64/100, Total Error: 8, Weights: [-2.0, 0.0], Bias: 2\n",
      "Epoch 65/100, Total Error: 8, Weights: [-2.0, 0.0], Bias: 2\n",
      "Epoch 66/100, Total Error: 8, Weights: [-2.0, 0.0], Bias: 2\n",
      "Epoch 67/100, Total Error: 8, Weights: [-2.0, 0.0], Bias: 2\n",
      "Epoch 68/100, Total Error: 8, Weights: [-2.0, 0.0], Bias: 2\n",
      "Epoch 69/100, Total Error: 8, Weights: [-2.0, 0.0], Bias: 2\n",
      "Epoch 70/100, Total Error: 8, Weights: [-2.0, 0.0], Bias: 2\n",
      "Epoch 71/100, Total Error: 8, Weights: [-2.0, 0.0], Bias: 2\n",
      "Epoch 72/100, Total Error: 8, Weights: [-2.0, 0.0], Bias: 2\n",
      "Epoch 73/100, Total Error: 8, Weights: [-2.0, 0.0], Bias: 2\n",
      "Epoch 74/100, Total Error: 8, Weights: [-2.0, 0.0], Bias: 2\n",
      "Epoch 75/100, Total Error: 8, Weights: [-2.0, 0.0], Bias: 2\n",
      "Epoch 76/100, Total Error: 8, Weights: [-2.0, 0.0], Bias: 2\n",
      "Epoch 77/100, Total Error: 8, Weights: [-2.0, 0.0], Bias: 2\n",
      "Epoch 78/100, Total Error: 8, Weights: [-2.0, 0.0], Bias: 2\n",
      "Epoch 79/100, Total Error: 8, Weights: [-2.0, 0.0], Bias: 2\n",
      "Epoch 80/100, Total Error: 8, Weights: [-2.0, 0.0], Bias: 2\n",
      "Epoch 81/100, Total Error: 8, Weights: [-2.0, 0.0], Bias: 2\n",
      "Epoch 82/100, Total Error: 8, Weights: [-2.0, 0.0], Bias: 2\n",
      "Epoch 83/100, Total Error: 8, Weights: [-2.0, 0.0], Bias: 2\n",
      "Epoch 84/100, Total Error: 8, Weights: [-2.0, 0.0], Bias: 2\n",
      "Epoch 85/100, Total Error: 8, Weights: [-2.0, 0.0], Bias: 2\n",
      "Epoch 86/100, Total Error: 8, Weights: [-2.0, 0.0], Bias: 2\n",
      "Epoch 87/100, Total Error: 8, Weights: [-2.0, 0.0], Bias: 2\n",
      "Epoch 88/100, Total Error: 8, Weights: [-2.0, 0.0], Bias: 2\n",
      "Epoch 89/100, Total Error: 8, Weights: [-2.0, 0.0], Bias: 2\n",
      "Epoch 90/100, Total Error: 8, Weights: [-2.0, 0.0], Bias: 2\n",
      "Epoch 91/100, Total Error: 8, Weights: [-2.0, 0.0], Bias: 2\n",
      "Epoch 92/100, Total Error: 8, Weights: [-2.0, 0.0], Bias: 2\n",
      "Epoch 93/100, Total Error: 8, Weights: [-2.0, 0.0], Bias: 2\n",
      "Epoch 94/100, Total Error: 8, Weights: [-2.0, 0.0], Bias: 2\n",
      "Epoch 95/100, Total Error: 8, Weights: [-2.0, 0.0], Bias: 2\n",
      "Epoch 96/100, Total Error: 8, Weights: [-2.0, 0.0], Bias: 2\n",
      "Epoch 97/100, Total Error: 8, Weights: [-2.0, 0.0], Bias: 2\n",
      "Epoch 98/100, Total Error: 8, Weights: [-2.0, 0.0], Bias: 2\n",
      "Epoch 99/100, Total Error: 8, Weights: [-2.0, 0.0], Bias: 2\n",
      "Epoch 100/100, Total Error: 8, Weights: [-2.0, 0.0], Bias: 2\n",
      "\n",
      "Detail Predictions:\n",
      "Input 1: Prediction = 1, Actual = -1\n",
      "Input 2: Prediction = 1, Actual = 1\n",
      "Input 3: Prediction = -1, Actual = 1\n",
      "Input 4: Prediction = -1, Actual = -1\n",
      "akurasi logika 'xor' dari input biner dan output biner adalah: (0.5, [1, 1, -1, -1])\n"
     ]
    }
   ],
   "source": [
    "X = np.array([[0, 0], [0, 1], [1, 0], [1, 1]])\n",
    "y = np.array([-1, 1, 1, -1])\n",
    "\n",
    "perceptron = Perceptron(input_size=2, learning_rate=1, epochs=100, activation_function=bipolar_step)\n",
    "perceptron.train(X, y)\n",
    "accuracy = perceptron.evaluate(X, y)\n",
    "print(f\"akurasi logika 'xor' dari input biner dan output biner adalah: {accuracy}\")"
   ]
  },
  {
   "cell_type": "markdown",
   "metadata": {},
   "source": [
    "### Bipolar Bipolar"
   ]
  },
  {
   "cell_type": "code",
   "execution_count": 72,
   "metadata": {},
   "outputs": [
    {
     "name": "stdout",
     "output_type": "stream",
     "text": [
      "Epoch 1/100, Total Error: 6, Weights: [-2.0, -2.0], Bias: 2\n",
      "Epoch 2/100, Total Error: 8, Weights: [-2.0, -2.0], Bias: 2\n",
      "Epoch 3/100, Total Error: 8, Weights: [-2.0, -2.0], Bias: 2\n",
      "Epoch 4/100, Total Error: 8, Weights: [-2.0, -2.0], Bias: 2\n",
      "Epoch 5/100, Total Error: 8, Weights: [-2.0, -2.0], Bias: 2\n",
      "Epoch 6/100, Total Error: 8, Weights: [-2.0, -2.0], Bias: 2\n",
      "Epoch 7/100, Total Error: 8, Weights: [-2.0, -2.0], Bias: 2\n",
      "Epoch 8/100, Total Error: 8, Weights: [-2.0, -2.0], Bias: 2\n",
      "Epoch 9/100, Total Error: 8, Weights: [-2.0, -2.0], Bias: 2\n",
      "Epoch 10/100, Total Error: 8, Weights: [-2.0, -2.0], Bias: 2\n",
      "Epoch 11/100, Total Error: 8, Weights: [-2.0, -2.0], Bias: 2\n",
      "Epoch 12/100, Total Error: 8, Weights: [-2.0, -2.0], Bias: 2\n",
      "Epoch 13/100, Total Error: 8, Weights: [-2.0, -2.0], Bias: 2\n",
      "Epoch 14/100, Total Error: 8, Weights: [-2.0, -2.0], Bias: 2\n",
      "Epoch 15/100, Total Error: 8, Weights: [-2.0, -2.0], Bias: 2\n",
      "Epoch 16/100, Total Error: 8, Weights: [-2.0, -2.0], Bias: 2\n",
      "Epoch 17/100, Total Error: 8, Weights: [-2.0, -2.0], Bias: 2\n",
      "Epoch 18/100, Total Error: 8, Weights: [-2.0, -2.0], Bias: 2\n",
      "Epoch 19/100, Total Error: 8, Weights: [-2.0, -2.0], Bias: 2\n",
      "Epoch 20/100, Total Error: 8, Weights: [-2.0, -2.0], Bias: 2\n",
      "Epoch 21/100, Total Error: 8, Weights: [-2.0, -2.0], Bias: 2\n",
      "Epoch 22/100, Total Error: 8, Weights: [-2.0, -2.0], Bias: 2\n",
      "Epoch 23/100, Total Error: 8, Weights: [-2.0, -2.0], Bias: 2\n",
      "Epoch 24/100, Total Error: 8, Weights: [-2.0, -2.0], Bias: 2\n",
      "Epoch 25/100, Total Error: 8, Weights: [-2.0, -2.0], Bias: 2\n",
      "Epoch 26/100, Total Error: 8, Weights: [-2.0, -2.0], Bias: 2\n",
      "Epoch 27/100, Total Error: 8, Weights: [-2.0, -2.0], Bias: 2\n",
      "Epoch 28/100, Total Error: 8, Weights: [-2.0, -2.0], Bias: 2\n",
      "Epoch 29/100, Total Error: 8, Weights: [-2.0, -2.0], Bias: 2\n",
      "Epoch 30/100, Total Error: 8, Weights: [-2.0, -2.0], Bias: 2\n",
      "Epoch 31/100, Total Error: 8, Weights: [-2.0, -2.0], Bias: 2\n",
      "Epoch 32/100, Total Error: 8, Weights: [-2.0, -2.0], Bias: 2\n",
      "Epoch 33/100, Total Error: 8, Weights: [-2.0, -2.0], Bias: 2\n",
      "Epoch 34/100, Total Error: 8, Weights: [-2.0, -2.0], Bias: 2\n",
      "Epoch 35/100, Total Error: 8, Weights: [-2.0, -2.0], Bias: 2\n",
      "Epoch 36/100, Total Error: 8, Weights: [-2.0, -2.0], Bias: 2\n",
      "Epoch 37/100, Total Error: 8, Weights: [-2.0, -2.0], Bias: 2\n",
      "Epoch 38/100, Total Error: 8, Weights: [-2.0, -2.0], Bias: 2\n",
      "Epoch 39/100, Total Error: 8, Weights: [-2.0, -2.0], Bias: 2\n",
      "Epoch 40/100, Total Error: 8, Weights: [-2.0, -2.0], Bias: 2\n",
      "Epoch 41/100, Total Error: 8, Weights: [-2.0, -2.0], Bias: 2\n",
      "Epoch 42/100, Total Error: 8, Weights: [-2.0, -2.0], Bias: 2\n",
      "Epoch 43/100, Total Error: 8, Weights: [-2.0, -2.0], Bias: 2\n",
      "Epoch 44/100, Total Error: 8, Weights: [-2.0, -2.0], Bias: 2\n",
      "Epoch 45/100, Total Error: 8, Weights: [-2.0, -2.0], Bias: 2\n",
      "Epoch 46/100, Total Error: 8, Weights: [-2.0, -2.0], Bias: 2\n",
      "Epoch 47/100, Total Error: 8, Weights: [-2.0, -2.0], Bias: 2\n",
      "Epoch 48/100, Total Error: 8, Weights: [-2.0, -2.0], Bias: 2\n",
      "Epoch 49/100, Total Error: 8, Weights: [-2.0, -2.0], Bias: 2\n",
      "Epoch 50/100, Total Error: 8, Weights: [-2.0, -2.0], Bias: 2\n",
      "Epoch 51/100, Total Error: 8, Weights: [-2.0, -2.0], Bias: 2\n",
      "Epoch 52/100, Total Error: 8, Weights: [-2.0, -2.0], Bias: 2\n",
      "Epoch 53/100, Total Error: 8, Weights: [-2.0, -2.0], Bias: 2\n",
      "Epoch 54/100, Total Error: 8, Weights: [-2.0, -2.0], Bias: 2\n",
      "Epoch 55/100, Total Error: 8, Weights: [-2.0, -2.0], Bias: 2\n",
      "Epoch 56/100, Total Error: 8, Weights: [-2.0, -2.0], Bias: 2\n",
      "Epoch 57/100, Total Error: 8, Weights: [-2.0, -2.0], Bias: 2\n",
      "Epoch 58/100, Total Error: 8, Weights: [-2.0, -2.0], Bias: 2\n",
      "Epoch 59/100, Total Error: 8, Weights: [-2.0, -2.0], Bias: 2\n",
      "Epoch 60/100, Total Error: 8, Weights: [-2.0, -2.0], Bias: 2\n",
      "Epoch 61/100, Total Error: 8, Weights: [-2.0, -2.0], Bias: 2\n",
      "Epoch 62/100, Total Error: 8, Weights: [-2.0, -2.0], Bias: 2\n",
      "Epoch 63/100, Total Error: 8, Weights: [-2.0, -2.0], Bias: 2\n",
      "Epoch 64/100, Total Error: 8, Weights: [-2.0, -2.0], Bias: 2\n",
      "Epoch 65/100, Total Error: 8, Weights: [-2.0, -2.0], Bias: 2\n",
      "Epoch 66/100, Total Error: 8, Weights: [-2.0, -2.0], Bias: 2\n",
      "Epoch 67/100, Total Error: 8, Weights: [-2.0, -2.0], Bias: 2\n",
      "Epoch 68/100, Total Error: 8, Weights: [-2.0, -2.0], Bias: 2\n",
      "Epoch 69/100, Total Error: 8, Weights: [-2.0, -2.0], Bias: 2\n",
      "Epoch 70/100, Total Error: 8, Weights: [-2.0, -2.0], Bias: 2\n",
      "Epoch 71/100, Total Error: 8, Weights: [-2.0, -2.0], Bias: 2\n",
      "Epoch 72/100, Total Error: 8, Weights: [-2.0, -2.0], Bias: 2\n",
      "Epoch 73/100, Total Error: 8, Weights: [-2.0, -2.0], Bias: 2\n",
      "Epoch 74/100, Total Error: 8, Weights: [-2.0, -2.0], Bias: 2\n",
      "Epoch 75/100, Total Error: 8, Weights: [-2.0, -2.0], Bias: 2\n",
      "Epoch 76/100, Total Error: 8, Weights: [-2.0, -2.0], Bias: 2\n",
      "Epoch 77/100, Total Error: 8, Weights: [-2.0, -2.0], Bias: 2\n",
      "Epoch 78/100, Total Error: 8, Weights: [-2.0, -2.0], Bias: 2\n",
      "Epoch 79/100, Total Error: 8, Weights: [-2.0, -2.0], Bias: 2\n",
      "Epoch 80/100, Total Error: 8, Weights: [-2.0, -2.0], Bias: 2\n",
      "Epoch 81/100, Total Error: 8, Weights: [-2.0, -2.0], Bias: 2\n",
      "Epoch 82/100, Total Error: 8, Weights: [-2.0, -2.0], Bias: 2\n",
      "Epoch 83/100, Total Error: 8, Weights: [-2.0, -2.0], Bias: 2\n",
      "Epoch 84/100, Total Error: 8, Weights: [-2.0, -2.0], Bias: 2\n",
      "Epoch 85/100, Total Error: 8, Weights: [-2.0, -2.0], Bias: 2\n",
      "Epoch 86/100, Total Error: 8, Weights: [-2.0, -2.0], Bias: 2\n",
      "Epoch 87/100, Total Error: 8, Weights: [-2.0, -2.0], Bias: 2\n",
      "Epoch 88/100, Total Error: 8, Weights: [-2.0, -2.0], Bias: 2\n",
      "Epoch 89/100, Total Error: 8, Weights: [-2.0, -2.0], Bias: 2\n",
      "Epoch 90/100, Total Error: 8, Weights: [-2.0, -2.0], Bias: 2\n",
      "Epoch 91/100, Total Error: 8, Weights: [-2.0, -2.0], Bias: 2\n",
      "Epoch 92/100, Total Error: 8, Weights: [-2.0, -2.0], Bias: 2\n",
      "Epoch 93/100, Total Error: 8, Weights: [-2.0, -2.0], Bias: 2\n",
      "Epoch 94/100, Total Error: 8, Weights: [-2.0, -2.0], Bias: 2\n",
      "Epoch 95/100, Total Error: 8, Weights: [-2.0, -2.0], Bias: 2\n",
      "Epoch 96/100, Total Error: 8, Weights: [-2.0, -2.0], Bias: 2\n",
      "Epoch 97/100, Total Error: 8, Weights: [-2.0, -2.0], Bias: 2\n",
      "Epoch 98/100, Total Error: 8, Weights: [-2.0, -2.0], Bias: 2\n",
      "Epoch 99/100, Total Error: 8, Weights: [-2.0, -2.0], Bias: 2\n",
      "Epoch 100/100, Total Error: 8, Weights: [-2.0, -2.0], Bias: 2\n",
      "\n",
      "Detail Predictions:\n",
      "Input 1: Prediction = 1, Actual = -1\n",
      "Input 2: Prediction = 1, Actual = 1\n",
      "Input 3: Prediction = 1, Actual = 1\n",
      "Input 4: Prediction = -1, Actual = -1\n",
      "akurasi logika 'xor' dari input biner dan output biner adalah: (0.75, [1, 1, 1, -1])\n"
     ]
    }
   ],
   "source": [
    "X = np.array([[-1, -1], [-1, 1], [1, -1], [1, 1]])\n",
    "y = np.array([-1, 1, 1, -1])\n",
    "\n",
    "perceptron = Perceptron(input_size=2, learning_rate=1, epochs=100, activation_function=bipolar_step)\n",
    "perceptron.train(X, y)\n",
    "accuracy = perceptron.evaluate(X, y)\n",
    "print(f\"akurasi logika 'xor' dari input biner dan output biner adalah: {accuracy}\")"
   ]
  },
  {
   "cell_type": "markdown",
   "metadata": {},
   "source": [
    "#### Hasil akurasi yang didapatkan dari logika XOR tidak mendapatkan 1 karena xor sendiri tidak bisa dikenali oleh garis linear diperlukan garis non linear untuk bisa mengenali logika XOR. Oleh karena itu logika XOR memelukan hidden layer untuk mengenali logika XOR."
   ]
  },
  {
   "cell_type": "markdown",
   "metadata": {},
   "source": [
    "#### Contoh XOR dengan Hidden Layer -> (X1 AND NOT X2) OR (X2 AND NOT X1) dengan bipolar."
   ]
  },
  {
   "cell_type": "code",
   "execution_count": 73,
   "metadata": {},
   "outputs": [
    {
     "name": "stdout",
     "output_type": "stream",
     "text": [
      "Epoch 1/100, Total Error: 4, Weights: [0.0, -4.0], Bias: 0\n",
      "Epoch 2/100, Total Error: 2, Weights: [2.0, -2.0], Bias: -2\n",
      "Epoch 3/100, Total Error: 0, Weights: [2.0, -2.0], Bias: -2\n",
      "\n",
      "Detail Predictions:\n",
      "Input 1: Prediction = -1, Actual = -1\n",
      "Input 2: Prediction = -1, Actual = -1\n",
      "Input 3: Prediction = 1, Actual = 1\n",
      "Input 4: Prediction = -1, Actual = -1\n",
      "Akurasi logika 'x1 and not x2' dari input bipolar dan output bipolar adalah: (1.0, [-1, -1, 1, -1])\n",
      "Epoch 1/100, Total Error: 4, Weights: [-4.0, 0.0], Bias: 0\n",
      "Epoch 2/100, Total Error: 2, Weights: [-2.0, 2.0], Bias: -2\n",
      "Epoch 3/100, Total Error: 0, Weights: [-2.0, 2.0], Bias: -2\n",
      "\n",
      "Detail Predictions:\n",
      "Input 1: Prediction = -1, Actual = -1\n",
      "Input 2: Prediction = 1, Actual = 1\n",
      "Input 3: Prediction = -1, Actual = -1\n",
      "Input 4: Prediction = -1, Actual = -1\n",
      "Akurasi logika 'x2 and not x1' dari input bipolar dan output bipolar adalah: (1.0, [-1, 1, -1, -1])\n",
      "Epoch 1/100, Total Error: 6, Weights: [2.0, 2.0], Bias: 2\n",
      "Epoch 2/100, Total Error: 0, Weights: [2.0, 2.0], Bias: 2\n",
      "\n",
      "Detail Predictions:\n",
      "Input 1: Prediction = -1, Actual = -1\n",
      "Input 2: Prediction = 1, Actual = 1\n",
      "Input 3: Prediction = 1, Actual = 1\n",
      "Input 4: Prediction = -1, Actual = -1\n",
      "Akurasi logika '(x1 and not x2) or (x2 and not x1)' dari input bipolar dan output bipolar adalah: (1.0, [-1, 1, 1, -1])\n"
     ]
    }
   ],
   "source": [
    "# (X1 AND NOT X2)\n",
    "X_1 = np.array([[-1, -1], [-1, 1], [1, -1], [1, 1]])\n",
    "y_1 = np.array([-1, -1, 1, -1])\n",
    "\n",
    "perceptron1 = Perceptron(input_size=2, learning_rate=1, epochs=100, activation_function=bipolar_step)\n",
    "perceptron1.train(X_1, y_1)\n",
    "accuracy = perceptron1.evaluate(X_1, y_1)\n",
    "print(f\"Akurasi logika 'x1 and not x2' dari input bipolar dan output bipolar adalah: {accuracy}\")\n",
    "\n",
    "# (X2 AND NOT X1)\n",
    "X_2 = np.array([[-1, -1], [-1, 1], [1, -1], [1, 1]])\n",
    "y_2 = np.array([-1, 1, -1, -1])\n",
    "\n",
    "perceptron2 = Perceptron(input_size=2, learning_rate=1, epochs=100, activation_function=bipolar_step)\n",
    "perceptron2.train(X_2, y_2)\n",
    "accuracy = perceptron2.evaluate(X_2, y_2)\n",
    "print(f\"Akurasi logika 'x2 and not x1' dari input bipolar dan output bipolar adalah: {accuracy}\")\n",
    "\n",
    "# (X1 AND NOT X2) OR (X2 AND NOT X1)\n",
    "X_3 = np.array([[-1, -1], [-1, 1], [1, -1], [-1, -1]])\n",
    "y_3 = np.array([-1, 1, 1, -1])\n",
    "\n",
    "perceptron3 = Perceptron(input_size=2, learning_rate=1, epochs=100, activation_function=bipolar_step)\n",
    "perceptron3.train(X_3, y_3)\n",
    "accuracy = perceptron3.evaluate(X_3, y_3)\n",
    "print(f\"Akurasi logika '(x1 and not x2) or (x2 and not x1)' dari input bipolar dan output bipolar adalah: {accuracy}\")"
   ]
  },
  {
   "cell_type": "markdown",
   "metadata": {},
   "source": [
    "#### Serta kembangkan bagaimana mengenali huruf berikut."
   ]
  },
  {
   "cell_type": "markdown",
   "metadata": {},
   "source": [
    "## X , O"
   ]
  },
  {
   "cell_type": "markdown",
   "metadata": {},
   "source": [
    "### Biner Biner"
   ]
  },
  {
   "cell_type": "code",
   "execution_count": 74,
   "metadata": {},
   "outputs": [
    {
     "name": "stdout",
     "output_type": "stream",
     "text": [
      "Epoch 1/100, Total Error: 2, Weights: [0.5, -0.5, -0.5, -0.5, 0.5, -0.5, 0.5, 0.0, 0.5, -0.5, -0.5, 0.0, 0.5, 0.0, -0.5, -0.5, 0.5, 0.0, 0.5, -0.5, 0.5, -0.5, -0.5, -0.5, 0.5], Bias: 0.0\n",
      "Epoch 2/100, Total Error: 0, Weights: [0.5, -0.5, -0.5, -0.5, 0.5, -0.5, 0.5, 0.0, 0.5, -0.5, -0.5, 0.0, 0.5, 0.0, -0.5, -0.5, 0.5, 0.0, 0.5, -0.5, 0.5, -0.5, -0.5, -0.5, 0.5], Bias: 0.0\n"
     ]
    },
    {
     "data": {
      "image/png": "[encoded data removed]",
      "text/plain": [
       "<Figure size 1000x600 with 1 Axes>"
      ]
     },
     "metadata": {},
     "output_type": "display_data"
    },
    {
     "name": "stdout",
     "output_type": "stream",
     "text": [
      "\n",
      "Detail Predictions:\n",
      "Input 1: Prediction = 1, Actual = 1\n",
      "Input 2: Prediction = 0, Actual = 0\n",
      "\n",
      "Accuracy: 1.00\n",
      "\n",
      "Evaluation Metrics:\n",
      "Precision: 1.00\n",
      "Recall: 1.00\n",
      "F1-Score: 1.00\n"
     ]
    }
   ],
   "source": [
    "# Data\n",
    "X = np.array([\n",
    "  [1, 0, 0, 0, 1, 0, 1, 0, 1, 0, 0, 0, 1, 0, 0, 0, 1, 0, 1, 0, 1, 0, 0, 0, 1], \n",
    "  [0, 1, 1, 1, 0, 1, 0, 0, 0, 1, 1, 0, 0, 0, 1, 1, 0, 0, 0, 1, 0, 1, 1, 1, 0], \n",
    "])\n",
    "y = np.array([1, 0])\n",
    "\n",
    "X_test = np.array([\n",
    "  [1, 0, 0, 0, 1, 0, 1, 0, 1, 0, 0, 0, 0, 0, 0, 0, 1, 0, 1, 0, 1, 0, 0, 0, 1], # X\n",
    "  [0, 1, 1, 1, 0, 1, 0, 0, 0, 1, 0, 0, 0, 0, 0, 1, 0, 0, 0, 1, 0, 1, 1, 1, 0], # O\n",
    "])\n",
    "\n",
    "# Perceptron Training and Evaluation\n",
    "perceptron = Perceptron(input_size=25, learning_rate=0.5, epochs=100, activation_function=binary_step)\n",
    "perceptron.train(X, y)\n",
    "\n",
    "# Plot Training Error\n",
    "perceptron.plot_errors()\n",
    "\n",
    "# Evaluate Model\n",
    "accuracy, predictions = perceptron.evaluate(X_test, y)\n",
    "print(f\"\\nAccuracy: {accuracy:.2f}\")\n",
    "\n",
    "# Calculate and Print Metrics\n",
    "calculate_metrics(y, predictions)"
   ]
  },
  {
   "cell_type": "markdown",
   "metadata": {},
   "source": [
    "### Biner Bipolar"
   ]
  },
  {
   "cell_type": "code",
   "execution_count": 75,
   "metadata": {},
   "outputs": [
    {
     "name": "stdout",
     "output_type": "stream",
     "text": [
      "Epoch 1/100, Total Error: 4, Weights: [1.0, -1.0, -1.0, -1.0, 1.0, -1.0, 1.0, 0.0, 1.0, -1.0, -1.0, 0.0, 1.0, 0.0, -1.0, -1.0, 1.0, 0.0, 1.0, -1.0, 1.0, -1.0, -1.0, -1.0, 1.0], Bias: 0.0\n",
      "Epoch 2/100, Total Error: 0, Weights: [1.0, -1.0, -1.0, -1.0, 1.0, -1.0, 1.0, 0.0, 1.0, -1.0, -1.0, 0.0, 1.0, 0.0, -1.0, -1.0, 1.0, 0.0, 1.0, -1.0, 1.0, -1.0, -1.0, -1.0, 1.0], Bias: 0.0\n"
     ]
    },
    {
     "data": {
      "image/png": "[encoded data removed]",
      "text/plain": [
       "<Figure size 1000x600 with 1 Axes>"
      ]
     },
     "metadata": {},
     "output_type": "display_data"
    },
    {
     "name": "stdout",
     "output_type": "stream",
     "text": [
      "\n",
      "Detail Predictions:\n",
      "Input 1: Prediction = 1, Actual = 1\n",
      "Input 2: Prediction = -1, Actual = -1\n",
      "\n",
      "Accuracy: 1.00\n",
      "\n",
      "Evaluation Metrics:\n",
      "Precision: 1.00\n",
      "Recall: 1.00\n",
      "F1-Score: 1.00\n"
     ]
    }
   ],
   "source": [
    "X = np.array([\n",
    "  [1, 0, 0, 0, 1, 0, 1, 0, 1, 0, 0, 0, 1, 0, 0, 0, 1, 0, 1, 0, 1, 0, 0, 0, 1], \n",
    "  [0, 1, 1, 1, 0, 1, 0, 0, 0, 1, 1, 0, 0, 0, 1, 1, 0, 0, 0, 1, 0, 1, 1, 1, 0], \n",
    "])\n",
    "\n",
    "y = np.array([1, -1])\n",
    "\n",
    "\n",
    "X_test = np.array([\n",
    "  [1, 0, 0, 0, 1, 0, 1, 0, 1, 0, 0, 0, 0, 0, 0, 0, 1, 0, 1, 0, 1, 0, 0, 0, 1], \n",
    "  [0, 1, 1, 1, 0, 1, 0, 0, 0, 1, 0, 0, 0, 0, 0, 1, 0, 0, 0, 1, 0, 1, 1, 1, 0], \n",
    "])\n",
    "\n",
    "# Perceptron Training and Evaluation\n",
    "perceptron = Perceptron(input_size=25, learning_rate=0.5, epochs=100, activation_function=bipolar_step)\n",
    "perceptron.train(X, y)\n",
    "\n",
    "# Plot Training Error\n",
    "perceptron.plot_errors()\n",
    "\n",
    "# Evaluate Model\n",
    "accuracy, predictions = perceptron.evaluate(X_test, y)\n",
    "print(f\"\\nAccuracy: {accuracy:.2f}\")\n",
    "\n",
    "# Calculate and Print Metrics\n",
    "calculate_metrics(y, predictions)\n"
   ]
  },
  {
   "cell_type": "markdown",
   "metadata": {},
   "source": [
    "### Bipolar Bipolar"
   ]
  },
  {
   "cell_type": "code",
   "execution_count": 76,
   "metadata": {},
   "outputs": [
    {
     "name": "stdout",
     "output_type": "stream",
     "text": [
      "Epoch 1/100, Total Error: 2, Weights: [1.0, -1.0, -1.0, -1.0, 1.0, -1.0, 1.0, -1.0, 1.0, -1.0, -1.0, -1.0, 1.0, -1.0, -1.0, -1.0, 1.0, -1.0, 1.0, -1.0, 1.0, -1.0, -1.0, -1.0, 1.0], Bias: 1.0\n",
      "Epoch 2/100, Total Error: 0, Weights: [1.0, -1.0, -1.0, -1.0, 1.0, -1.0, 1.0, -1.0, 1.0, -1.0, -1.0, -1.0, 1.0, -1.0, -1.0, -1.0, 1.0, -1.0, 1.0, -1.0, 1.0, -1.0, -1.0, -1.0, 1.0], Bias: 1.0\n"
     ]
    },
    {
     "data": {
      "image/png": "[encoded data removed]",
      "text/plain": [
       "<Figure size 1000x600 with 1 Axes>"
      ]
     },
     "metadata": {},
     "output_type": "display_data"
    },
    {
     "name": "stdout",
     "output_type": "stream",
     "text": [
      "\n",
      "Detail Predictions:\n",
      "Input 1: Prediction = 1, Actual = 1\n",
      "Input 2: Prediction = -1, Actual = -1\n",
      "\n",
      "Accuracy: 1.00\n",
      "\n",
      "Evaluation Metrics:\n",
      "Precision: 1.00\n",
      "Recall: 1.00\n",
      "F1-Score: 1.00\n"
     ]
    }
   ],
   "source": [
    "X = np.array([\n",
    "  [1, -1, -1, -1, 1, -1, 1, -1, 1, -1, -1, -1, 1, -1, -1, -1, 1, -1, 1, -1, 1, -1, -1, -1, 1], \n",
    "  [-1, 1, 1, 1, -1, 1, -1, -1, -1, 1,1, -1, -1, -1, 1,1, -1, -1, -1, 1, -1, 1, 1, 1, -1], \n",
    "])\n",
    "\n",
    "y = np.array([1, -1])\n",
    "\n",
    "\n",
    "X_test = np.array([\n",
    "  [1, -1, -1, -1, 1, -1, 1, -1, 1, -1, -1, -1, -1, -1, -1, -1, 1, -1, 1, -1, 1, -1, -1, -1, 1], \n",
    "  [-1, 1, 1, 1, -1, 1, -1, -1, -1, 1,-1, -1, -1, -1, -1,1, -1, -1, -1, 1, -1, 1, 1, 1, -1], \n",
    "])\n",
    "\n",
    "# Perceptron Training and Evaluation\n",
    "perceptron = Perceptron(input_size=25, learning_rate=0.5, epochs=100, activation_function=bipolar_step)\n",
    "perceptron.train(X, y)\n",
    "\n",
    "# Plot Training Error\n",
    "perceptron.plot_errors()\n",
    "\n",
    "# Evaluate Model\n",
    "accuracy, predictions = perceptron.evaluate(X_test, y)\n",
    "print(f\"\\nAccuracy: {accuracy:.2f}\")\n",
    "\n",
    "# Calculate and Print Metrics\n",
    "calculate_metrics(y, predictions)\n"
   ]
  }
 ],
 "metadata": {
  "kernelspec": {
   "display_name": "Python 3",
   "language": "python",
   "name": "python3"
  },
  "language_info": {
   "codemirror_mode": {
    "name": "ipython",
    "version": 3
   },
   "file_extension": ".py",
   "mimetype": "text/x-python",
   "name": "python",
   "nbconvert_exporter": "python",
   "pygments_lexer": "ipython3",
   "version": "3.12.5"
  }
 },
 "nbformat": 4,
 "nbformat_minor": 2
}
