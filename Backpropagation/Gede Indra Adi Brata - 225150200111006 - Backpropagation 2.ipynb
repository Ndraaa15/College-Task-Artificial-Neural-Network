{
 "cells": [
  {
   "cell_type": "markdown",
   "metadata": {},
   "source": [
    "#### Gede Indra Adi Brata - 225150200111006"
   ]
  },
  {
   "cell_type": "markdown",
   "metadata": {
    "id": "mOWiWi3zRWAf"
   },
   "source": [
    "Tugas :\n",
    "\n",
    "1. Ubah update weight dengan cara Backpropagation\n",
    "2. Lakukan prediksi dengan dataset iris\n",
    "3. Tunjukkan accuracy score"
   ]
  },
  {
   "cell_type": "code",
   "execution_count": 138,
   "metadata": {
    "id": "BsN72K2vRWAh"
   },
   "outputs": [],
   "source": [
    "import numpy as np\n",
    "from sklearn.metrics import accuracy_score\n",
    "from sklearn.model_selection import train_test_split\n",
    "from sklearn.preprocessing import minmax_scale\n",
    "import pandas as pd"
   ]
  },
  {
   "cell_type": "markdown",
   "metadata": {
    "id": "R9n5sw-rRWAj"
   },
   "source": [
    "Architecture"
   ]
  },
  {
   "cell_type": "code",
   "execution_count": null,
   "metadata": {
    "id": "Rbi6FZFrRWAj"
   },
   "outputs": [],
   "source": [
    "def sigmoid(x):\n",
    "    return 1 / (1 + np.exp(-x))\n",
    "\n",
    "def sigmoid_derivative(x):\n",
    "    s = sigmoid(x)\n",
    "    return s * (1 - s)\n",
    "\n",
    "def bp_fit(train_data, train_target, alpha=0.1, max_epoch=100, max_error=0.5):\n",
    "    input_dim = train_data.shape[1]   \n",
    "    hidden_dim = 3                    \n",
    "    output_dim = train_target.shape[1] \n",
    "\n",
    "    w = np.random.random((input_dim, hidden_dim))  \n",
    "    v = np.random.random((hidden_dim, output_dim))  \n",
    "    b = np.random.random(hidden_dim + output_dim) \n",
    "    epoch = 0\n",
    "    mse = float('inf')  \n",
    "\n",
    "    while epoch < max_epoch and mse > max_error:\n",
    "        mse = 0  \n",
    "        for data, target in zip(train_data, train_target):\n",
    "            # Forward pass\n",
    "            z_in = np.dot(data, w) + b[:hidden_dim]  \n",
    "            z = sigmoid(z_in)                         \n",
    "            y_in = np.dot(z, v) + b[hidden_dim:]      \n",
    "            y = sigmoid(y_in)                         \n",
    "\n",
    "            error = target - y\n",
    "            mse += np.sum(error**2)  \n",
    "\n",
    "            # Backward pass (gradient calculation)\n",
    "            delta_output = error * sigmoid_derivative(y_in)  \n",
    "            delta_hidden = np.dot(delta_output, v.T) * sigmoid_derivative(z_in)  \n",
    "\n",
    "            # Update weights and biases for output layer\n",
    "            v += alpha * np.outer(z, delta_output)  \n",
    "            b[hidden_dim:] += alpha * delta_output  \n",
    "\n",
    "            # Update weights and biases for hidden layer\n",
    "            w += alpha * np.outer(data, delta_hidden) \n",
    "            b[:hidden_dim] += alpha * delta_hidden  \n",
    "\n",
    "        mse /= len(train_data)  \n",
    "        print(f'Epoch {epoch+1}, MSE: {mse:.4f}')\n",
    "        epoch += 1\n",
    "\n",
    "    return w, v, b, mse\n",
    "\n",
    "def bp_test(w, v, b, test_data):\n",
    "    z_in = np.dot(test_data, w) + b[:w.shape[1]]  \n",
    "    z = sigmoid(z_in)                             \n",
    "    y_in = np.dot(z, v) + b[w.shape[1]:]          \n",
    "    y = sigmoid(y_in)                             \n",
    "    return y"
   ]
  },
  {
   "cell_type": "markdown",
   "metadata": {
    "id": "MKMk6_iuRWAl"
   },
   "source": [
    "One Hot Encoder"
   ]
  },
  {
   "cell_type": "code",
   "execution_count": 140,
   "metadata": {
    "id": "3gRGKy1ZRWAl"
   },
   "outputs": [],
   "source": [
    "def onehot_enc(lbl, min_val=0):\n",
    "    mi = min(lbl)\n",
    "    enc = np.full((len(lbl), max(lbl) - mi + 1), min_val, np.int8)\n",
    "    for i, x in enumerate(lbl):\n",
    "        enc[i, x - mi] = 1\n",
    "    return enc\n",
    "\n",
    "def onehot_dec(enc, mi=0):\n",
    "    return [np.argmax(e) + mi for e in enc]\n",
    "\n"
   ]
  },
  {
   "cell_type": "markdown",
   "metadata": {
    "id": "PoFqPIEsRWAm"
   },
   "source": [
    "Dataset Loading"
   ]
  },
  {
   "cell_type": "code",
   "execution_count": 141,
   "metadata": {
    "id": "86PpLKYmRWAn"
   },
   "outputs": [
    {
     "name": "stdout",
     "output_type": "stream",
     "text": [
      "Epoch 1, MSE: 0.9729\n",
      "Epoch 2, MSE: 0.6884\n",
      "Epoch 3, MSE: 0.6779\n",
      "Epoch 4, MSE: 0.6769\n",
      "Epoch 5, MSE: 0.6761\n",
      "Epoch 6, MSE: 0.6754\n",
      "Epoch 7, MSE: 0.6747\n",
      "Epoch 8, MSE: 0.6739\n",
      "Epoch 9, MSE: 0.6732\n",
      "Epoch 10, MSE: 0.6724\n",
      "Epoch 11, MSE: 0.6716\n",
      "Epoch 12, MSE: 0.6708\n",
      "Epoch 13, MSE: 0.6699\n",
      "Epoch 14, MSE: 0.6689\n",
      "Epoch 15, MSE: 0.6679\n",
      "Epoch 16, MSE: 0.6667\n",
      "Epoch 17, MSE: 0.6653\n",
      "Epoch 18, MSE: 0.6638\n",
      "Epoch 19, MSE: 0.6620\n",
      "Epoch 20, MSE: 0.6600\n",
      "Epoch 21, MSE: 0.6576\n",
      "Epoch 22, MSE: 0.6547\n",
      "Epoch 23, MSE: 0.6514\n",
      "Epoch 24, MSE: 0.6473\n",
      "Epoch 25, MSE: 0.6425\n",
      "Epoch 26, MSE: 0.6366\n",
      "Epoch 27, MSE: 0.6297\n",
      "Epoch 28, MSE: 0.6214\n",
      "Epoch 29, MSE: 0.6118\n",
      "Epoch 30, MSE: 0.6007\n",
      "Epoch 31, MSE: 0.5883\n",
      "Epoch 32, MSE: 0.5746\n",
      "Epoch 33, MSE: 0.5601\n",
      "Epoch 34, MSE: 0.5451\n",
      "Epoch 35, MSE: 0.5299\n",
      "Epoch 36, MSE: 0.5148\n",
      "Epoch 37, MSE: 0.5002\n",
      "Epoch 38, MSE: 0.4863\n"
     ]
    }
   ],
   "source": [
    "from sklearn import datasets\n",
    "\n",
    "# Load dataset and prepare data\n",
    "iris = datasets.load_iris()\n",
    "X = minmax_scale(iris.data)  # Normalize input features\n",
    "Y = onehot_enc(iris.target)  # One-hot encode the target labels\n",
    "X_train, X_test, y_train, y_test = train_test_split(X, Y, test_size=0.3, random_state=1, stratify=Y)\n",
    "\n",
    "# Train the model\n",
    "w, v, b, mse = bp_fit(X_train, y_train)"
   ]
  },
  {
   "cell_type": "markdown",
   "metadata": {
    "id": "sIp_tEIGRWAn"
   },
   "source": [
    "Prediction and Accuracy Report"
   ]
  },
  {
   "cell_type": "code",
   "execution_count": 142,
   "metadata": {
    "id": "IShdgJvZRWAo"
   },
   "outputs": [
    {
     "name": "stdout",
     "output_type": "stream",
     "text": [
      "Accuracy: 66.67%\n"
     ]
    }
   ],
   "source": [
    "predict = bp_test(w, v, b, X_test)\n",
    "predict = onehot_dec(predict)\n",
    "y_test = onehot_dec(y_test)\n",
    "accuracy = accuracy_score(predict, y_test)\n",
    "print(f'Accuracy: {accuracy * 100:.2f}%')"
   ]
  }
 ],
 "metadata": {
  "colab": {
   "provenance": []
  },
  "kernelspec": {
   "display_name": "Python 3",
   "language": "python",
   "name": "python3"
  },
  "language_info": {
   "codemirror_mode": {
    "name": "ipython",
    "version": 3
   },
   "file_extension": ".py",
   "mimetype": "text/x-python",
   "name": "python",
   "nbconvert_exporter": "python",
   "pygments_lexer": "ipython3",
   "version": "3.12.5"
  }
 },
 "nbformat": 4,
 "nbformat_minor": 0
}
