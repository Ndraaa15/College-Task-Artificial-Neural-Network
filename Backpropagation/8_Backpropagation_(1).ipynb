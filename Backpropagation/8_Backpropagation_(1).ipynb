{
 "cells": [
  {
   "cell_type": "markdown",
   "metadata": {
    "id": "jvonXDMsQP1k"
   },
   "source": [
    "# Bab 8 Backpropagation (1)"
   ]
  },
  {
   "cell_type": "markdown",
   "metadata": {
    "id": "sHySaU_QQPg1"
   },
   "source": [
    "## Praktikum"
   ]
  },
  {
   "cell_type": "markdown",
   "metadata": {
    "id": "VwJi4bWUV7MB"
   },
   "source": [
    "### a) Fungsi *Binary Encoding* dan *Decoding*\n",
    "\n",
    "Tulis kode ke dalam *cell* di bawah ini:"
   ]
  },
  {
   "cell_type": "code",
   "execution_count": 12,
   "metadata": {
    "id": "J8cvPULpV-kS"
   },
   "outputs": [],
   "source": [
    "def bin_enc(lbl):\n",
    "  mi = min(lbl)\n",
    "  length = len(bin(max(lbl) - mi + 1)[2:])\n",
    "  enc = []\n",
    "  for i in lbl:\n",
    "    b = bin(i - mi)[2:].zfill(length)\n",
    "    enc.append([int(n) for n in b])\n",
    "  \n",
    "  return enc\n",
    "\n",
    "def bin_dec(enc, mi=0):\n",
    "  lbl = []\n",
    "  for e in enc:\n",
    "    rounded = [int(round(x)) for x in e]\n",
    "    string = ''.join(str(x) for x in rounded)\n",
    "    num = int(string, 2) + mi\n",
    "    lbl.append(num)\n",
    "  \n",
    "  return lbl"
   ]
  },
  {
   "cell_type": "markdown",
   "metadata": {
    "id": "Scbwoj7YZHvR"
   },
   "source": [
    "### b) Percobaan *Binary Encoding* dan *Decoding*\n",
    "\n",
    "Tulis kode ke dalam *cell* di bawah ini:"
   ]
  },
  {
   "cell_type": "code",
   "execution_count": 13,
   "metadata": {
    "id": "MVUsMCJqZOaX"
   },
   "outputs": [
    {
     "name": "stdout",
     "output_type": "stream",
     "text": [
      "[[0, 0, 0], [0, 0, 1], [0, 1, 0], [0, 1, 1]]\n",
      "[1, 2, 3, 4]\n"
     ]
    }
   ],
   "source": [
    "labels = 1, 2, 3, 4\n",
    "enc = bin_enc(labels)\n",
    "dec = bin_dec(enc, min(labels))\n",
    "print(enc) \n",
    "print(dec)"
   ]
  },
  {
   "cell_type": "markdown",
   "metadata": {
    "id": "zGdWcpnXYliK"
   },
   "source": [
    "### c) Fungsi *One-hot Encoding* dan *Decoding*\n",
    "\n",
    "Tulis kode ke dalam *cell* di bawah ini:\n"
   ]
  },
  {
   "cell_type": "code",
   "execution_count": 14,
   "metadata": {
    "id": "-dpspq1FYpKV"
   },
   "outputs": [],
   "source": [
    "import numpy as np\n",
    "def onehot_enc(lbl, min_val=0):\n",
    "  mi = min(lbl)\n",
    "  enc = np.full((len(lbl), max(lbl) - mi + 1), min_val, np.int8)\n",
    "  for i, x in enumerate(lbl):\n",
    "    enc[i, x - mi] = 1\n",
    "  \n",
    "  return enc\n",
    "\n",
    "def onehot_dec(enc, mi=0):\n",
    "  return [np.argmax(e) + mi for e in enc]"
   ]
  },
  {
   "cell_type": "markdown",
   "metadata": {
    "id": "YYhCRilPY-IX"
   },
   "source": [
    "### d) Percobaan *One Hot Encoding* dan *Decoding*\n",
    "\n",
    "Tulis kode ke dalam *cell* di bawah ini:"
   ]
  },
  {
   "cell_type": "code",
   "execution_count": 15,
   "metadata": {
    "id": "XcemATbBaDAV"
   },
   "outputs": [
    {
     "name": "stdout",
     "output_type": "stream",
     "text": [
      "[[1 0 0 0]\n",
      " [0 1 0 0]\n",
      " [0 0 1 0]\n",
      " [0 0 0 1]]\n",
      "[1, 2, 3, 4]\n"
     ]
    }
   ],
   "source": [
    "labels = 1, 2, 3, 4\n",
    "enc = onehot_enc(labels)\n",
    "dec = onehot_dec(enc, min(labels))\n",
    "print(enc)\n",
    "print(dec)"
   ]
  },
  {
   "cell_type": "markdown",
   "metadata": {
    "id": "EdlqM27eQTUj"
   },
   "source": [
    "### e) Fungsi Aktivasi Sigmoid dan Derivatifnya\n",
    "\n",
    "Tulis kode ke dalam *cell* di bawah ini:"
   ]
  },
  {
   "cell_type": "code",
   "execution_count": 16,
   "metadata": {
    "id": "9zxB5G6cP5ml"
   },
   "outputs": [],
   "source": [
    "def sig(X):\n",
    "  return [1 / (1 + np.exp(-x)) for x in X]\n",
    "\n",
    "def sigd(X):\n",
    "  output = []\n",
    "  for i, x in enumerate(X):\n",
    "    s = sig([x])[0]\n",
    "    output.append(s * (1 - s))\n",
    "  \n",
    "  return output"
   ]
  },
  {
   "cell_type": "code",
   "execution_count": 17,
   "metadata": {},
   "outputs": [
    {
     "data": {
      "text/html": [
       "<div>\n",
       "<style scoped>\n",
       "    .dataframe tbody tr th:only-of-type {\n",
       "        vertical-align: middle;\n",
       "    }\n",
       "\n",
       "    .dataframe tbody tr th {\n",
       "        vertical-align: top;\n",
       "    }\n",
       "\n",
       "    .dataframe thead th {\n",
       "        text-align: right;\n",
       "    }\n",
       "</style>\n",
       "<table border=\"1\" class=\"dataframe\">\n",
       "  <thead>\n",
       "    <tr style=\"text-align: right;\">\n",
       "      <th></th>\n",
       "      <th>sepal.length</th>\n",
       "      <th>sepal.width</th>\n",
       "      <th>petal.length</th>\n",
       "      <th>petal.width</th>\n",
       "      <th>variety</th>\n",
       "    </tr>\n",
       "  </thead>\n",
       "  <tbody>\n",
       "    <tr>\n",
       "      <th>145</th>\n",
       "      <td>6.7</td>\n",
       "      <td>3.0</td>\n",
       "      <td>5.2</td>\n",
       "      <td>2.3</td>\n",
       "      <td>Virginica</td>\n",
       "    </tr>\n",
       "    <tr>\n",
       "      <th>146</th>\n",
       "      <td>6.3</td>\n",
       "      <td>2.5</td>\n",
       "      <td>5.0</td>\n",
       "      <td>1.9</td>\n",
       "      <td>Virginica</td>\n",
       "    </tr>\n",
       "    <tr>\n",
       "      <th>147</th>\n",
       "      <td>6.5</td>\n",
       "      <td>3.0</td>\n",
       "      <td>5.2</td>\n",
       "      <td>2.0</td>\n",
       "      <td>Virginica</td>\n",
       "    </tr>\n",
       "    <tr>\n",
       "      <th>148</th>\n",
       "      <td>6.2</td>\n",
       "      <td>3.4</td>\n",
       "      <td>5.4</td>\n",
       "      <td>2.3</td>\n",
       "      <td>Virginica</td>\n",
       "    </tr>\n",
       "    <tr>\n",
       "      <th>149</th>\n",
       "      <td>5.9</td>\n",
       "      <td>3.0</td>\n",
       "      <td>5.1</td>\n",
       "      <td>1.8</td>\n",
       "      <td>Virginica</td>\n",
       "    </tr>\n",
       "  </tbody>\n",
       "</table>\n",
       "</div>"
      ],
      "text/plain": [
       "     sepal.length  sepal.width  petal.length  petal.width    variety\n",
       "145           6.7          3.0           5.2          2.3  Virginica\n",
       "146           6.3          2.5           5.0          1.9  Virginica\n",
       "147           6.5          3.0           5.2          2.0  Virginica\n",
       "148           6.2          3.4           5.4          2.3  Virginica\n",
       "149           5.9          3.0           5.1          1.8  Virginica"
      ]
     },
     "execution_count": 17,
     "metadata": {},
     "output_type": "execute_result"
    }
   ],
   "source": [
    "import pandas as pd\n",
    "\n",
    "df = pd.read_csv(\"iris.csv\")\n",
    "df.tail()"
   ]
  },
  {
   "cell_type": "code",
   "execution_count": 18,
   "metadata": {},
   "outputs": [
    {
     "data": {
      "text/plain": [
       "0         Setosa\n",
       "1         Setosa\n",
       "2         Setosa\n",
       "3         Setosa\n",
       "4         Setosa\n",
       "         ...    \n",
       "145    Virginica\n",
       "146    Virginica\n",
       "147    Virginica\n",
       "148    Virginica\n",
       "149    Virginica\n",
       "Name: variety, Length: 150, dtype: object"
      ]
     },
     "execution_count": 18,
     "metadata": {},
     "output_type": "execute_result"
    }
   ],
   "source": [
    "kelas = df[\"variety\"]\n",
    "kelas"
   ]
  },
  {
   "cell_type": "code",
   "execution_count": 28,
   "metadata": {},
   "outputs": [
    {
     "data": {
      "text/plain": [
       "[[0, 0], [0, 0], [0, 0], [0, 0], [0, 0]]"
      ]
     },
     "execution_count": 28,
     "metadata": {},
     "output_type": "execute_result"
    }
   ],
   "source": [
    "def bin_enc_str(strings):\n",
    "  unique_strings = list(set(strings))\n",
    "  unique_strings.sort()\n",
    "  str_to_bin = {s: bin(i)[2:].zfill(len(bin(len(unique_strings) - 1)[2:])) for i, s in enumerate(unique_strings)}\n",
    "  enc = [[int(bit) for bit in str_to_bin[s]] for s in strings]\n",
    "  return enc, str_to_bin\n",
    "\n",
    "def bin_dec_str(enc, str_to_bin):\n",
    "  bin_to_str = {v: k for k, v in str_to_bin.items()}\n",
    "  dec = [''.join(map(str, bits)) for bits in enc]\n",
    "  return [bin_to_str[b] for b in dec]\n",
    "\n",
    "\n",
    "bin_enc_kelas, str_to_bin = bin_enc_str(kelas)\n",
    "bin_enc_kelas[0:5]"
   ]
  },
  {
   "cell_type": "code",
   "execution_count": 29,
   "metadata": {},
   "outputs": [
    {
     "data": {
      "text/plain": [
       "['Setosa', 'Setosa', 'Setosa', 'Setosa', 'Setosa']"
      ]
     },
     "execution_count": 29,
     "metadata": {},
     "output_type": "execute_result"
    }
   ],
   "source": [
    "bin_dec_kelas = bin_dec_str(bin_enc_kelas, str_to_bin)\n",
    "bin_dec_kelas[0:5]"
   ]
  },
  {
   "cell_type": "code",
   "execution_count": 30,
   "metadata": {},
   "outputs": [
    {
     "data": {
      "text/plain": [
       "array([[1, 0, 0],\n",
       "       [1, 0, 0],\n",
       "       [1, 0, 0],\n",
       "       [1, 0, 0],\n",
       "       [1, 0, 0]])"
      ]
     },
     "execution_count": 30,
     "metadata": {},
     "output_type": "execute_result"
    }
   ],
   "source": [
    "def onehot_enc_str(strings):\n",
    "  unique_strings = sorted(set(strings))\n",
    "  str_to_index = {s: i for i, s in enumerate(unique_strings)}\n",
    "  enc = np.zeros((len(strings), len(unique_strings)), dtype=int)\n",
    "  for i, s in enumerate(strings):\n",
    "    enc[i, str_to_index[s]] = 1\n",
    "  return enc, str_to_index\n",
    "\n",
    "def onehot_dec_str(enc, str_to_index):\n",
    "  index_to_str = {i: s for s, i in str_to_index.items()}\n",
    "  dec = [index_to_str[np.argmax(row)] for row in enc]\n",
    "  return dec\n",
    "\n",
    "\n",
    "one_hot_enc_kelas, str_to_index = onehot_enc_str(kelas)\n",
    "one_hot_enc_kelas[0:5]"
   ]
  },
  {
   "cell_type": "code",
   "execution_count": 31,
   "metadata": {},
   "outputs": [
    {
     "data": {
      "text/plain": [
       "['Setosa', 'Setosa', 'Setosa', 'Setosa', 'Setosa']"
      ]
     },
     "execution_count": 31,
     "metadata": {},
     "output_type": "execute_result"
    }
   ],
   "source": [
    "one_hot_dec_kelas = onehot_dec_str(one_hot_enc_kelas, str_to_index)\n",
    "one_hot_dec_kelas[0:5]"
   ]
  }
 ],
 "metadata": {
  "colab": {
   "provenance": [],
   "toc_visible": true
  },
  "kernelspec": {
   "display_name": "Python 3",
   "name": "python3"
  },
  "language_info": {
   "codemirror_mode": {
    "name": "ipython",
    "version": 3
   },
   "file_extension": ".py",
   "mimetype": "text/x-python",
   "name": "python",
   "nbconvert_exporter": "python",
   "pygments_lexer": "ipython3",
   "version": "3.12.5"
  }
 },
 "nbformat": 4,
 "nbformat_minor": 0
}
