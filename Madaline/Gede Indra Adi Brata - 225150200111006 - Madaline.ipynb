{
 "cells": [
  {
   "cell_type": "code",
   "execution_count": 1,
   "metadata": {},
   "outputs": [],
   "source": [
    "import numpy as np"
   ]
  },
  {
   "cell_type": "markdown",
   "metadata": {},
   "source": [
    "### Madaline Rule 1"
   ]
  },
  {
   "cell_type": "code",
   "execution_count": 2,
   "metadata": {},
   "outputs": [],
   "source": [
    "def aktivasi(x):\n",
    "  if x < 0:\n",
    "    return -1\n",
    "  else:\n",
    "    return 1"
   ]
  },
  {
   "cell_type": "code",
   "execution_count": 3,
   "metadata": {},
   "outputs": [],
   "source": [
    "def train(train_data, train_target, alpha=0.1, max_epoch=10):\n",
    "  w = np.random.random((2,2))\n",
    "  v = np.array([0.5,0.5])\n",
    "  b = np.random.random(2)\n",
    "  b = np.append(b,0.5)\n",
    "  epoch = 0\n",
    "  v_aktivasi = np.vectorize(aktivasi)\n",
    "  weight_updated = True\n",
    "  while weight_updated == True and epoch < max_epoch:\n",
    "    weight_updated = False\n",
    "    for data, target in zip(train_data, train_target):\n",
    "      z_in = np.dot(data, w)\n",
    "      z_in = z_in + b[:-1]\n",
    "      z = v_aktivasi(z_in)\n",
    "      y_in = np.dot(z, v) + b[-1]\n",
    "      y = v_aktivasi(y_in)\n",
    "      if y != target:\n",
    "        weight_updated = True\n",
    "        if target == 1:\n",
    "          index = np.argmin(np.abs(z_in))\n",
    "          b[index] = b[index] + alpha * (1 - z_in[index])\n",
    "          w[:, index] = w[:, index] + alpha * (1 - z_in[index]) * data\n",
    "        elif target == -1:\n",
    "          index = np.where(z_in > 0)[0]\n",
    "          if len(index) == 1:\n",
    "            index = index[0]\n",
    "          b[index] = b[index] + alpha * (-1 - z_in[index])\n",
    "          w[:, index] = w[:, index] + alpha * (-1 - z_in[index]) * data\n",
    "    epoch = epoch + 1\n",
    "  return (w, v, b)\n"
   ]
  },
  {
   "cell_type": "code",
   "execution_count": 4,
   "metadata": {},
   "outputs": [],
   "source": [
    "def test(w,v,b,test_data):\n",
    "  v_aktivasi = np.vectorize(aktivasi)\n",
    "  z_in = np.dot(test_data, w)\n",
    "  z_in = z_in + b[:-1]\n",
    "  z = v_aktivasi(z_in)\n",
    "  y_in = np.dot(z, v) + b[-1]\n",
    "  y = v_aktivasi(y_in)\n",
    "  return y"
   ]
  },
  {
   "cell_type": "code",
   "execution_count": 5,
   "metadata": {},
   "outputs": [],
   "source": [
    "def calc_accuracy(a, b):\n",
    "  s = [1 if a[i] == b[i] else 0 for i in range(len(a))]\n",
    "  return sum(s) / len(a)"
   ]
  },
  {
   "cell_type": "code",
   "execution_count": 7,
   "metadata": {},
   "outputs": [
    {
     "name": "stdout",
     "output_type": "stream",
     "text": [
      "Output: [ 1 -1 -1 -1]\n",
      "Target: [ 1 -1 -1 -1]\n",
      "Accuracy: 1.0\n"
     ]
    }
   ],
   "source": [
    "data = np.array([[1,1],[1,-1],[-1,1],[-1,-1]])\n",
    "target = np.array([1,-1,-1,-1])\n",
    "(w,v,b) = train(data,target,alpha=0.8,max_epoch=10)\n",
    "output = test(w,v,b,data)\n",
    "accuracy = calc_accuracy(output, target)\n",
    "print('Output:', output)\n",
    "print('Target:', target)\n",
    "print('Accuracy:', accuracy)"
   ]
  },
  {
   "cell_type": "code",
   "execution_count": 8,
   "metadata": {},
   "outputs": [
    {
     "name": "stdout",
     "output_type": "stream",
     "text": [
      "Output: [ 1  1  1 -1]\n",
      "Target: [ 1  1  1 -1]\n",
      "Accuracy: 1.0\n"
     ]
    }
   ],
   "source": [
    "data = np.array([[1,1],[1,-1],[-1,1],[-1,-1]])\n",
    "target = np.array([1,1,1,-1])\n",
    "(w,v,b) = train(data,target,alpha=0.2,max_epoch=10)\n",
    "output = test(w,v,b,data)\n",
    "accuracy = calc_accuracy(output, target)\n",
    "print('Output:', output)\n",
    "print('Target:', target)\n",
    "print('Accuracy:', accuracy)"
   ]
  },
  {
   "cell_type": "markdown",
   "metadata": {},
   "source": [
    "### Madaline Rule 2"
   ]
  },
  {
   "cell_type": "code",
   "execution_count": null,
   "metadata": {},
   "outputs": [],
   "source": []
  },
  {
   "cell_type": "markdown",
   "metadata": {},
   "source": [
    "### Madaline Rule 3"
   ]
  },
  {
   "cell_type": "code",
   "execution_count": null,
   "metadata": {},
   "outputs": [],
   "source": []
  }
 ],
 "metadata": {
  "kernelspec": {
   "display_name": "Python 3",
   "language": "python",
   "name": "python3"
  },
  "language_info": {
   "codemirror_mode": {
    "name": "ipython",
    "version": 3
   },
   "file_extension": ".py",
   "mimetype": "text/x-python",
   "name": "python",
   "nbconvert_exporter": "python",
   "pygments_lexer": "ipython3",
   "version": "3.12.5"
  }
 },
 "nbformat": 4,
 "nbformat_minor": 2
}
